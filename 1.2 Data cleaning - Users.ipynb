{
 "cells": [
  {
   "cell_type": "markdown",
   "id": "1446b846",
   "metadata": {},
   "source": [
    "Dataset cleaning"
   ]
  },
  {
   "cell_type": "code",
   "execution_count": null,
   "id": "e1ba1a87",
   "metadata": {},
   "outputs": [],
   "source": []
  },
  {
   "cell_type": "code",
   "execution_count": null,
   "id": "803ea984",
   "metadata": {},
   "outputs": [],
   "source": [
    "#The aim of this first step is to clean the Dataset before to start working on it."
   ]
  },
  {
   "cell_type": "markdown",
   "id": "a5b1173d",
   "metadata": {},
   "source": [
    "# 1- Import Libraries"
   ]
  },
  {
   "cell_type": "code",
   "execution_count": 2,
   "id": "e406a7d6",
   "metadata": {},
   "outputs": [],
   "source": [
    "import pandas as pd\n",
    "import numpy as np\n",
    "import os, sys\n",
    "import math\n",
    "import re\n",
    "\n",
    "\n",
    "import warnings\n",
    "warnings.filterwarnings('ignore')\n",
    "\n",
    "\n",
    "# Dataset has 271361 rows, jupyter notebook is crashing \n",
    "#if I don't limit the number of rows displayed below.\n",
    "pd.set_option('display.max_columns', 1000) \n",
    "pd.set_option('display.max_rows', 1000)\n",
    "pd.options.display.max_columns = 1000"
   ]
  },
  {
   "cell_type": "markdown",
   "id": "c97cd53a",
   "metadata": {},
   "source": [
    "# 2  . Import Data"
   ]
  },
  {
   "cell_type": "code",
   "execution_count": 3,
   "id": "d862e5a0",
   "metadata": {},
   "outputs": [
    {
     "data": {
      "text/html": [
       "<div>\n",
       "<style scoped>\n",
       "    .dataframe tbody tr th:only-of-type {\n",
       "        vertical-align: middle;\n",
       "    }\n",
       "\n",
       "    .dataframe tbody tr th {\n",
       "        vertical-align: top;\n",
       "    }\n",
       "\n",
       "    .dataframe thead th {\n",
       "        text-align: right;\n",
       "    }\n",
       "</style>\n",
       "<table border=\"1\" class=\"dataframe\">\n",
       "  <thead>\n",
       "    <tr style=\"text-align: right;\">\n",
       "      <th></th>\n",
       "      <th>User-ID</th>\n",
       "      <th>Location</th>\n",
       "      <th>Age</th>\n",
       "    </tr>\n",
       "  </thead>\n",
       "  <tbody>\n",
       "    <tr>\n",
       "      <th>0</th>\n",
       "      <td>1</td>\n",
       "      <td>nyc, new york, usa</td>\n",
       "      <td>NaN</td>\n",
       "    </tr>\n",
       "    <tr>\n",
       "      <th>1</th>\n",
       "      <td>2</td>\n",
       "      <td>stockton, california, usa</td>\n",
       "      <td>18.0</td>\n",
       "    </tr>\n",
       "    <tr>\n",
       "      <th>2</th>\n",
       "      <td>3</td>\n",
       "      <td>moscow, yukon territory, russia</td>\n",
       "      <td>NaN</td>\n",
       "    </tr>\n",
       "    <tr>\n",
       "      <th>3</th>\n",
       "      <td>4</td>\n",
       "      <td>porto, v.n.gaia, portugal</td>\n",
       "      <td>17.0</td>\n",
       "    </tr>\n",
       "    <tr>\n",
       "      <th>4</th>\n",
       "      <td>5</td>\n",
       "      <td>farnborough, hants, united kingdom</td>\n",
       "      <td>NaN</td>\n",
       "    </tr>\n",
       "  </tbody>\n",
       "</table>\n",
       "</div>"
      ],
      "text/plain": [
       "   User-ID                            Location   Age\n",
       "0        1                  nyc, new york, usa   NaN\n",
       "1        2           stockton, california, usa  18.0\n",
       "2        3     moscow, yukon territory, russia   NaN\n",
       "3        4           porto, v.n.gaia, portugal  17.0\n",
       "4        5  farnborough, hants, united kingdom   NaN"
      ]
     },
     "execution_count": 3,
     "metadata": {},
     "output_type": "execute_result"
    }
   ],
   "source": [
    "data_users = pd.read_csv('users.csv')\n",
    "data_users.head()"
   ]
  },
  {
   "cell_type": "markdown",
   "id": "6acb6727",
   "metadata": {},
   "source": [
    "# 3  . Data Exploring"
   ]
  },
  {
   "cell_type": "raw",
   "id": "84145306",
   "metadata": {},
   "source": [
    "Explore and check the dataset, it is necessary to know your dataset before starting cleaning or \n",
    "dropping information."
   ]
  },
  {
   "cell_type": "code",
   "execution_count": 4,
   "id": "eb2934b6",
   "metadata": {},
   "outputs": [
    {
     "data": {
      "text/plain": [
       "(278858, 3)"
      ]
     },
     "execution_count": 4,
     "metadata": {},
     "output_type": "execute_result"
    }
   ],
   "source": [
    "# number of rows and columns\n",
    "data_users.shape"
   ]
  },
  {
   "cell_type": "code",
   "execution_count": 5,
   "id": "43fda9df",
   "metadata": {},
   "outputs": [
    {
     "data": {
      "text/plain": [
       "User-ID       int64\n",
       "Location     object\n",
       "Age         float64\n",
       "dtype: object"
      ]
     },
     "execution_count": 5,
     "metadata": {},
     "output_type": "execute_result"
    }
   ],
   "source": [
    "# types of datas in each columns\n",
    "data_users.dtypes"
   ]
  },
  {
   "cell_type": "code",
   "execution_count": 6,
   "id": "c60d1643",
   "metadata": {},
   "outputs": [
    {
     "data": {
      "text/plain": [
       "<bound method DataFrame.info of         User-ID                            Location   Age\n",
       "0             1                  nyc, new york, usa   NaN\n",
       "1             2           stockton, california, usa  18.0\n",
       "2             3     moscow, yukon territory, russia   NaN\n",
       "3             4           porto, v.n.gaia, portugal  17.0\n",
       "4             5  farnborough, hants, united kingdom   NaN\n",
       "...         ...                                 ...   ...\n",
       "278853   278854               portland, oregon, usa   NaN\n",
       "278854   278855  tacoma, washington, united kingdom  50.0\n",
       "278855   278856           brampton, ontario, canada   NaN\n",
       "278856   278857           knoxville, tennessee, usa   NaN\n",
       "278857   278858                dublin, n/a, ireland   NaN\n",
       "\n",
       "[278858 rows x 3 columns]>"
      ]
     },
     "execution_count": 6,
     "metadata": {},
     "output_type": "execute_result"
    }
   ],
   "source": [
    "data_users.info"
   ]
  },
  {
   "cell_type": "code",
   "execution_count": 7,
   "id": "e41fe966",
   "metadata": {},
   "outputs": [
    {
     "data": {
      "text/plain": [
       "Index(['User-ID', 'Location', 'Age'], dtype='object')"
      ]
     },
     "execution_count": 7,
     "metadata": {},
     "output_type": "execute_result"
    }
   ],
   "source": [
    "# list of the column's names\n",
    "data_users.columns"
   ]
  },
  {
   "cell_type": "code",
   "execution_count": 8,
   "id": "831f21dd",
   "metadata": {},
   "outputs": [
    {
     "data": {
      "text/plain": [
       "User-ID          0\n",
       "Location         0\n",
       "Age         110762\n",
       "dtype: int64"
      ]
     },
     "execution_count": 8,
     "metadata": {},
     "output_type": "execute_result"
    }
   ],
   "source": [
    "# Looking for null datas\n",
    "data_users.isna().sum()"
   ]
  },
  {
   "cell_type": "markdown",
   "id": "e939d0f4",
   "metadata": {},
   "source": [
    "# 4  . Data Cleaning"
   ]
  },
  {
   "cell_type": "raw",
   "id": "67cb2df2",
   "metadata": {},
   "source": [
    "Clean the column name by removing the symbols, setting the names in the same format \n",
    "(lower case and replace space by _ etc...)"
   ]
  },
  {
   "cell_type": "code",
   "execution_count": 14,
   "id": "3fdef795",
   "metadata": {},
   "outputs": [],
   "source": [
    "data_users.columns = [column.lower().replace('-', '_') for column in data_users.columns]"
   ]
  },
  {
   "cell_type": "code",
   "execution_count": 15,
   "id": "6a9f60a9",
   "metadata": {},
   "outputs": [
    {
     "data": {
      "text/plain": [
       "['user_id', 'location', 'age']"
      ]
     },
     "execution_count": 15,
     "metadata": {},
     "output_type": "execute_result"
    }
   ],
   "source": [
    "# Check the column \n",
    "list(data_users.columns)"
   ]
  },
  {
   "cell_type": "code",
   "execution_count": 16,
   "id": "0e16f700",
   "metadata": {},
   "outputs": [
    {
     "data": {
      "text/plain": [
       "user_id          0\n",
       "location         0\n",
       "age         110762\n",
       "dtype: int64"
      ]
     },
     "execution_count": 16,
     "metadata": {},
     "output_type": "execute_result"
    }
   ],
   "source": [
    "#null data \n",
    "data_users.isna().sum()"
   ]
  },
  {
   "cell_type": "markdown",
   "id": "1ba8c6a5",
   "metadata": {},
   "source": [
    "# 5  . Save data"
   ]
  },
  {
   "cell_type": "code",
   "execution_count": null,
   "id": "b1eec367",
   "metadata": {},
   "outputs": [],
   "source": [
    "## Saving the new clean data set under 'books_final' as a new csv file.\n",
    "users_final.to_csv(r'C:\\Users\\ASUS\\Data Analytics\\Project_Final\\users_final.csv')"
   ]
  }
 ],
 "metadata": {
  "kernelspec": {
   "display_name": "Python 3",
   "language": "python",
   "name": "python3"
  },
  "language_info": {
   "codemirror_mode": {
    "name": "ipython",
    "version": 3
   },
   "file_extension": ".py",
   "mimetype": "text/x-python",
   "name": "python",
   "nbconvert_exporter": "python",
   "pygments_lexer": "ipython3",
   "version": "3.8.8"
  },
  "toc": {
   "base_numbering": 1,
   "nav_menu": {},
   "number_sections": true,
   "sideBar": true,
   "skip_h1_title": true,
   "title_cell": "Table of Contents",
   "title_sidebar": "Contents",
   "toc_cell": false,
   "toc_position": {},
   "toc_section_display": true,
   "toc_window_display": true
  },
  "varInspector": {
   "cols": {
    "lenName": 16,
    "lenType": 16,
    "lenVar": 40
   },
   "kernels_config": {
    "python": {
     "delete_cmd_postfix": "",
     "delete_cmd_prefix": "del ",
     "library": "var_list.py",
     "varRefreshCmd": "print(var_dic_list())"
    },
    "r": {
     "delete_cmd_postfix": ") ",
     "delete_cmd_prefix": "rm(",
     "library": "var_list.r",
     "varRefreshCmd": "cat(var_dic_list()) "
    }
   },
   "types_to_exclude": [
    "module",
    "function",
    "builtin_function_or_method",
    "instance",
    "_Feature"
   ],
   "window_display": false
  }
 },
 "nbformat": 4,
 "nbformat_minor": 5
}
