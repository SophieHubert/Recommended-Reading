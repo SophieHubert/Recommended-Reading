{
 "cells": [
  {
   "cell_type": "markdown",
   "id": "e2bee67b",
   "metadata": {},
   "source": [
    " _Perform Exploratory Data Analysis_ "
   ]
  },
  {
   "cell_type": "markdown",
   "id": "ae5ea142",
   "metadata": {},
   "source": [
    "## . _Import Libraries_"
   ]
  },
  {
   "cell_type": "code",
   "execution_count": 6,
   "id": "e3ffd778",
   "metadata": {},
   "outputs": [],
   "source": [
    "# Libraries neeeded to work on the data\n",
    "import math\n",
    "import matplotlib.pyplot as plt\n",
    "import numpy as np\n",
    "import os\n",
    "import pandas as pd\n",
    "import pylab as pl\n",
    "import scipy.stats as stats\n",
    "import seaborn as sns\n",
    "import pickle\n",
    "from sklearn.preprocessing import OneHotEncoder, Normalizer, LabelEncoder\n",
    "from sklearn.linear_model import LinearRegression\n",
    "from sklearn.metrics import r2_score, mean_squared_error\n",
    "from sklearn.model_selection import train_test_split\n",
    "from sklearn.linear_model import LogisticRegression\n",
    "from sklearn.metrics import confusion_matrix\n",
    "from sklearn.metrics import r2_score, mean_squared_error, mean_absolute_error"
   ]
  },
  {
   "cell_type": "code",
   "execution_count": 7,
   "id": "324f253a",
   "metadata": {},
   "outputs": [],
   "source": [
    "import warnings\n",
    "warnings.filterwarnings('ignore')\n",
    "\n",
    "\n",
    "# Dataset has 271361 rows, jupyter notebook is crashing \n",
    "#if I don't limit the number of rows displayed below.\n",
    "pd.set_option('display.max_columns', 1000) \n",
    "pd.set_option('display.max_rows', 1000)\n",
    "pd.options.display.max_columns = 1000"
   ]
  },
  {
   "cell_type": "markdown",
   "id": "a54fcd92",
   "metadata": {},
   "source": [
    "## . _Import data_"
   ]
  },
  {
   "cell_type": "code",
   "execution_count": 8,
   "id": "02e5f7cb",
   "metadata": {},
   "outputs": [],
   "source": [
    "df1 = pd.read_csv('books_final.csv')"
   ]
  },
  {
   "cell_type": "code",
   "execution_count": 9,
   "id": "82e58a96",
   "metadata": {},
   "outputs": [],
   "source": [
    "df2 = pd.read_csv('ratings_final.csv')"
   ]
  },
  {
   "cell_type": "code",
   "execution_count": 10,
   "id": "11951d05",
   "metadata": {
    "scrolled": true
   },
   "outputs": [],
   "source": [
    "df3 = pd.read_csv('users_final2.csv')"
   ]
  },
  {
   "cell_type": "markdown",
   "id": "cb587767",
   "metadata": {},
   "source": [
    "### _Merge_"
   ]
  },
  {
   "cell_type": "code",
   "execution_count": 11,
   "id": "c086e436",
   "metadata": {},
   "outputs": [],
   "source": [
    "data_m = df1.merge(df2,on='isbn')"
   ]
  },
  {
   "cell_type": "code",
   "execution_count": 12,
   "id": "fe51c0e4",
   "metadata": {},
   "outputs": [
    {
     "data": {
      "text/html": [
       "<div>\n",
       "<style scoped>\n",
       "    .dataframe tbody tr th:only-of-type {\n",
       "        vertical-align: middle;\n",
       "    }\n",
       "\n",
       "    .dataframe tbody tr th {\n",
       "        vertical-align: top;\n",
       "    }\n",
       "\n",
       "    .dataframe thead th {\n",
       "        text-align: right;\n",
       "    }\n",
       "</style>\n",
       "<table border=\"1\" class=\"dataframe\">\n",
       "  <thead>\n",
       "    <tr style=\"text-align: right;\">\n",
       "      <th></th>\n",
       "      <th>Unnamed: 0_x</th>\n",
       "      <th>isbn</th>\n",
       "      <th>book_title</th>\n",
       "      <th>book_author</th>\n",
       "      <th>year_of_publication</th>\n",
       "      <th>publisher</th>\n",
       "      <th>Unnamed: 0_y</th>\n",
       "      <th>Unnamed: 0.1_x</th>\n",
       "      <th>user_id</th>\n",
       "      <th>book_rating</th>\n",
       "      <th>Unnamed: 0</th>\n",
       "      <th>Unnamed: 0.1_y</th>\n",
       "      <th>age</th>\n",
       "      <th>city</th>\n",
       "      <th>region</th>\n",
       "      <th>country</th>\n",
       "    </tr>\n",
       "  </thead>\n",
       "  <tbody>\n",
       "    <tr>\n",
       "      <th>0</th>\n",
       "      <td>0</td>\n",
       "      <td>0195153448</td>\n",
       "      <td>Classical Mythology</td>\n",
       "      <td>Mark P. O. Morford</td>\n",
       "      <td>2002</td>\n",
       "      <td>Oxford University Press</td>\n",
       "      <td>9561</td>\n",
       "      <td>9561</td>\n",
       "      <td>2</td>\n",
       "      <td>0</td>\n",
       "      <td>1</td>\n",
       "      <td>1</td>\n",
       "      <td>18</td>\n",
       "      <td>stockton</td>\n",
       "      <td>california</td>\n",
       "      <td>usa</td>\n",
       "    </tr>\n",
       "    <tr>\n",
       "      <th>1</th>\n",
       "      <td>1</td>\n",
       "      <td>0002005018</td>\n",
       "      <td>Clara Callan</td>\n",
       "      <td>Richard Bruce Wright</td>\n",
       "      <td>2001</td>\n",
       "      <td>HarperFlamingo Canada</td>\n",
       "      <td>9563</td>\n",
       "      <td>9563</td>\n",
       "      <td>8</td>\n",
       "      <td>5</td>\n",
       "      <td>7</td>\n",
       "      <td>7</td>\n",
       "      <td>34</td>\n",
       "      <td>timmins</td>\n",
       "      <td>ontario</td>\n",
       "      <td>canada</td>\n",
       "    </tr>\n",
       "    <tr>\n",
       "      <th>2</th>\n",
       "      <td>2</td>\n",
       "      <td>0060973129</td>\n",
       "      <td>Decision in Normandy</td>\n",
       "      <td>Carlo D'Este</td>\n",
       "      <td>1991</td>\n",
       "      <td>HarperPerennial</td>\n",
       "      <td>9564</td>\n",
       "      <td>9564</td>\n",
       "      <td>8</td>\n",
       "      <td>0</td>\n",
       "      <td>7</td>\n",
       "      <td>7</td>\n",
       "      <td>34</td>\n",
       "      <td>timmins</td>\n",
       "      <td>ontario</td>\n",
       "      <td>canada</td>\n",
       "    </tr>\n",
       "    <tr>\n",
       "      <th>3</th>\n",
       "      <td>3</td>\n",
       "      <td>0374157065</td>\n",
       "      <td>Flu: The Story of the Great Influenza Pandemic...</td>\n",
       "      <td>Gina Bari Kolata</td>\n",
       "      <td>1999</td>\n",
       "      <td>Farrar Straus Giroux</td>\n",
       "      <td>9565</td>\n",
       "      <td>9565</td>\n",
       "      <td>8</td>\n",
       "      <td>0</td>\n",
       "      <td>7</td>\n",
       "      <td>7</td>\n",
       "      <td>34</td>\n",
       "      <td>timmins</td>\n",
       "      <td>ontario</td>\n",
       "      <td>canada</td>\n",
       "    </tr>\n",
       "    <tr>\n",
       "      <th>4</th>\n",
       "      <td>4</td>\n",
       "      <td>0393045218</td>\n",
       "      <td>The Mummies of Urumchi</td>\n",
       "      <td>E. J. W. Barber</td>\n",
       "      <td>1999</td>\n",
       "      <td>W. W. Norton &amp;amp; Company</td>\n",
       "      <td>9566</td>\n",
       "      <td>9566</td>\n",
       "      <td>8</td>\n",
       "      <td>0</td>\n",
       "      <td>7</td>\n",
       "      <td>7</td>\n",
       "      <td>34</td>\n",
       "      <td>timmins</td>\n",
       "      <td>ontario</td>\n",
       "      <td>canada</td>\n",
       "    </tr>\n",
       "    <tr>\n",
       "      <th>...</th>\n",
       "      <td>...</td>\n",
       "      <td>...</td>\n",
       "      <td>...</td>\n",
       "      <td>...</td>\n",
       "      <td>...</td>\n",
       "      <td>...</td>\n",
       "      <td>...</td>\n",
       "      <td>...</td>\n",
       "      <td>...</td>\n",
       "      <td>...</td>\n",
       "      <td>...</td>\n",
       "      <td>...</td>\n",
       "      <td>...</td>\n",
       "      <td>...</td>\n",
       "      <td>...</td>\n",
       "      <td>...</td>\n",
       "    </tr>\n",
       "    <tr>\n",
       "      <th>1031130</th>\n",
       "      <td>271055</td>\n",
       "      <td>087004124X</td>\n",
       "      <td>Anthem</td>\n",
       "      <td>Ayn Rand</td>\n",
       "      <td>1966</td>\n",
       "      <td>Caxton Press</td>\n",
       "      <td>1084954</td>\n",
       "      <td>1084954</td>\n",
       "      <td>259589</td>\n",
       "      <td>8</td>\n",
       "      <td>259588</td>\n",
       "      <td>259588</td>\n",
       "      <td>19</td>\n",
       "      <td>venice</td>\n",
       "      <td>florida</td>\n",
       "      <td>usa</td>\n",
       "    </tr>\n",
       "    <tr>\n",
       "      <th>1031131</th>\n",
       "      <td>271056</td>\n",
       "      <td>158243123X</td>\n",
       "      <td>A Student of Weather</td>\n",
       "      <td>Elizabeth Hay</td>\n",
       "      <td>2001</td>\n",
       "      <td>Counterpoint Press</td>\n",
       "      <td>1084955</td>\n",
       "      <td>1084955</td>\n",
       "      <td>259591</td>\n",
       "      <td>8</td>\n",
       "      <td>259590</td>\n",
       "      <td>259590</td>\n",
       "      <td>39</td>\n",
       "      <td>tioga</td>\n",
       "      <td>pennsylvania</td>\n",
       "      <td>usa</td>\n",
       "    </tr>\n",
       "    <tr>\n",
       "      <th>1031132</th>\n",
       "      <td>271057</td>\n",
       "      <td>8485900057</td>\n",
       "      <td>Rimas y leyendas (ClÃ¡sicos Fraile ; 3)</td>\n",
       "      <td>Gustavo Adolfo BÃ©cquer</td>\n",
       "      <td>1981</td>\n",
       "      <td>Ediciones Fraile</td>\n",
       "      <td>1084961</td>\n",
       "      <td>1084961</td>\n",
       "      <td>259614</td>\n",
       "      <td>10</td>\n",
       "      <td>259613</td>\n",
       "      <td>259613</td>\n",
       "      <td>22</td>\n",
       "      <td>madrid</td>\n",
       "      <td>madrid</td>\n",
       "      <td>spain</td>\n",
       "    </tr>\n",
       "    <tr>\n",
       "      <th>1031133</th>\n",
       "      <td>271111</td>\n",
       "      <td>0838934854</td>\n",
       "      <td>Anglo-American Cataloguing Rules</td>\n",
       "      <td>Michael Gorman</td>\n",
       "      <td>1998</td>\n",
       "      <td>American Library Association</td>\n",
       "      <td>1085625</td>\n",
       "      <td>1085625</td>\n",
       "      <td>259679</td>\n",
       "      <td>6</td>\n",
       "      <td>259678</td>\n",
       "      <td>259678</td>\n",
       "      <td>27</td>\n",
       "      <td>grand prairie</td>\n",
       "      <td>texas</td>\n",
       "      <td>usa</td>\n",
       "    </tr>\n",
       "    <tr>\n",
       "      <th>1031134</th>\n",
       "      <td>271184</td>\n",
       "      <td>3423300965</td>\n",
       "      <td>Texte zur Ethik.</td>\n",
       "      <td>Dieter Birnbacher</td>\n",
       "      <td>2003</td>\n",
       "      <td>Dtv</td>\n",
       "      <td>1086286</td>\n",
       "      <td>1086286</td>\n",
       "      <td>259920</td>\n",
       "      <td>0</td>\n",
       "      <td>259919</td>\n",
       "      <td>259919</td>\n",
       "      <td>34</td>\n",
       "      <td>bielefeld</td>\n",
       "      <td>nordrhein-westfalen</td>\n",
       "      <td>germany</td>\n",
       "    </tr>\n",
       "  </tbody>\n",
       "</table>\n",
       "<p>1031135 rows × 16 columns</p>\n",
       "</div>"
      ],
      "text/plain": [
       "         Unnamed: 0_x        isbn  \\\n",
       "0                   0  0195153448   \n",
       "1                   1  0002005018   \n",
       "2                   2  0060973129   \n",
       "3                   3  0374157065   \n",
       "4                   4  0393045218   \n",
       "...               ...         ...   \n",
       "1031130        271055  087004124X   \n",
       "1031131        271056  158243123X   \n",
       "1031132        271057  8485900057   \n",
       "1031133        271111  0838934854   \n",
       "1031134        271184  3423300965   \n",
       "\n",
       "                                                book_title  \\\n",
       "0                                      Classical Mythology   \n",
       "1                                             Clara Callan   \n",
       "2                                     Decision in Normandy   \n",
       "3        Flu: The Story of the Great Influenza Pandemic...   \n",
       "4                                   The Mummies of Urumchi   \n",
       "...                                                    ...   \n",
       "1031130                                             Anthem   \n",
       "1031131                               A Student of Weather   \n",
       "1031132            Rimas y leyendas (ClÃ¡sicos Fraile ; 3)   \n",
       "1031133                   Anglo-American Cataloguing Rules   \n",
       "1031134                                   Texte zur Ethik.   \n",
       "\n",
       "                     book_author  year_of_publication  \\\n",
       "0             Mark P. O. Morford                 2002   \n",
       "1           Richard Bruce Wright                 2001   \n",
       "2                   Carlo D'Este                 1991   \n",
       "3               Gina Bari Kolata                 1999   \n",
       "4                E. J. W. Barber                 1999   \n",
       "...                          ...                  ...   \n",
       "1031130                 Ayn Rand                 1966   \n",
       "1031131            Elizabeth Hay                 2001   \n",
       "1031132  Gustavo Adolfo BÃ©cquer                 1981   \n",
       "1031133           Michael Gorman                 1998   \n",
       "1031134        Dieter Birnbacher                 2003   \n",
       "\n",
       "                            publisher  Unnamed: 0_y  Unnamed: 0.1_x  user_id  \\\n",
       "0             Oxford University Press          9561            9561        2   \n",
       "1               HarperFlamingo Canada          9563            9563        8   \n",
       "2                     HarperPerennial          9564            9564        8   \n",
       "3                Farrar Straus Giroux          9565            9565        8   \n",
       "4          W. W. Norton &amp; Company          9566            9566        8   \n",
       "...                               ...           ...             ...      ...   \n",
       "1031130                  Caxton Press       1084954         1084954   259589   \n",
       "1031131            Counterpoint Press       1084955         1084955   259591   \n",
       "1031132              Ediciones Fraile       1084961         1084961   259614   \n",
       "1031133  American Library Association       1085625         1085625   259679   \n",
       "1031134                           Dtv       1086286         1086286   259920   \n",
       "\n",
       "         book_rating  Unnamed: 0  Unnamed: 0.1_y  age           city  \\\n",
       "0                  0           1               1   18       stockton   \n",
       "1                  5           7               7   34        timmins   \n",
       "2                  0           7               7   34        timmins   \n",
       "3                  0           7               7   34        timmins   \n",
       "4                  0           7               7   34        timmins   \n",
       "...              ...         ...             ...  ...            ...   \n",
       "1031130            8      259588          259588   19         venice   \n",
       "1031131            8      259590          259590   39          tioga   \n",
       "1031132           10      259613          259613   22         madrid   \n",
       "1031133            6      259678          259678   27  grand prairie   \n",
       "1031134            0      259919          259919   34      bielefeld   \n",
       "\n",
       "                       region   country  \n",
       "0                  california       usa  \n",
       "1                     ontario    canada  \n",
       "2                     ontario    canada  \n",
       "3                     ontario    canada  \n",
       "4                     ontario    canada  \n",
       "...                       ...       ...  \n",
       "1031130               florida       usa  \n",
       "1031131          pennsylvania       usa  \n",
       "1031132                madrid     spain  \n",
       "1031133                 texas       usa  \n",
       "1031134   nordrhein-westfalen   germany  \n",
       "\n",
       "[1031135 rows x 16 columns]"
      ]
     },
     "execution_count": 12,
     "metadata": {},
     "output_type": "execute_result"
    }
   ],
   "source": [
    "data = data_m.merge(df3,on='user_id')\n",
    "data"
   ]
  },
  {
   "cell_type": "markdown",
   "id": "32410236",
   "metadata": {},
   "source": [
    "### _Check the data_"
   ]
  },
  {
   "cell_type": "code",
   "execution_count": 13,
   "id": "70230c9a",
   "metadata": {},
   "outputs": [
    {
     "data": {
      "text/plain": [
       "(1031135, 16)"
      ]
     },
     "execution_count": 13,
     "metadata": {},
     "output_type": "execute_result"
    }
   ],
   "source": [
    "data.shape"
   ]
  },
  {
   "cell_type": "code",
   "execution_count": 14,
   "id": "b356ee70",
   "metadata": {},
   "outputs": [
    {
     "data": {
      "text/plain": [
       "Unnamed: 0_x            int64\n",
       "isbn                   object\n",
       "book_title             object\n",
       "book_author            object\n",
       "year_of_publication     int64\n",
       "publisher              object\n",
       "Unnamed: 0_y            int64\n",
       "Unnamed: 0.1_x          int64\n",
       "user_id                 int64\n",
       "book_rating             int64\n",
       "Unnamed: 0              int64\n",
       "Unnamed: 0.1_y          int64\n",
       "age                     int64\n",
       "city                   object\n",
       "region                 object\n",
       "country                object\n",
       "dtype: object"
      ]
     },
     "execution_count": 14,
     "metadata": {},
     "output_type": "execute_result"
    }
   ],
   "source": [
    "data.dtypes"
   ]
  },
  {
   "cell_type": "code",
   "execution_count": 15,
   "id": "db556299",
   "metadata": {},
   "outputs": [
    {
     "data": {
      "text/plain": [
       "<bound method DataFrame.info of          Unnamed: 0_x        isbn  \\\n",
       "0                   0  0195153448   \n",
       "1                   1  0002005018   \n",
       "2                   2  0060973129   \n",
       "3                   3  0374157065   \n",
       "4                   4  0393045218   \n",
       "...               ...         ...   \n",
       "1031130        271055  087004124X   \n",
       "1031131        271056  158243123X   \n",
       "1031132        271057  8485900057   \n",
       "1031133        271111  0838934854   \n",
       "1031134        271184  3423300965   \n",
       "\n",
       "                                                book_title  \\\n",
       "0                                      Classical Mythology   \n",
       "1                                             Clara Callan   \n",
       "2                                     Decision in Normandy   \n",
       "3        Flu: The Story of the Great Influenza Pandemic...   \n",
       "4                                   The Mummies of Urumchi   \n",
       "...                                                    ...   \n",
       "1031130                                             Anthem   \n",
       "1031131                               A Student of Weather   \n",
       "1031132            Rimas y leyendas (ClÃ¡sicos Fraile ; 3)   \n",
       "1031133                   Anglo-American Cataloguing Rules   \n",
       "1031134                                   Texte zur Ethik.   \n",
       "\n",
       "                     book_author  year_of_publication  \\\n",
       "0             Mark P. O. Morford                 2002   \n",
       "1           Richard Bruce Wright                 2001   \n",
       "2                   Carlo D'Este                 1991   \n",
       "3               Gina Bari Kolata                 1999   \n",
       "4                E. J. W. Barber                 1999   \n",
       "...                          ...                  ...   \n",
       "1031130                 Ayn Rand                 1966   \n",
       "1031131            Elizabeth Hay                 2001   \n",
       "1031132  Gustavo Adolfo BÃ©cquer                 1981   \n",
       "1031133           Michael Gorman                 1998   \n",
       "1031134        Dieter Birnbacher                 2003   \n",
       "\n",
       "                            publisher  Unnamed: 0_y  Unnamed: 0.1_x  user_id  \\\n",
       "0             Oxford University Press          9561            9561        2   \n",
       "1               HarperFlamingo Canada          9563            9563        8   \n",
       "2                     HarperPerennial          9564            9564        8   \n",
       "3                Farrar Straus Giroux          9565            9565        8   \n",
       "4          W. W. Norton &amp; Company          9566            9566        8   \n",
       "...                               ...           ...             ...      ...   \n",
       "1031130                  Caxton Press       1084954         1084954   259589   \n",
       "1031131            Counterpoint Press       1084955         1084955   259591   \n",
       "1031132              Ediciones Fraile       1084961         1084961   259614   \n",
       "1031133  American Library Association       1085625         1085625   259679   \n",
       "1031134                           Dtv       1086286         1086286   259920   \n",
       "\n",
       "         book_rating  Unnamed: 0  Unnamed: 0.1_y  age           city  \\\n",
       "0                  0           1               1   18       stockton   \n",
       "1                  5           7               7   34        timmins   \n",
       "2                  0           7               7   34        timmins   \n",
       "3                  0           7               7   34        timmins   \n",
       "4                  0           7               7   34        timmins   \n",
       "...              ...         ...             ...  ...            ...   \n",
       "1031130            8      259588          259588   19         venice   \n",
       "1031131            8      259590          259590   39          tioga   \n",
       "1031132           10      259613          259613   22         madrid   \n",
       "1031133            6      259678          259678   27  grand prairie   \n",
       "1031134            0      259919          259919   34      bielefeld   \n",
       "\n",
       "                       region   country  \n",
       "0                  california       usa  \n",
       "1                     ontario    canada  \n",
       "2                     ontario    canada  \n",
       "3                     ontario    canada  \n",
       "4                     ontario    canada  \n",
       "...                       ...       ...  \n",
       "1031130               florida       usa  \n",
       "1031131          pennsylvania       usa  \n",
       "1031132                madrid     spain  \n",
       "1031133                 texas       usa  \n",
       "1031134   nordrhein-westfalen   germany  \n",
       "\n",
       "[1031135 rows x 16 columns]>"
      ]
     },
     "execution_count": 15,
     "metadata": {},
     "output_type": "execute_result"
    }
   ],
   "source": [
    "data.info"
   ]
  },
  {
   "cell_type": "code",
   "execution_count": 16,
   "id": "845f909d",
   "metadata": {},
   "outputs": [
    {
     "data": {
      "text/plain": [
       "Index(['Unnamed: 0_x', 'isbn', 'book_title', 'book_author',\n",
       "       'year_of_publication', 'publisher', 'Unnamed: 0_y', 'Unnamed: 0.1_x',\n",
       "       'user_id', 'book_rating', 'Unnamed: 0', 'Unnamed: 0.1_y', 'age', 'city',\n",
       "       'region', 'country'],\n",
       "      dtype='object')"
      ]
     },
     "execution_count": 16,
     "metadata": {},
     "output_type": "execute_result"
    }
   ],
   "source": [
    "data.columns"
   ]
  },
  {
   "cell_type": "markdown",
   "id": "29170df9",
   "metadata": {},
   "source": [
    "### _Drop columns_"
   ]
  },
  {
   "cell_type": "code",
   "execution_count": 17,
   "id": "be6f21f1",
   "metadata": {},
   "outputs": [
    {
     "ename": "KeyError",
     "evalue": "\"['Unnamed: 0.1'] not found in axis\"",
     "output_type": "error",
     "traceback": [
      "\u001b[1;31m---------------------------------------------------------------------------\u001b[0m",
      "\u001b[1;31mKeyError\u001b[0m                                  Traceback (most recent call last)",
      "\u001b[1;32m~\\AppData\\Local\\Temp/ipykernel_14120/2786808543.py\u001b[0m in \u001b[0;36m<module>\u001b[1;34m\u001b[0m\n\u001b[1;32m----> 1\u001b[1;33m \u001b[0mdata\u001b[0m \u001b[1;33m=\u001b[0m \u001b[0mdata\u001b[0m\u001b[1;33m.\u001b[0m\u001b[0mdrop\u001b[0m\u001b[1;33m(\u001b[0m\u001b[1;33m[\u001b[0m\u001b[1;34m'Unnamed: 0_x'\u001b[0m\u001b[1;33m,\u001b[0m \u001b[1;34m'Unnamed: 0_y'\u001b[0m\u001b[1;33m,\u001b[0m \u001b[1;34m'Unnamed: 0'\u001b[0m \u001b[1;33m,\u001b[0m \u001b[1;34m'Unnamed: 0.1'\u001b[0m\u001b[1;33m]\u001b[0m\u001b[1;33m,\u001b[0m\u001b[0maxis\u001b[0m\u001b[1;33m=\u001b[0m\u001b[1;36m1\u001b[0m\u001b[1;33m)\u001b[0m\u001b[1;33m\u001b[0m\u001b[1;33m\u001b[0m\u001b[0m\n\u001b[0m",
      "\u001b[1;32m~\\anaconda3\\lib\\site-packages\\pandas\\core\\frame.py\u001b[0m in \u001b[0;36mdrop\u001b[1;34m(self, labels, axis, index, columns, level, inplace, errors)\u001b[0m\n\u001b[0;32m   4306\u001b[0m                 \u001b[0mweight\u001b[0m  \u001b[1;36m1.0\u001b[0m     \u001b[1;36m0.8\u001b[0m\u001b[1;33m\u001b[0m\u001b[1;33m\u001b[0m\u001b[0m\n\u001b[0;32m   4307\u001b[0m         \"\"\"\n\u001b[1;32m-> 4308\u001b[1;33m         return super().drop(\n\u001b[0m\u001b[0;32m   4309\u001b[0m             \u001b[0mlabels\u001b[0m\u001b[1;33m=\u001b[0m\u001b[0mlabels\u001b[0m\u001b[1;33m,\u001b[0m\u001b[1;33m\u001b[0m\u001b[1;33m\u001b[0m\u001b[0m\n\u001b[0;32m   4310\u001b[0m             \u001b[0maxis\u001b[0m\u001b[1;33m=\u001b[0m\u001b[0maxis\u001b[0m\u001b[1;33m,\u001b[0m\u001b[1;33m\u001b[0m\u001b[1;33m\u001b[0m\u001b[0m\n",
      "\u001b[1;32m~\\anaconda3\\lib\\site-packages\\pandas\\core\\generic.py\u001b[0m in \u001b[0;36mdrop\u001b[1;34m(self, labels, axis, index, columns, level, inplace, errors)\u001b[0m\n\u001b[0;32m   4151\u001b[0m         \u001b[1;32mfor\u001b[0m \u001b[0maxis\u001b[0m\u001b[1;33m,\u001b[0m \u001b[0mlabels\u001b[0m \u001b[1;32min\u001b[0m \u001b[0maxes\u001b[0m\u001b[1;33m.\u001b[0m\u001b[0mitems\u001b[0m\u001b[1;33m(\u001b[0m\u001b[1;33m)\u001b[0m\u001b[1;33m:\u001b[0m\u001b[1;33m\u001b[0m\u001b[1;33m\u001b[0m\u001b[0m\n\u001b[0;32m   4152\u001b[0m             \u001b[1;32mif\u001b[0m \u001b[0mlabels\u001b[0m \u001b[1;32mis\u001b[0m \u001b[1;32mnot\u001b[0m \u001b[1;32mNone\u001b[0m\u001b[1;33m:\u001b[0m\u001b[1;33m\u001b[0m\u001b[1;33m\u001b[0m\u001b[0m\n\u001b[1;32m-> 4153\u001b[1;33m                 \u001b[0mobj\u001b[0m \u001b[1;33m=\u001b[0m \u001b[0mobj\u001b[0m\u001b[1;33m.\u001b[0m\u001b[0m_drop_axis\u001b[0m\u001b[1;33m(\u001b[0m\u001b[0mlabels\u001b[0m\u001b[1;33m,\u001b[0m \u001b[0maxis\u001b[0m\u001b[1;33m,\u001b[0m \u001b[0mlevel\u001b[0m\u001b[1;33m=\u001b[0m\u001b[0mlevel\u001b[0m\u001b[1;33m,\u001b[0m \u001b[0merrors\u001b[0m\u001b[1;33m=\u001b[0m\u001b[0merrors\u001b[0m\u001b[1;33m)\u001b[0m\u001b[1;33m\u001b[0m\u001b[1;33m\u001b[0m\u001b[0m\n\u001b[0m\u001b[0;32m   4154\u001b[0m \u001b[1;33m\u001b[0m\u001b[0m\n\u001b[0;32m   4155\u001b[0m         \u001b[1;32mif\u001b[0m \u001b[0minplace\u001b[0m\u001b[1;33m:\u001b[0m\u001b[1;33m\u001b[0m\u001b[1;33m\u001b[0m\u001b[0m\n",
      "\u001b[1;32m~\\anaconda3\\lib\\site-packages\\pandas\\core\\generic.py\u001b[0m in \u001b[0;36m_drop_axis\u001b[1;34m(self, labels, axis, level, errors)\u001b[0m\n\u001b[0;32m   4186\u001b[0m                 \u001b[0mnew_axis\u001b[0m \u001b[1;33m=\u001b[0m \u001b[0maxis\u001b[0m\u001b[1;33m.\u001b[0m\u001b[0mdrop\u001b[0m\u001b[1;33m(\u001b[0m\u001b[0mlabels\u001b[0m\u001b[1;33m,\u001b[0m \u001b[0mlevel\u001b[0m\u001b[1;33m=\u001b[0m\u001b[0mlevel\u001b[0m\u001b[1;33m,\u001b[0m \u001b[0merrors\u001b[0m\u001b[1;33m=\u001b[0m\u001b[0merrors\u001b[0m\u001b[1;33m)\u001b[0m\u001b[1;33m\u001b[0m\u001b[1;33m\u001b[0m\u001b[0m\n\u001b[0;32m   4187\u001b[0m             \u001b[1;32melse\u001b[0m\u001b[1;33m:\u001b[0m\u001b[1;33m\u001b[0m\u001b[1;33m\u001b[0m\u001b[0m\n\u001b[1;32m-> 4188\u001b[1;33m                 \u001b[0mnew_axis\u001b[0m \u001b[1;33m=\u001b[0m \u001b[0maxis\u001b[0m\u001b[1;33m.\u001b[0m\u001b[0mdrop\u001b[0m\u001b[1;33m(\u001b[0m\u001b[0mlabels\u001b[0m\u001b[1;33m,\u001b[0m \u001b[0merrors\u001b[0m\u001b[1;33m=\u001b[0m\u001b[0merrors\u001b[0m\u001b[1;33m)\u001b[0m\u001b[1;33m\u001b[0m\u001b[1;33m\u001b[0m\u001b[0m\n\u001b[0m\u001b[0;32m   4189\u001b[0m             \u001b[0mresult\u001b[0m \u001b[1;33m=\u001b[0m \u001b[0mself\u001b[0m\u001b[1;33m.\u001b[0m\u001b[0mreindex\u001b[0m\u001b[1;33m(\u001b[0m\u001b[1;33m**\u001b[0m\u001b[1;33m{\u001b[0m\u001b[0maxis_name\u001b[0m\u001b[1;33m:\u001b[0m \u001b[0mnew_axis\u001b[0m\u001b[1;33m}\u001b[0m\u001b[1;33m)\u001b[0m\u001b[1;33m\u001b[0m\u001b[1;33m\u001b[0m\u001b[0m\n\u001b[0;32m   4190\u001b[0m \u001b[1;33m\u001b[0m\u001b[0m\n",
      "\u001b[1;32m~\\anaconda3\\lib\\site-packages\\pandas\\core\\indexes\\base.py\u001b[0m in \u001b[0;36mdrop\u001b[1;34m(self, labels, errors)\u001b[0m\n\u001b[0;32m   5589\u001b[0m         \u001b[1;32mif\u001b[0m \u001b[0mmask\u001b[0m\u001b[1;33m.\u001b[0m\u001b[0many\u001b[0m\u001b[1;33m(\u001b[0m\u001b[1;33m)\u001b[0m\u001b[1;33m:\u001b[0m\u001b[1;33m\u001b[0m\u001b[1;33m\u001b[0m\u001b[0m\n\u001b[0;32m   5590\u001b[0m             \u001b[1;32mif\u001b[0m \u001b[0merrors\u001b[0m \u001b[1;33m!=\u001b[0m \u001b[1;34m\"ignore\"\u001b[0m\u001b[1;33m:\u001b[0m\u001b[1;33m\u001b[0m\u001b[1;33m\u001b[0m\u001b[0m\n\u001b[1;32m-> 5591\u001b[1;33m                 \u001b[1;32mraise\u001b[0m \u001b[0mKeyError\u001b[0m\u001b[1;33m(\u001b[0m\u001b[1;34mf\"{labels[mask]} not found in axis\"\u001b[0m\u001b[1;33m)\u001b[0m\u001b[1;33m\u001b[0m\u001b[1;33m\u001b[0m\u001b[0m\n\u001b[0m\u001b[0;32m   5592\u001b[0m             \u001b[0mindexer\u001b[0m \u001b[1;33m=\u001b[0m \u001b[0mindexer\u001b[0m\u001b[1;33m[\u001b[0m\u001b[1;33m~\u001b[0m\u001b[0mmask\u001b[0m\u001b[1;33m]\u001b[0m\u001b[1;33m\u001b[0m\u001b[1;33m\u001b[0m\u001b[0m\n\u001b[0;32m   5593\u001b[0m         \u001b[1;32mreturn\u001b[0m \u001b[0mself\u001b[0m\u001b[1;33m.\u001b[0m\u001b[0mdelete\u001b[0m\u001b[1;33m(\u001b[0m\u001b[0mindexer\u001b[0m\u001b[1;33m)\u001b[0m\u001b[1;33m\u001b[0m\u001b[1;33m\u001b[0m\u001b[0m\n",
      "\u001b[1;31mKeyError\u001b[0m: \"['Unnamed: 0.1'] not found in axis\""
     ]
    }
   ],
   "source": [
    "data = data.drop(['Unnamed: 0_x', 'Unnamed: 0_y', 'Unnamed: 0' , 'Unnamed: 0.1'],axis=1)"
   ]
  },
  {
   "cell_type": "code",
   "execution_count": 18,
   "id": "3327217f",
   "metadata": {},
   "outputs": [],
   "source": [
    "#data"
   ]
  },
  {
   "cell_type": "markdown",
   "id": "500adf9c",
   "metadata": {},
   "source": [
    "### _Save_"
   ]
  },
  {
   "cell_type": "markdown",
   "id": "d7f6ec59",
   "metadata": {},
   "source": [
    "Saving this preprocessed dataset so we can use it in MYSQL ..."
   ]
  },
  {
   "cell_type": "code",
   "execution_count": 19,
   "id": "2ecae79b",
   "metadata": {},
   "outputs": [],
   "source": [
    "data.to_csv(r'C:\\Users\\ASUS\\Data Analytics\\Projects\\Recommended-Reading\\Working\\preprocessed_data.csv')"
   ]
  },
  {
   "cell_type": "markdown",
   "id": "b3b2e1f6",
   "metadata": {},
   "source": [
    "## . _Data exploring_"
   ]
  },
  {
   "cell_type": "code",
   "execution_count": 20,
   "id": "a540996e",
   "metadata": {},
   "outputs": [
    {
     "data": {
      "text/plain": [
       "Unnamed: 0_x            int64\n",
       "isbn                   object\n",
       "book_title             object\n",
       "book_author            object\n",
       "year_of_publication     int64\n",
       "publisher              object\n",
       "Unnamed: 0_y            int64\n",
       "Unnamed: 0.1_x          int64\n",
       "user_id                 int64\n",
       "book_rating             int64\n",
       "Unnamed: 0              int64\n",
       "Unnamed: 0.1_y          int64\n",
       "age                     int64\n",
       "city                   object\n",
       "region                 object\n",
       "country                object\n",
       "dtype: object"
      ]
     },
     "execution_count": 20,
     "metadata": {},
     "output_type": "execute_result"
    }
   ],
   "source": [
    "pd.set_option('max_row', None) # to get all the column\n",
    "data.dtypes"
   ]
  },
  {
   "cell_type": "code",
   "execution_count": 21,
   "id": "47db0cf8",
   "metadata": {},
   "outputs": [
    {
     "data": {
      "text/plain": [
       "Index(['Unnamed: 0_x', 'isbn', 'book_title', 'book_author',\n",
       "       'year_of_publication', 'publisher', 'Unnamed: 0_y', 'Unnamed: 0.1_x',\n",
       "       'user_id', 'book_rating', 'Unnamed: 0', 'Unnamed: 0.1_y', 'age', 'city',\n",
       "       'region', 'country'],\n",
       "      dtype='object')"
      ]
     },
     "execution_count": 21,
     "metadata": {},
     "output_type": "execute_result"
    }
   ],
   "source": [
    "pd.set_option('max_row', 1000)\n",
    "data.columns"
   ]
  },
  {
   "cell_type": "code",
   "execution_count": 22,
   "id": "0b33f300",
   "metadata": {},
   "outputs": [
    {
     "name": "stdout",
     "output_type": "stream",
     "text": [
      "<class 'pandas.core.frame.DataFrame'>\n",
      "Int64Index: 1031135 entries, 0 to 1031134\n",
      "Data columns (total 16 columns):\n",
      " #   Column               Non-Null Count    Dtype \n",
      "---  ------               --------------    ----- \n",
      " 0   Unnamed: 0_x         1031135 non-null  int64 \n",
      " 1   isbn                 1031135 non-null  object\n",
      " 2   book_title           1031135 non-null  object\n",
      " 3   book_author          1031135 non-null  object\n",
      " 4   year_of_publication  1031135 non-null  int64 \n",
      " 5   publisher            1031135 non-null  object\n",
      " 6   Unnamed: 0_y         1031135 non-null  int64 \n",
      " 7   Unnamed: 0.1_x       1031135 non-null  int64 \n",
      " 8   user_id              1031135 non-null  int64 \n",
      " 9   book_rating          1031135 non-null  int64 \n",
      " 10  Unnamed: 0           1031135 non-null  int64 \n",
      " 11  Unnamed: 0.1_y       1031135 non-null  int64 \n",
      " 12  age                  1031135 non-null  int64 \n",
      " 13  city                 1017033 non-null  object\n",
      " 14  region               1030399 non-null  object\n",
      " 15  country              1006761 non-null  object\n",
      "dtypes: int64(9), object(7)\n",
      "memory usage: 133.7+ MB\n"
     ]
    }
   ],
   "source": [
    "data.info()"
   ]
  },
  {
   "cell_type": "code",
   "execution_count": 23,
   "id": "d7b155e6",
   "metadata": {},
   "outputs": [
    {
     "data": {
      "text/plain": [
       "Unnamed: 0_x               0\n",
       "isbn                       0\n",
       "book_title                 0\n",
       "book_author                0\n",
       "year_of_publication        0\n",
       "publisher                  0\n",
       "Unnamed: 0_y               0\n",
       "Unnamed: 0.1_x             0\n",
       "user_id                    0\n",
       "book_rating                0\n",
       "Unnamed: 0                 0\n",
       "Unnamed: 0.1_y             0\n",
       "age                        0\n",
       "city                   14102\n",
       "region                   736\n",
       "country                24374\n",
       "dtype: int64"
      ]
     },
     "execution_count": 23,
     "metadata": {},
     "output_type": "execute_result"
    }
   ],
   "source": [
    "data.isna().sum()"
   ]
  },
  {
   "cell_type": "code",
   "execution_count": 24,
   "id": "59e69c77",
   "metadata": {},
   "outputs": [
    {
     "name": "stdout",
     "output_type": "stream",
     "text": [
      "0971880107    2502\n",
      "0316666343    1295\n",
      "0385504209     883\n",
      "0060928336     732\n",
      "0312195516     723\n",
      "              ... \n",
      "0817304991       1\n",
      "0853301239       1\n",
      "0373763239       1\n",
      "0394562798       1\n",
      "0449183297       1\n",
      "Name: isbn, Length: 270150, dtype: int64 \n",
      "\n",
      "Wild Animus                                              2502\n",
      "The Lovely Bones: A Novel                                1295\n",
      "The Da Vinci Code                                         898\n",
      "A Painted House                                           838\n",
      "The Nanny Diaries: A Novel                                828\n",
      "                                                         ... \n",
      "El espejo enterrado                                         1\n",
      "The space shuttle handbook                                  1\n",
      "Word Watch: The Stories Behind the Words of Our Lives       1\n",
      "Puss in Boots (Little Golden Book)                          1\n",
      "Mysterious Australia                                        1\n",
      "Name: book_title, Length: 241070, dtype: int64 \n",
      "\n",
      "Stephen King          10053\n",
      "Nora Roberts           8429\n",
      "John Grisham           6010\n",
      "James Patterson        5845\n",
      "Mary Higgins Clark     4777\n",
      "                      ...  \n",
      "Noreen Riols              1\n",
      "Bill Osher                1\n",
      "Karen Mazukewich          1\n",
      "Joshua Muravchik          1\n",
      "Lyle E. Bourne            1\n",
      "Name: book_author, Length: 101587, dtype: int64 \n",
      "\n",
      "Ballantine Books                                         34724\n",
      "Pocket                                                   31989\n",
      "Berkley Publishing Group                                 28614\n",
      "Warner Books                                             25506\n",
      "Harlequin                                                25027\n",
      "                                                         ...  \n",
      "Shi ying chu ban she                                         1\n",
      "Stephens Publishing Company (AZ)                             1\n",
      "J d Charles Pub                                              1\n",
      "Distributed by Consortium Book Sales and Distribution        1\n",
      "Hope Publishing Company (IL)                                 1\n",
      "Name: publisher, Length: 16726, dtype: int64 \n",
      "\n",
      "toronto                 15124\n",
      "chicago                  9078\n",
      "seattle                  8605\n",
      "ottawa                   8330\n",
      "olympia                  8090\n",
      "                        ...  \n",
      "tisina                      1\n",
      "4248 a wagonwheel ct        1\n",
      "grenzach-wyhlen             1\n",
      "xx                          1\n",
      "kot addu                    1\n",
      "Name: city, Length: 14668, dtype: int64 \n",
      "\n",
      " california                  107465\n",
      " texas                        44158\n",
      " ontario                      41440\n",
      " florida                      34188\n",
      " missouri                     33004\n",
      "                              ...  \n",
      " \\\\\"n/a\\\"                         1\n",
      " grays                            1\n",
      " yokosuka                         1\n",
      " moita                            1\n",
      " ron see comments pls ...         1\n",
      "Name: region, Length: 1958, dtype: int64 \n",
      "\n",
      " usa                                    745075\n",
      " canada                                  92918\n",
      " united kingdom                          32000\n",
      " germany                                 27654\n",
      " australia                               18214\n",
      " spain                                   14772\n",
      " n/a                                     11195\n",
      " france                                  10632\n",
      " portugal                                 6862\n",
      " new zealand                              5556\n",
      " malaysia                                 5047\n",
      " netherlands                              4969\n",
      " switzerland                              4177\n",
      " italy                                    3457\n",
      " austria                                  2803\n",
      " iran                                     1649\n",
      " finland                                  1189\n",
      " romania                                  1168\n",
      " singapore                                1147\n",
      " england                                   999\n",
      " brazil                                    926\n",
      " dominican republic                        923\n",
      " ireland                                   843\n",
      " sweden                                    771\n",
      " philippines                               684\n",
      " japan                                     678\n",
      " belgium                                   639\n",
      " china                                     607\n",
      " denmark                                   390\n",
      " norway                                    388\n",
      " ohio                                      373\n",
      " new york                                  363\n",
      " poland                                    352\n",
      " qatar                                     335\n",
      " mexico                                    297\n",
      " us                                        291\n",
      " hong kong                                 290\n",
      " argentina                                 263\n",
      " taiwan                                    206\n",
      " israel                                    201\n",
      " south africa                              200\n",
      " greece                                    193\n",
      " canary islands                            171\n",
      " bulgaria                                  163\n",
      " costa rica                                149\n",
      " far away...                               145\n",
      " kuwait                                    140\n",
      " india                                     135\n",
      " aruba                                     129\n",
      " united states                             124\n",
      " united state                              121\n",
      " cambridgeshire                            114\n",
      " czech republic                            103\n",
      " universe                                  103\n",
      " egypt                                      99\n",
      " virginia                                   99\n",
      " okinawa                                    96\n",
      " luxembourg                                 94\n",
      " chile                                      90\n",
      " guernsey                                   84\n",
      " florida                                    79\n",
      " burma                                      77\n",
      " south korea                                76\n",
      " phillipines                                75\n",
      "                                            73\n",
      " illinois                                   66\n",
      " iceland                                    62\n",
      " turkey                                     61\n",
      " cyprus                                     60\n",
      " euskal herria                              56\n",
      " antarctica                                 55\n",
      " kansas                                     54\n",
      " maryland                                   54\n",
      " russia                                     51\n",
      " slovenia                                   50\n",
      " venezuela                                  45\n",
      " california                                 44\n",
      " hungary                                    40\n",
      " dc                                         39\n",
      " trinidad and tobago                        36\n",
      " slovakia                                   34\n",
      " wales                                      32\n",
      " indonesia                                  32\n",
      " west yorkshire                             31\n",
      " u.s.a.                                     29\n",
      " lithuania                                  29\n",
      " bahamas                                    27\n",
      " british columbia                           27\n",
      " n/a - on the road                          26\n",
      " catalonia                                  26\n",
      " catalunya                                  25\n",
      " bermuda                                    25\n",
      " michigan                                   24\n",
      " saint lucia                                24\n",
      " laos                                       22\n",
      " madagascar                                 22\n",
      " oregon                                     21\n",
      " malta                                      21\n",
      " andorra                                    19\n",
      " ontario                                    19\n",
      " texas                                      18\n",
      " italia                                     18\n",
      " saudi arabia                               18\n",
      " cuba                                       18\n",
      " croatia                                    18\n",
      " zimbabwe                                   17\n",
      " peru                                       17\n",
      " north carolina                             17\n",
      " nz                                         17\n",
      " papua new guinea                           16\n",
      " pakistan                                   16\n",
      " scotland                                   16\n",
      " españa                                     16\n",
      " kenya                                      16\n",
      " ukraine                                    16\n",
      " haiti                                      16\n",
      " vietnam                                    16\n",
      " panama                                     15\n",
      " spain\"                                     15\n",
      " seoul                                      14\n",
      " iraq                                       14\n",
      " idaho                                      13\n",
      " connecticut                                13\n",
      " bahrain                                    13\n",
      " deutschland                                13\n",
      " tennessee                                  12\n",
      " west indies                                12\n",
      " new south wales                            12\n",
      " cayman islands                             12\n",
      " belize                                     11\n",
      " united kindgonm                            11\n",
      " new mexico                                 11\n",
      " kazakhstan                                 11\n",
      " sri lanka                                  11\n",
      " framingham                                 10\n",
      " everywhere and anywhere                    10\n",
      " moldova                                    10\n",
      " solomon islands                            10\n",
      " colombia                                   10\n",
      " thailand                                   10\n",
      " albania                                    10\n",
      " andalucia                                  10\n",
      " saskatchewan                                9\n",
      " france\"                                     9\n",
      " la chine éternelle !                        9\n",
      " galiza                                      9\n",
      " jamaica                                     9\n",
      " guatemala                                   9\n",
      " honduras                                    9\n",
      " grenada                                     8\n",
      " america                                     8\n",
      " arizona                                     8\n",
      " switzerland\"                                8\n",
      " barbados                                    8\n",
      " new zealand\"                                8\n",
      " van wert                                    8\n",
      " tanzania                                    8\n",
      " united arab emirates                        8\n",
      " germany\"                                    7\n",
      " la chine éternelle!                         7\n",
      " aberdeenshire                               7\n",
      " uruguay                                     7\n",
      " ecuador                                     6\n",
      " quit                                        6\n",
      " south dakota                                6\n",
      " uk                                          6\n",
      " benin                                       6\n",
      " orense                                      6\n",
      " nepal                                       6\n",
      " alderney                                    6\n",
      " yugoslavia                                  6\n",
      " ile de france                               5\n",
      " jersey                                      5\n",
      " hawaii                                      5\n",
      " missouri                                    5\n",
      " la france                                   5\n",
      " bolivia                                     5\n",
      " disrito federal                             5\n",
      " ghana                                       5\n",
      " puerto rico                                 5\n",
      " catalunya spain                             5\n",
      " oeiras                                      5\n",
      " nigeria                                     5\n",
      " alberta                                     5\n",
      " luxembourg\"                                 5\n",
      " here and there                              4\n",
      " morgan                                      4\n",
      " netherlands\"                                4\n",
      " eu                                          4\n",
      " oklahoma                                    4\n",
      " co. carlow                                  4\n",
      " brunei                                      4\n",
      " washington                                  4\n",
      " new brunswick                               4\n",
      " indiana                                     4\n",
      " guinea                                      4\n",
      " minnesota                                   4\n",
      " north dakota                                4\n",
      " morocco                                     4\n",
      " u.a.e                                       4\n",
      " queensland                                  4\n",
      " georgia                                     4\n",
      " portugal\"                                   4\n",
      " afghanistan                                 3\n",
      " oman                                        3\n",
      " massachusetts                               3\n",
      " cape verde                                  3\n",
      " paraguay                                    3\n",
      " polk                                        3\n",
      " rutherford                                  3\n",
      " tn                                          3\n",
      " district of columbia                        3\n",
      " maine                                       3\n",
      " macedonia                                   3\n",
      " u.k.                                        3\n",
      " latvia                                      3\n",
      " tunisia                                     3\n",
      " ysa                                         3\n",
      " north yorkshire                             3\n",
      " alabama                                     3\n",
      " kedah                                       3\n",
      " u.s>                                        3\n",
      " alachua                                     3\n",
      " uzbekistan                                  3\n",
      " new jersey                                  3\n",
      " lleida                                      3\n",
      " wisconsin                                   3\n",
      " l`italia                                    3\n",
      " monaco                                      3\n",
      " stadt                                       3\n",
      " denmark\"                                    3\n",
      " fort bend                                   3\n",
      " victoria                                    3\n",
      " space                                       2\n",
      " shelby                                      2\n",
      " norway\"                                     2\n",
      " the great white north                       2\n",
      " south australia                             2\n",
      " maricopa                                    2\n",
      " pais vasco                                  2\n",
      " colorado                                    2\n",
      " county galway                               2\n",
      " pennsylvania                                2\n",
      " \\\"n/a\\\"\"                                    2\n",
      " niger                                       2\n",
      " turkey\"                                     2\n",
      " iowa                                        2\n",
      " united kingdom\"                             2\n",
      " caribbean sea                               2\n",
      " collin                                      2\n",
      " rhode island                                2\n",
      " county cork                                 2\n",
      " fiji                                        2\n",
      " estonia                                     2\n",
      " montana                                     2\n",
      " cherokee                                    2\n",
      " rwanda                                      2\n",
      " cameroon                                    2\n",
      " mauritius                                   2\n",
      " travelling....                              2\n",
      " k1c7b1                                      2\n",
      " nova scotia                                 2\n",
      " ireland\"                                    2\n",
      " gabon                                       2\n",
      " ca.                                         2\n",
      " metro manila                                2\n",
      " antigua and barbuda                         2\n",
      " st. helena                                  2\n",
      " nebraska                                    2\n",
      " obviously                                   2\n",
      " tajikistan                                  1\n",
      " west virginia                               1\n",
      " alaska                                      1\n",
      " argentina\"                                  1\n",
      " samoa                                       1\n",
      " hernando                                    1\n",
      " sweden\"                                     1\n",
      " italy\"                                      1\n",
      " burlington                                  1\n",
      " camden                                      1\n",
      " south korea\"                                1\n",
      " paris                                       1\n",
      " in europe                                   1\n",
      " bangladesh                                  1\n",
      " el salvador                                 1\n",
      " pontevedra                                  1\n",
      " lkjlj                                       1\n",
      " granada                                     1\n",
      " niedersachsen                               1\n",
      " south island                                1\n",
      " algeria                                     1\n",
      " st.gallen                                   1\n",
      " mexico\"                                     1\n",
      " hungary\"                                    1\n",
      " we`re global!                               1\n",
      " guinea-bissau                               1\n",
      " zapopan                                     1\n",
      " belgium\"                                    1\n",
      " kosovo                                      1\n",
      " thailand\"                                   1\n",
      " san franicsco                               1\n",
      " hungary and usa                             1\n",
      " etelä-suomi                                 1\n",
      "\"                                            1\n",
      " finland\"                                    1\n",
      " nottinghamshire                             1\n",
      " csa                                         1\n",
      " venezia giulia                              1\n",
      " ventura county                              1\n",
      " otago                                       1\n",
      " austin                                      1\n",
      " berguedà                                    1\n",
      " ee.uu                                       1\n",
      " shanghai                                    1\n",
      " marshall islands                            1\n",
      " urugua                                      1\n",
      " unknown                                     1\n",
      " gipuzkoa                                    1\n",
      " united staes                                1\n",
      " macau                                       1\n",
      " \\n/a\\\"                                      1\n",
      " nsw                                         1\n",
      " zambia                                      1\n",
      " ethiopia                                    1\n",
      " cambodia                                    1\n",
      " onondaga nation                             1\n",
      " c                                           1\n",
      " tasmania                                    1\n",
      " mongolia                                    1\n",
      "quebec                                       1\n",
      " álava                                       1\n",
      " turkmenistan                                1\n",
      " baden-wuerttemberg                          1\n",
      " croatia\"                                    1\n",
      " arkansas                                    1\n",
      " newfoundland                                1\n",
      " usa & canada                                1\n",
      " north sumatera                              1\n",
      " orange co                                   1\n",
      " maracopa                                    1\n",
      " kalamazoo                                   1\n",
      " petrolwar nation                            1\n",
      " australian capital territory                1\n",
      " pender                                      1\n",
      " d.c.                                        1\n",
      " united states of america                    1\n",
      " ouranos                                     1\n",
      " tonga                                       1\n",
      " auckland                                    1\n",
      " u.s.a>                                      1\n",
      " madrid                                      1\n",
      " la suisse                                   1\n",
      " usa now                                     1\n",
      " united sates                                1\n",
      "usa                                          1\n",
      " los estados unidos de norte america         1\n",
      " nevada                                      1\n",
      " lk ammerland                                1\n",
      " la belgique                                 1\n",
      " uganda                                      1\n",
      " philippines\"                                1\n",
      "61 men                                       1\n",
      " angola                                      1\n",
      " quebec                                      1\n",
      " lebanon                                     1\n",
      " palau                                       1\n",
      " anystate                                    1\n",
      " bourgogne                                   1\n",
      " kern                                        1\n",
      " yu-song                                     1\n",
      " new hampshire                               1\n",
      " v9v 1h4                                     1\n",
      " louisiana                                   1\n",
      " san mateo                                   1\n",
      " st.thomasi                                  1\n",
      " ca                                          1\n",
      " francisco morazan                           1\n",
      " senegal                                     1\n",
      " berlin                                      1\n",
      " china\"                                      1\n",
      " aroostook                                   1\n",
      " worcester                                   1\n",
      " usa (currently living in england)           1\n",
      " saint loius                                 1\n",
      " mozambique                                  1\n",
      " middlesex                                   1\n",
      " burkina faso                                1\n",
      " cananda                                     1\n",
      " u.s. of a.                                  1\n",
      " galiza neghra                               1\n",
      " bosnia and herzegovina                      1\n",
      " bc                                          1\n",
      " hagiwara                                    1\n",
      " tdzimi                                      1\n",
      " x                                           1\n",
      " ua                                          1\n",
      " ferrara                                     1\n",
      " republic of panama                          1\n",
      " almería                                     1\n",
      " päijät-häme                                 1\n",
      " bayern                                      1\n",
      " syria                                       1\n",
      " il                                          1\n",
      " prince william                              1\n",
      " richmond country                            1\n",
      " gambia                                      1\n",
      "Name: country, dtype: int64 \n",
      "\n"
     ]
    }
   ],
   "source": [
    "for col in data.select_dtypes('object'):\n",
    "    print(data[col].value_counts(), '\\n')"
   ]
  },
  {
   "cell_type": "code",
   "execution_count": 25,
   "id": "b75d43e3",
   "metadata": {},
   "outputs": [
    {
     "name": "stdout",
     "output_type": "stream",
     "text": [
      "['0195153448' '0002005018' '0060973129' ... '8485900057' '0838934854'\n",
      " '3423300965']\n"
     ]
    }
   ],
   "source": [
    "print(data['isbn'].unique())"
   ]
  },
  {
   "cell_type": "code",
   "execution_count": 26,
   "id": "2db0e3f4",
   "metadata": {},
   "outputs": [
    {
     "name": "stdout",
     "output_type": "stream",
     "text": [
      "book_rating\n",
      "0     647294\n",
      "1       1481\n",
      "2       2375\n",
      "3       5118\n",
      "4       7617\n",
      "5      45355\n",
      "6      31687\n",
      "7      66402\n",
      "8      91803\n",
      "9      60778\n",
      "10     71225\n",
      "dtype: int64\n"
     ]
    }
   ],
   "source": [
    "print(data.groupby('book_rating').size())"
   ]
  },
  {
   "cell_type": "code",
   "execution_count": 27,
   "id": "84c4bcb1",
   "metadata": {},
   "outputs": [
    {
     "name": "stdout",
     "output_type": "stream",
     "text": [
      "age\n",
      "5        159\n",
      "6         14\n",
      "7        148\n",
      "8        542\n",
      "9       2056\n",
      "10       227\n",
      "11       513\n",
      "12       747\n",
      "13      1243\n",
      "14      3206\n",
      "15      3165\n",
      "16      3299\n",
      "17      5282\n",
      "18      8747\n",
      "19      5247\n",
      "20      6487\n",
      "21     10062\n",
      "22     12101\n",
      "23     18793\n",
      "24     18572\n",
      "25     21768\n",
      "26     22106\n",
      "27     22280\n",
      "28     25966\n",
      "29     30646\n",
      "30     27201\n",
      "31     25964\n",
      "32     26490\n",
      "33     32862\n",
      "34    308707\n",
      "35     19573\n",
      "36     26096\n",
      "37     21116\n",
      "38     22396\n",
      "39     17002\n",
      "40     15521\n",
      "41     15900\n",
      "42     10759\n",
      "43     20612\n",
      "44     21510\n",
      "45     11792\n",
      "46     16345\n",
      "47     18517\n",
      "48      7666\n",
      "49     14345\n",
      "50      9451\n",
      "51     14033\n",
      "52     17637\n",
      "53      6881\n",
      "54     10106\n",
      "55      6029\n",
      "56      8337\n",
      "57      8918\n",
      "58      8850\n",
      "59      2913\n",
      "60      3646\n",
      "61      4201\n",
      "62      8382\n",
      "63      3055\n",
      "64      1077\n",
      "65      3949\n",
      "66      1242\n",
      "67      2801\n",
      "68       737\n",
      "69      1225\n",
      "70       510\n",
      "71       796\n",
      "72       456\n",
      "73       276\n",
      "74       238\n",
      "75       204\n",
      "76       253\n",
      "77       148\n",
      "78       125\n",
      "79       141\n",
      "80       184\n",
      "81       237\n",
      "82        81\n",
      "83       165\n",
      "84        35\n",
      "85        17\n",
      "86         2\n",
      "89         2\n",
      "90        45\n",
      "dtype: int64\n"
     ]
    }
   ],
   "source": [
    "print(data.groupby('age').size())"
   ]
  },
  {
   "cell_type": "code",
   "execution_count": 28,
   "id": "c1a79919",
   "metadata": {},
   "outputs": [],
   "source": [
    "#data.drop('offer_accepted' ,axis=1).hist(bins=30, figsize=(9,9))\n",
    "#pl.suptitle(\"Histogram for each numeric input variable\")\n",
    "#plt.savefig('average_balance')\n",
    "#plt.show()"
   ]
  },
  {
   "cell_type": "code",
   "execution_count": 32,
   "id": "81b5eca7",
   "metadata": {},
   "outputs": [
    {
     "data": {
      "image/png": "[encoded data removed]",
      "text/plain": [
       "<Figure size 432x288 with 1 Axes>"
      ]
     },
     "metadata": {
      "needs_background": "light"
     },
     "output_type": "display_data"
    }
   ],
   "source": [
    "new_ratings_data = data['book_rating'][0:40].interpolate(method='linear')\n",
    "\n",
    "new_ratings_data.plot()\n",
    "plt.show()"
   ]
  },
  {
   "cell_type": "code",
   "execution_count": 33,
   "id": "2b2ef856",
   "metadata": {},
   "outputs": [
    {
     "data": {
      "image/png": "[encoded data removed]",
      "text/plain": [
       "<Figure size 432x288 with 1 Axes>"
      ]
     },
     "metadata": {
      "needs_background": "light"
     },
     "output_type": "display_data"
    }
   ],
   "source": [
    "plt.hist(data['age'].interpolate(method='polynomial', order=2), bins=20) \n",
    "plt.show()"
   ]
  },
  {
   "cell_type": "code",
   "execution_count": 41,
   "id": "adbe29ef",
   "metadata": {},
   "outputs": [],
   "source": [
    "data = data.astype({\"book_rating\": str})"
   ]
  },
  {
   "cell_type": "code",
   "execution_count": 42,
   "id": "fc99bb08",
   "metadata": {
    "scrolled": true
   },
   "outputs": [
    {
     "ename": "TypeError",
     "evalue": "'value' must be an instance of str or bytes, not a numpy.float64",
     "output_type": "error",
     "traceback": [
      "\u001b[1;31m---------------------------------------------------------------------------\u001b[0m",
      "\u001b[1;31mTypeError\u001b[0m                                 Traceback (most recent call last)",
      "\u001b[1;32m~\\AppData\\Local\\Temp/ipykernel_14120/2310357858.py\u001b[0m in \u001b[0;36m<module>\u001b[1;34m\u001b[0m\n\u001b[1;32m----> 1\u001b[1;33m \u001b[0mplt\u001b[0m\u001b[1;33m.\u001b[0m\u001b[0mhist\u001b[0m\u001b[1;33m(\u001b[0m\u001b[0mdata\u001b[0m\u001b[1;33m[\u001b[0m\u001b[1;34m'country'\u001b[0m\u001b[1;33m]\u001b[0m\u001b[1;33m.\u001b[0m\u001b[0mfillna\u001b[0m\u001b[1;33m(\u001b[0m\u001b[0mdata\u001b[0m\u001b[1;33m[\u001b[0m\u001b[1;34m'book_rating'\u001b[0m\u001b[1;33m]\u001b[0m\u001b[1;33m.\u001b[0m\u001b[0mmean\u001b[0m\u001b[1;33m(\u001b[0m\u001b[1;33m)\u001b[0m\u001b[1;33m)\u001b[0m\u001b[1;33m,\u001b[0m \u001b[0mbins\u001b[0m\u001b[1;33m=\u001b[0m\u001b[1;36m20\u001b[0m\u001b[1;33m)\u001b[0m\u001b[1;33m\u001b[0m\u001b[1;33m\u001b[0m\u001b[0m\n\u001b[0m\u001b[0;32m      2\u001b[0m \u001b[0mplt\u001b[0m\u001b[1;33m.\u001b[0m\u001b[0mshow\u001b[0m\u001b[1;33m(\u001b[0m\u001b[1;33m)\u001b[0m\u001b[1;33m\u001b[0m\u001b[1;33m\u001b[0m\u001b[0m\n",
      "\u001b[1;32m~\\anaconda3\\lib\\site-packages\\matplotlib\\pyplot.py\u001b[0m in \u001b[0;36mhist\u001b[1;34m(x, bins, range, density, weights, cumulative, bottom, histtype, align, orientation, rwidth, log, color, label, stacked, data, **kwargs)\u001b[0m\n\u001b[0;32m   2683\u001b[0m         \u001b[0morientation\u001b[0m\u001b[1;33m=\u001b[0m\u001b[1;34m'vertical'\u001b[0m\u001b[1;33m,\u001b[0m \u001b[0mrwidth\u001b[0m\u001b[1;33m=\u001b[0m\u001b[1;32mNone\u001b[0m\u001b[1;33m,\u001b[0m \u001b[0mlog\u001b[0m\u001b[1;33m=\u001b[0m\u001b[1;32mFalse\u001b[0m\u001b[1;33m,\u001b[0m \u001b[0mcolor\u001b[0m\u001b[1;33m=\u001b[0m\u001b[1;32mNone\u001b[0m\u001b[1;33m,\u001b[0m\u001b[1;33m\u001b[0m\u001b[1;33m\u001b[0m\u001b[0m\n\u001b[0;32m   2684\u001b[0m         label=None, stacked=False, *, data=None, **kwargs):\n\u001b[1;32m-> 2685\u001b[1;33m     return gca().hist(\n\u001b[0m\u001b[0;32m   2686\u001b[0m         \u001b[0mx\u001b[0m\u001b[1;33m,\u001b[0m \u001b[0mbins\u001b[0m\u001b[1;33m=\u001b[0m\u001b[0mbins\u001b[0m\u001b[1;33m,\u001b[0m \u001b[0mrange\u001b[0m\u001b[1;33m=\u001b[0m\u001b[0mrange\u001b[0m\u001b[1;33m,\u001b[0m \u001b[0mdensity\u001b[0m\u001b[1;33m=\u001b[0m\u001b[0mdensity\u001b[0m\u001b[1;33m,\u001b[0m \u001b[0mweights\u001b[0m\u001b[1;33m=\u001b[0m\u001b[0mweights\u001b[0m\u001b[1;33m,\u001b[0m\u001b[1;33m\u001b[0m\u001b[1;33m\u001b[0m\u001b[0m\n\u001b[0;32m   2687\u001b[0m         \u001b[0mcumulative\u001b[0m\u001b[1;33m=\u001b[0m\u001b[0mcumulative\u001b[0m\u001b[1;33m,\u001b[0m \u001b[0mbottom\u001b[0m\u001b[1;33m=\u001b[0m\u001b[0mbottom\u001b[0m\u001b[1;33m,\u001b[0m \u001b[0mhisttype\u001b[0m\u001b[1;33m=\u001b[0m\u001b[0mhisttype\u001b[0m\u001b[1;33m,\u001b[0m\u001b[1;33m\u001b[0m\u001b[1;33m\u001b[0m\u001b[0m\n",
      "\u001b[1;32m~\\anaconda3\\lib\\site-packages\\matplotlib\\__init__.py\u001b[0m in \u001b[0;36minner\u001b[1;34m(ax, data, *args, **kwargs)\u001b[0m\n\u001b[0;32m   1445\u001b[0m     \u001b[1;32mdef\u001b[0m \u001b[0minner\u001b[0m\u001b[1;33m(\u001b[0m\u001b[0max\u001b[0m\u001b[1;33m,\u001b[0m \u001b[1;33m*\u001b[0m\u001b[0margs\u001b[0m\u001b[1;33m,\u001b[0m \u001b[0mdata\u001b[0m\u001b[1;33m=\u001b[0m\u001b[1;32mNone\u001b[0m\u001b[1;33m,\u001b[0m \u001b[1;33m**\u001b[0m\u001b[0mkwargs\u001b[0m\u001b[1;33m)\u001b[0m\u001b[1;33m:\u001b[0m\u001b[1;33m\u001b[0m\u001b[1;33m\u001b[0m\u001b[0m\n\u001b[0;32m   1446\u001b[0m         \u001b[1;32mif\u001b[0m \u001b[0mdata\u001b[0m \u001b[1;32mis\u001b[0m \u001b[1;32mNone\u001b[0m\u001b[1;33m:\u001b[0m\u001b[1;33m\u001b[0m\u001b[1;33m\u001b[0m\u001b[0m\n\u001b[1;32m-> 1447\u001b[1;33m             \u001b[1;32mreturn\u001b[0m \u001b[0mfunc\u001b[0m\u001b[1;33m(\u001b[0m\u001b[0max\u001b[0m\u001b[1;33m,\u001b[0m \u001b[1;33m*\u001b[0m\u001b[0mmap\u001b[0m\u001b[1;33m(\u001b[0m\u001b[0msanitize_sequence\u001b[0m\u001b[1;33m,\u001b[0m \u001b[0margs\u001b[0m\u001b[1;33m)\u001b[0m\u001b[1;33m,\u001b[0m \u001b[1;33m**\u001b[0m\u001b[0mkwargs\u001b[0m\u001b[1;33m)\u001b[0m\u001b[1;33m\u001b[0m\u001b[1;33m\u001b[0m\u001b[0m\n\u001b[0m\u001b[0;32m   1448\u001b[0m \u001b[1;33m\u001b[0m\u001b[0m\n\u001b[0;32m   1449\u001b[0m         \u001b[0mbound\u001b[0m \u001b[1;33m=\u001b[0m \u001b[0mnew_sig\u001b[0m\u001b[1;33m.\u001b[0m\u001b[0mbind\u001b[0m\u001b[1;33m(\u001b[0m\u001b[0max\u001b[0m\u001b[1;33m,\u001b[0m \u001b[1;33m*\u001b[0m\u001b[0margs\u001b[0m\u001b[1;33m,\u001b[0m \u001b[1;33m**\u001b[0m\u001b[0mkwargs\u001b[0m\u001b[1;33m)\u001b[0m\u001b[1;33m\u001b[0m\u001b[1;33m\u001b[0m\u001b[0m\n",
      "\u001b[1;32m~\\anaconda3\\lib\\site-packages\\matplotlib\\axes\\_axes.py\u001b[0m in \u001b[0;36mhist\u001b[1;34m(self, x, bins, range, density, weights, cumulative, bottom, histtype, align, orientation, rwidth, log, color, label, stacked, **kwargs)\u001b[0m\n\u001b[0;32m   6574\u001b[0m         \u001b[1;31m# Process unit information\u001b[0m\u001b[1;33m\u001b[0m\u001b[1;33m\u001b[0m\u001b[1;33m\u001b[0m\u001b[0m\n\u001b[0;32m   6575\u001b[0m         \u001b[1;31m# Unit conversion is done individually on each dataset\u001b[0m\u001b[1;33m\u001b[0m\u001b[1;33m\u001b[0m\u001b[1;33m\u001b[0m\u001b[0m\n\u001b[1;32m-> 6576\u001b[1;33m         \u001b[0mself\u001b[0m\u001b[1;33m.\u001b[0m\u001b[0m_process_unit_info\u001b[0m\u001b[1;33m(\u001b[0m\u001b[0mxdata\u001b[0m\u001b[1;33m=\u001b[0m\u001b[0mx\u001b[0m\u001b[1;33m[\u001b[0m\u001b[1;36m0\u001b[0m\u001b[1;33m]\u001b[0m\u001b[1;33m,\u001b[0m \u001b[0mkwargs\u001b[0m\u001b[1;33m=\u001b[0m\u001b[0mkwargs\u001b[0m\u001b[1;33m)\u001b[0m\u001b[1;33m\u001b[0m\u001b[1;33m\u001b[0m\u001b[0m\n\u001b[0m\u001b[0;32m   6577\u001b[0m         \u001b[0mx\u001b[0m \u001b[1;33m=\u001b[0m \u001b[1;33m[\u001b[0m\u001b[0mself\u001b[0m\u001b[1;33m.\u001b[0m\u001b[0mconvert_xunits\u001b[0m\u001b[1;33m(\u001b[0m\u001b[0mxi\u001b[0m\u001b[1;33m)\u001b[0m \u001b[1;32mfor\u001b[0m \u001b[0mxi\u001b[0m \u001b[1;32min\u001b[0m \u001b[0mx\u001b[0m\u001b[1;33m]\u001b[0m\u001b[1;33m\u001b[0m\u001b[1;33m\u001b[0m\u001b[0m\n\u001b[0;32m   6578\u001b[0m \u001b[1;33m\u001b[0m\u001b[0m\n",
      "\u001b[1;32m~\\anaconda3\\lib\\site-packages\\matplotlib\\axes\\_base.py\u001b[0m in \u001b[0;36m_process_unit_info\u001b[1;34m(self, xdata, ydata, kwargs)\u001b[0m\n\u001b[0;32m   2187\u001b[0m             \u001b[1;32mreturn\u001b[0m \u001b[0mkwargs\u001b[0m\u001b[1;33m\u001b[0m\u001b[1;33m\u001b[0m\u001b[0m\n\u001b[0;32m   2188\u001b[0m \u001b[1;33m\u001b[0m\u001b[0m\n\u001b[1;32m-> 2189\u001b[1;33m         \u001b[0mkwargs\u001b[0m \u001b[1;33m=\u001b[0m \u001b[0m_process_single_axis\u001b[0m\u001b[1;33m(\u001b[0m\u001b[0mxdata\u001b[0m\u001b[1;33m,\u001b[0m \u001b[0mself\u001b[0m\u001b[1;33m.\u001b[0m\u001b[0mxaxis\u001b[0m\u001b[1;33m,\u001b[0m \u001b[1;34m'xunits'\u001b[0m\u001b[1;33m,\u001b[0m \u001b[0mkwargs\u001b[0m\u001b[1;33m)\u001b[0m\u001b[1;33m\u001b[0m\u001b[1;33m\u001b[0m\u001b[0m\n\u001b[0m\u001b[0;32m   2190\u001b[0m         \u001b[0mkwargs\u001b[0m \u001b[1;33m=\u001b[0m \u001b[0m_process_single_axis\u001b[0m\u001b[1;33m(\u001b[0m\u001b[0mydata\u001b[0m\u001b[1;33m,\u001b[0m \u001b[0mself\u001b[0m\u001b[1;33m.\u001b[0m\u001b[0myaxis\u001b[0m\u001b[1;33m,\u001b[0m \u001b[1;34m'yunits'\u001b[0m\u001b[1;33m,\u001b[0m \u001b[0mkwargs\u001b[0m\u001b[1;33m)\u001b[0m\u001b[1;33m\u001b[0m\u001b[1;33m\u001b[0m\u001b[0m\n\u001b[0;32m   2191\u001b[0m         \u001b[1;32mreturn\u001b[0m \u001b[0mkwargs\u001b[0m\u001b[1;33m\u001b[0m\u001b[1;33m\u001b[0m\u001b[0m\n",
      "\u001b[1;32m~\\anaconda3\\lib\\site-packages\\matplotlib\\axes\\_base.py\u001b[0m in \u001b[0;36m_process_single_axis\u001b[1;34m(data, axis, unit_name, kwargs)\u001b[0m\n\u001b[0;32m   2170\u001b[0m                 \u001b[1;31m# We only need to update if there is nothing set yet.\u001b[0m\u001b[1;33m\u001b[0m\u001b[1;33m\u001b[0m\u001b[1;33m\u001b[0m\u001b[0m\n\u001b[0;32m   2171\u001b[0m                 \u001b[1;32mif\u001b[0m \u001b[1;32mnot\u001b[0m \u001b[0maxis\u001b[0m\u001b[1;33m.\u001b[0m\u001b[0mhave_units\u001b[0m\u001b[1;33m(\u001b[0m\u001b[1;33m)\u001b[0m\u001b[1;33m:\u001b[0m\u001b[1;33m\u001b[0m\u001b[1;33m\u001b[0m\u001b[0m\n\u001b[1;32m-> 2172\u001b[1;33m                     \u001b[0maxis\u001b[0m\u001b[1;33m.\u001b[0m\u001b[0mupdate_units\u001b[0m\u001b[1;33m(\u001b[0m\u001b[0mdata\u001b[0m\u001b[1;33m)\u001b[0m\u001b[1;33m\u001b[0m\u001b[1;33m\u001b[0m\u001b[0m\n\u001b[0m\u001b[0;32m   2173\u001b[0m \u001b[1;33m\u001b[0m\u001b[0m\n\u001b[0;32m   2174\u001b[0m             \u001b[1;31m# Check for units in the kwargs, and if present update axis\u001b[0m\u001b[1;33m\u001b[0m\u001b[1;33m\u001b[0m\u001b[1;33m\u001b[0m\u001b[0m\n",
      "\u001b[1;32m~\\anaconda3\\lib\\site-packages\\matplotlib\\axis.py\u001b[0m in \u001b[0;36mupdate_units\u001b[1;34m(self, data)\u001b[0m\n\u001b[0;32m   1464\u001b[0m         \u001b[0mneednew\u001b[0m \u001b[1;33m=\u001b[0m \u001b[0mself\u001b[0m\u001b[1;33m.\u001b[0m\u001b[0mconverter\u001b[0m \u001b[1;33m!=\u001b[0m \u001b[0mconverter\u001b[0m\u001b[1;33m\u001b[0m\u001b[1;33m\u001b[0m\u001b[0m\n\u001b[0;32m   1465\u001b[0m         \u001b[0mself\u001b[0m\u001b[1;33m.\u001b[0m\u001b[0mconverter\u001b[0m \u001b[1;33m=\u001b[0m \u001b[0mconverter\u001b[0m\u001b[1;33m\u001b[0m\u001b[1;33m\u001b[0m\u001b[0m\n\u001b[1;32m-> 1466\u001b[1;33m         \u001b[0mdefault\u001b[0m \u001b[1;33m=\u001b[0m \u001b[0mself\u001b[0m\u001b[1;33m.\u001b[0m\u001b[0mconverter\u001b[0m\u001b[1;33m.\u001b[0m\u001b[0mdefault_units\u001b[0m\u001b[1;33m(\u001b[0m\u001b[0mdata\u001b[0m\u001b[1;33m,\u001b[0m \u001b[0mself\u001b[0m\u001b[1;33m)\u001b[0m\u001b[1;33m\u001b[0m\u001b[1;33m\u001b[0m\u001b[0m\n\u001b[0m\u001b[0;32m   1467\u001b[0m         \u001b[1;32mif\u001b[0m \u001b[0mdefault\u001b[0m \u001b[1;32mis\u001b[0m \u001b[1;32mnot\u001b[0m \u001b[1;32mNone\u001b[0m \u001b[1;32mand\u001b[0m \u001b[0mself\u001b[0m\u001b[1;33m.\u001b[0m\u001b[0munits\u001b[0m \u001b[1;32mis\u001b[0m \u001b[1;32mNone\u001b[0m\u001b[1;33m:\u001b[0m\u001b[1;33m\u001b[0m\u001b[1;33m\u001b[0m\u001b[0m\n\u001b[0;32m   1468\u001b[0m             \u001b[0mself\u001b[0m\u001b[1;33m.\u001b[0m\u001b[0mset_units\u001b[0m\u001b[1;33m(\u001b[0m\u001b[0mdefault\u001b[0m\u001b[1;33m)\u001b[0m\u001b[1;33m\u001b[0m\u001b[1;33m\u001b[0m\u001b[0m\n",
      "\u001b[1;32m~\\anaconda3\\lib\\site-packages\\matplotlib\\category.py\u001b[0m in \u001b[0;36mdefault_units\u001b[1;34m(data, axis)\u001b[0m\n\u001b[0;32m    105\u001b[0m         \u001b[1;31m# the conversion call stack is default_units -> axis_info -> convert\u001b[0m\u001b[1;33m\u001b[0m\u001b[1;33m\u001b[0m\u001b[1;33m\u001b[0m\u001b[0m\n\u001b[0;32m    106\u001b[0m         \u001b[1;32mif\u001b[0m \u001b[0maxis\u001b[0m\u001b[1;33m.\u001b[0m\u001b[0munits\u001b[0m \u001b[1;32mis\u001b[0m \u001b[1;32mNone\u001b[0m\u001b[1;33m:\u001b[0m\u001b[1;33m\u001b[0m\u001b[1;33m\u001b[0m\u001b[0m\n\u001b[1;32m--> 107\u001b[1;33m             \u001b[0maxis\u001b[0m\u001b[1;33m.\u001b[0m\u001b[0mset_units\u001b[0m\u001b[1;33m(\u001b[0m\u001b[0mUnitData\u001b[0m\u001b[1;33m(\u001b[0m\u001b[0mdata\u001b[0m\u001b[1;33m)\u001b[0m\u001b[1;33m)\u001b[0m\u001b[1;33m\u001b[0m\u001b[1;33m\u001b[0m\u001b[0m\n\u001b[0m\u001b[0;32m    108\u001b[0m         \u001b[1;32melse\u001b[0m\u001b[1;33m:\u001b[0m\u001b[1;33m\u001b[0m\u001b[1;33m\u001b[0m\u001b[0m\n\u001b[0;32m    109\u001b[0m             \u001b[0maxis\u001b[0m\u001b[1;33m.\u001b[0m\u001b[0munits\u001b[0m\u001b[1;33m.\u001b[0m\u001b[0mupdate\u001b[0m\u001b[1;33m(\u001b[0m\u001b[0mdata\u001b[0m\u001b[1;33m)\u001b[0m\u001b[1;33m\u001b[0m\u001b[1;33m\u001b[0m\u001b[0m\n",
      "\u001b[1;32m~\\anaconda3\\lib\\site-packages\\matplotlib\\category.py\u001b[0m in \u001b[0;36m__init__\u001b[1;34m(self, data)\u001b[0m\n\u001b[0;32m    174\u001b[0m         \u001b[0mself\u001b[0m\u001b[1;33m.\u001b[0m\u001b[0m_counter\u001b[0m \u001b[1;33m=\u001b[0m \u001b[0mitertools\u001b[0m\u001b[1;33m.\u001b[0m\u001b[0mcount\u001b[0m\u001b[1;33m(\u001b[0m\u001b[1;33m)\u001b[0m\u001b[1;33m\u001b[0m\u001b[1;33m\u001b[0m\u001b[0m\n\u001b[0;32m    175\u001b[0m         \u001b[1;32mif\u001b[0m \u001b[0mdata\u001b[0m \u001b[1;32mis\u001b[0m \u001b[1;32mnot\u001b[0m \u001b[1;32mNone\u001b[0m\u001b[1;33m:\u001b[0m\u001b[1;33m\u001b[0m\u001b[1;33m\u001b[0m\u001b[0m\n\u001b[1;32m--> 176\u001b[1;33m             \u001b[0mself\u001b[0m\u001b[1;33m.\u001b[0m\u001b[0mupdate\u001b[0m\u001b[1;33m(\u001b[0m\u001b[0mdata\u001b[0m\u001b[1;33m)\u001b[0m\u001b[1;33m\u001b[0m\u001b[1;33m\u001b[0m\u001b[0m\n\u001b[0m\u001b[0;32m    177\u001b[0m \u001b[1;33m\u001b[0m\u001b[0m\n\u001b[0;32m    178\u001b[0m     \u001b[1;33m@\u001b[0m\u001b[0mstaticmethod\u001b[0m\u001b[1;33m\u001b[0m\u001b[1;33m\u001b[0m\u001b[0m\n",
      "\u001b[1;32m~\\anaconda3\\lib\\site-packages\\matplotlib\\category.py\u001b[0m in \u001b[0;36mupdate\u001b[1;34m(self, data)\u001b[0m\n\u001b[0;32m    209\u001b[0m         \u001b[1;32mfor\u001b[0m \u001b[0mval\u001b[0m \u001b[1;32min\u001b[0m \u001b[0mOrderedDict\u001b[0m\u001b[1;33m.\u001b[0m\u001b[0mfromkeys\u001b[0m\u001b[1;33m(\u001b[0m\u001b[0mdata\u001b[0m\u001b[1;33m)\u001b[0m\u001b[1;33m:\u001b[0m\u001b[1;33m\u001b[0m\u001b[1;33m\u001b[0m\u001b[0m\n\u001b[0;32m    210\u001b[0m             \u001b[1;31m# OrderedDict just iterates over unique values in data.\u001b[0m\u001b[1;33m\u001b[0m\u001b[1;33m\u001b[0m\u001b[1;33m\u001b[0m\u001b[0m\n\u001b[1;32m--> 211\u001b[1;33m             \u001b[0mcbook\u001b[0m\u001b[1;33m.\u001b[0m\u001b[0m_check_isinstance\u001b[0m\u001b[1;33m(\u001b[0m\u001b[1;33m(\u001b[0m\u001b[0mstr\u001b[0m\u001b[1;33m,\u001b[0m \u001b[0mbytes\u001b[0m\u001b[1;33m)\u001b[0m\u001b[1;33m,\u001b[0m \u001b[0mvalue\u001b[0m\u001b[1;33m=\u001b[0m\u001b[0mval\u001b[0m\u001b[1;33m)\u001b[0m\u001b[1;33m\u001b[0m\u001b[1;33m\u001b[0m\u001b[0m\n\u001b[0m\u001b[0;32m    212\u001b[0m             \u001b[1;32mif\u001b[0m \u001b[0mconvertible\u001b[0m\u001b[1;33m:\u001b[0m\u001b[1;33m\u001b[0m\u001b[1;33m\u001b[0m\u001b[0m\n\u001b[0;32m    213\u001b[0m                 \u001b[1;31m# this will only be called so long as convertible is True.\u001b[0m\u001b[1;33m\u001b[0m\u001b[1;33m\u001b[0m\u001b[1;33m\u001b[0m\u001b[0m\n",
      "\u001b[1;32m~\\anaconda3\\lib\\site-packages\\matplotlib\\cbook\\__init__.py\u001b[0m in \u001b[0;36m_check_isinstance\u001b[1;34m(_types, **kwargs)\u001b[0m\n\u001b[0;32m   2244\u001b[0m     \u001b[1;32mfor\u001b[0m \u001b[0mk\u001b[0m\u001b[1;33m,\u001b[0m \u001b[0mv\u001b[0m \u001b[1;32min\u001b[0m \u001b[0mkwargs\u001b[0m\u001b[1;33m.\u001b[0m\u001b[0mitems\u001b[0m\u001b[1;33m(\u001b[0m\u001b[1;33m)\u001b[0m\u001b[1;33m:\u001b[0m\u001b[1;33m\u001b[0m\u001b[1;33m\u001b[0m\u001b[0m\n\u001b[0;32m   2245\u001b[0m         \u001b[1;32mif\u001b[0m \u001b[1;32mnot\u001b[0m \u001b[0misinstance\u001b[0m\u001b[1;33m(\u001b[0m\u001b[0mv\u001b[0m\u001b[1;33m,\u001b[0m \u001b[0mtypes\u001b[0m\u001b[1;33m)\u001b[0m\u001b[1;33m:\u001b[0m\u001b[1;33m\u001b[0m\u001b[1;33m\u001b[0m\u001b[0m\n\u001b[1;32m-> 2246\u001b[1;33m             raise TypeError(\n\u001b[0m\u001b[0;32m   2247\u001b[0m                 \"{!r} must be an instance of {}, not a {}\".format(\n\u001b[0;32m   2248\u001b[0m                     \u001b[0mk\u001b[0m\u001b[1;33m,\u001b[0m\u001b[1;33m\u001b[0m\u001b[1;33m\u001b[0m\u001b[0m\n",
      "\u001b[1;31mTypeError\u001b[0m: 'value' must be an instance of str or bytes, not a numpy.float64"
     ]
    },
    {
     "data": {
      "image/png": "[encoded data removed]",
      "text/plain": [
       "<Figure size 432x288 with 1 Axes>"
      ]
     },
     "metadata": {
      "needs_background": "light"
     },
     "output_type": "display_data"
    }
   ],
   "source": [
    "plt.hist(data['country'].fillna(data['book_rating'].mean()), bins=20)\n",
    "plt.show()"
   ]
  },
  {
   "cell_type": "code",
   "execution_count": null,
   "id": "aa591c32",
   "metadata": {},
   "outputs": [],
   "source": [
    "corr_matrix=data.corr(method='pearson') \n",
    "fig, ax = plt.subplots(figsize=(20, 10))\n",
    "ax = sns.heatmap(corr_matrix, annot=True)\n",
    "#plt.show()"
   ]
  },
  {
   "cell_type": "code",
   "execution_count": null,
   "id": "94b16159",
   "metadata": {
    "scrolled": false
   },
   "outputs": [],
   "source": [
    "#for col in data.select_dtypes(np.number):\n",
    "#    sns.distplot(data[col])\n",
    "#    plt.show()"
   ]
  },
  {
   "cell_type": "code",
   "execution_count": null,
   "id": "0c9d2ef1",
   "metadata": {},
   "outputs": [],
   "source": [
    "data.drop(['MyUnknownColumn'], axis=1, inplace=True)"
   ]
  },
  {
   "cell_type": "code",
   "execution_count": null,
   "id": "e19b3394",
   "metadata": {},
   "outputs": [],
   "source": [
    "num = data.select_dtypes('number')\n",
    "for c in num.columns:\n",
    "    fig, axes = plt.subplots(1, 2, figsize=(15, 5))\n",
    "    sns.set_style(\"darkgrid\")\n",
    "    sns.distplot(num[c], ax=axes[0],  color = 'gray')\n",
    "    sns.boxplot(num[c], ax=axes[1],  color = 'gray')\n",
    "    #plt.show()"
   ]
  },
  {
   "cell_type": "code",
   "execution_count": null,
   "id": "c5666ff0",
   "metadata": {},
   "outputs": [],
   "source": [
    "def remove_outliers(data, threshold=1.5, in_columns=data.select_dtypes(np.number).columns, skip_columns=[]):\n",
    "    for column in in_columns:\n",
    "        if column not in skip_columns:\n",
    "            upper = np.percentile(data[column],75)\n",
    "            lower = np.percentile(data[column],25)\n",
    "            iqr = upper - lower\n",
    "            upper_limit = upper + (threshold * iqr)\n",
    "            lower_limit = lower - (threshold * iqr)\n",
    "            data = data[(data[column]>lower_limit) & (data[column]<upper_limit)]\n",
    "    return data"
   ]
  },
  {
   "cell_type": "code",
   "execution_count": null,
   "id": "7e9a35b0",
   "metadata": {},
   "outputs": [],
   "source": [
    "data = pd.get_dummies(data, drop_first=True) \n"
   ]
  },
  {
   "cell_type": "code",
   "execution_count": null,
   "id": "666c6e24",
   "metadata": {},
   "outputs": [],
   "source": []
  },
  {
   "cell_type": "markdown",
   "id": "fcf6a721",
   "metadata": {},
   "source": [
    "### _KMEANS_"
   ]
  },
  {
   "cell_type": "code",
   "execution_count": null,
   "id": "c8b346fc",
   "metadata": {},
   "outputs": [],
   "source": [
    "import pandas as pd\n",
    "from sklearn import datasets\n",
    "\n",
    "data = datasets.load_wine()\n",
    "\n",
    "X = pd.DataFrame(data[\"data\"], columns=data[\"feature_names\"])\n",
    "# y = pd.Series(data[\"target\"])\n",
    "\n",
    "X.head()"
   ]
  },
  {
   "cell_type": "code",
   "execution_count": null,
   "id": "5b3c88fc",
   "metadata": {},
   "outputs": [],
   "source": [
    "# K-Means is a distance based algorithm: we need to scale / normalize:\n",
    "from sklearn.preprocessing import StandardScaler\n",
    "X_prep = StandardScaler().fit_transform(X)\n",
    "\n",
    "pd.DataFrame(X_prep).head()"
   ]
  },
  {
   "cell_type": "code",
   "execution_count": null,
   "id": "44d01e4c",
   "metadata": {},
   "outputs": [],
   "source": [
    "from sklearn.cluster import KMeans\n",
    "\n",
    "kmeans = KMeans(n_clusters=3, random_state=42)\n",
    "kmeans.fit(X_prep)"
   ]
  },
  {
   "cell_type": "code",
   "execution_count": null,
   "id": "db10eb14",
   "metadata": {},
   "outputs": [],
   "source": [
    "# Predicting / assigning the clusters:\n",
    "clusters = kmeans.predict(X_prep)\n",
    "clusters"
   ]
  },
  {
   "cell_type": "code",
   "execution_count": null,
   "id": "59f1b934",
   "metadata": {},
   "outputs": [],
   "source": [
    "# Check the size of the clusters\n",
    "pd.Series(clusters).value_counts().sort_index()"
   ]
  },
  {
   "cell_type": "code",
   "execution_count": null,
   "id": "28cd3842",
   "metadata": {},
   "outputs": [],
   "source": [
    "# Explore the cluster assignment in the original dataset\n",
    "X_df = pd.DataFrame(X)\n",
    "X_df[\"cluster\"] = clusters\n",
    "X_df.head()\n",
    "\n",
    "X_df['cluster'] = X_df['cluster'].apply(lambda x: 0 if x == 1 else 1 if x == 2 else 2)\n",
    "X_df"
   ]
  },
  {
   "cell_type": "code",
   "execution_count": null,
   "id": "13fdf761",
   "metadata": {},
   "outputs": [],
   "source": [
    "# Class Weigh"
   ]
  },
  {
   "cell_type": "markdown",
   "id": "80b14abe",
   "metadata": {},
   "source": [
    "### . _Choosing the best value of k for the KNN_"
   ]
  },
  {
   "cell_type": "code",
   "execution_count": 144,
   "id": "a4bdbe10",
   "metadata": {},
   "outputs": [],
   "source": [
    "from sklearn.neighbors import KNeighborsRegressor\n",
    "scores = []\n",
    "for i in range(2,10):\n",
    "    model = KNeighborsRegressor(n_neighbors=i)\n",
    "    model.fit(X_train, y_train)\n",
    "    scores.append(model.score(X_test, y_test))"
   ]
  },
  {
   "cell_type": "code",
   "execution_count": 145,
   "id": "604a2528",
   "metadata": {},
   "outputs": [
    {
     "data": {
      "text/plain": [
       "Text(0, 0.5, 'Accuracy')"
      ]
     },
     "execution_count": 145,
     "metadata": {},
     "output_type": "execute_result"
    },
    {
     "data": {
      "image/png": "[encoded data removed]",
      "text/plain": [
       "<Figure size 720x432 with 1 Axes>"
      ]
     },
     "metadata": {},
     "output_type": "display_data"
    }
   ],
   "source": [
    "plt.figure(figsize=(10,6))\n",
    "plt.plot(range(2,10),scores,color = 'blue', linestyle='dashed',\n",
    "         marker='o', markerfacecolor='red', markersize=10)\n",
    "plt.title('accuracy scores vs. K Value')\n",
    "plt.xlabel('K')\n",
    "plt.ylabel('Accuracy')"
   ]
  },
  {
   "cell_type": "markdown",
   "id": "e8b5cca1",
   "metadata": {},
   "source": [
    "### . _Measures of accuracies for regression models_"
   ]
  },
  {
   "cell_type": "code",
   "execution_count": 146,
   "id": "fef2ab3c",
   "metadata": {},
   "outputs": [
    {
     "data": {
      "text/plain": [
       "194.750812033821"
      ]
     },
     "execution_count": 146,
     "metadata": {},
     "output_type": "execute_result"
    }
   ],
   "source": [
    "from sklearn.metrics import mean_absolute_error\n",
    "score = mean_absolute_error(y_test, predictions)\n",
    "score"
   ]
  },
  {
   "cell_type": "code",
   "execution_count": 147,
   "id": "e36ef075",
   "metadata": {},
   "outputs": [
    {
     "data": {
      "text/plain": [
       "67841.48765657935"
      ]
     },
     "execution_count": 147,
     "metadata": {},
     "output_type": "execute_result"
    }
   ],
   "source": [
    "from sklearn.metrics import mean_squared_error\n",
    "score = mean_squared_error(y_test, predictions)\n",
    "score"
   ]
  },
  {
   "cell_type": "code",
   "execution_count": 148,
   "id": "be044b94",
   "metadata": {},
   "outputs": [
    {
     "data": {
      "text/plain": [
       "260.46398533497745"
      ]
     },
     "execution_count": 148,
     "metadata": {},
     "output_type": "execute_result"
    }
   ],
   "source": [
    "import math\n",
    "from sklearn.metrics import mean_squared_error\n",
    "mse = mean_squared_error(y_test, predictions)\n",
    "rmse = math.sqrt(mse)\n",
    "rmse"
   ]
  },
  {
   "cell_type": "markdown",
   "id": "3d1074bd",
   "metadata": {},
   "source": [
    "### . _R-squared value_"
   ]
  },
  {
   "cell_type": "code",
   "execution_count": 150,
   "id": "307511ff",
   "metadata": {},
   "outputs": [
    {
     "data": {
      "text/plain": [
       "0.45378463851113215"
      ]
     },
     "execution_count": 150,
     "metadata": {},
     "output_type": "execute_result"
    }
   ],
   "source": [
    "from sklearn.metrics import r2_score\n",
    "score = r2_score(y_test, predictions)\n",
    "score"
   ]
  },
  {
   "cell_type": "code",
   "execution_count": 153,
   "id": "428c5f58",
   "metadata": {},
   "outputs": [
    {
     "data": {
      "text/plain": [
       "0.4479695440778191"
      ]
     },
     "execution_count": 153,
     "metadata": {},
     "output_type": "execute_result"
    }
   ],
   "source": [
    "score = 1 - (1-score)*(len(y_test)-1)/(len(y_test)-X_test.shape[1]-1)\n",
    "score"
   ]
  },
  {
   "cell_type": "code",
   "execution_count": 156,
   "id": "625eab8f",
   "metadata": {},
   "outputs": [
    {
     "name": "stdout",
     "output_type": "stream",
     "text": [
      "260.46398533497745\n"
     ]
    }
   ],
   "source": [
    "rmse = math.sqrt(mse)\n",
    "print(rmse)"
   ]
  },
  {
   "cell_type": "code",
   "execution_count": 157,
   "id": "07d2ddda",
   "metadata": {},
   "outputs": [
    {
     "name": "stdout",
     "output_type": "stream",
     "text": [
      "0.45378463851113215\n"
     ]
    }
   ],
   "source": [
    "r2 = r2_score(y_test, predictions)\n",
    "print(r2)"
   ]
  },
  {
   "cell_type": "code",
   "execution_count": 158,
   "id": "32b5ee54",
   "metadata": {},
   "outputs": [
    {
     "name": "stdout",
     "output_type": "stream",
     "text": [
      "0.45185311201414946\n"
     ]
    }
   ],
   "source": [
    "n = len(X_test)\n",
    "p = X_test.shape[1]\n",
    "adj_r2 = 1-((1-r2)*(n-1)/(n-p-1))\n",
    "print(adj_r2)"
   ]
  },
  {
   "cell_type": "code",
   "execution_count": null,
   "id": "f3071633",
   "metadata": {},
   "outputs": [],
   "source": []
  }
 ],
 "metadata": {
  "kernelspec": {
   "display_name": "Python 3",
   "language": "python",
   "name": "python3"
  },
  "language_info": {
   "codemirror_mode": {
    "name": "ipython",
    "version": 3
   },
   "file_extension": ".py",
   "mimetype": "text/x-python",
   "name": "python",
   "nbconvert_exporter": "python",
   "pygments_lexer": "ipython3",
   "version": "3.8.8"
  },
  "toc": {
   "base_numbering": 1,
   "nav_menu": {},
   "number_sections": true,
   "sideBar": true,
   "skip_h1_title": false,
   "title_cell": "Table of Contents",
   "title_sidebar": "Contents",
   "toc_cell": false,
   "toc_position": {
    "height": "calc(100% - 180px)",
    "left": "10px",
    "top": "150px",
    "width": "305.188px"
   },
   "toc_section_display": true,
   "toc_window_display": true
  },
  "varInspector": {
   "cols": {
    "lenName": 16,
    "lenType": 16,
    "lenVar": 40
   },
   "kernels_config": {
    "python": {
     "delete_cmd_postfix": "",
     "delete_cmd_prefix": "del ",
     "library": "var_list.py",
     "varRefreshCmd": "print(var_dic_list())"
    },
    "r": {
     "delete_cmd_postfix": ") ",
     "delete_cmd_prefix": "rm(",
     "library": "var_list.r",
     "varRefreshCmd": "cat(var_dic_list()) "
    }
   },
   "types_to_exclude": [
    "module",
    "function",
    "builtin_function_or_method",
    "instance",
    "_Feature"
   ],
   "window_display": false
  }
 },
 "nbformat": 4,
 "nbformat_minor": 5
}
