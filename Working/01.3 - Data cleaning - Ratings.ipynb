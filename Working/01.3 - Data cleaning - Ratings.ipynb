{
 "cells": [
  {
   "cell_type": "markdown",
   "id": "1446b846",
   "metadata": {},
   "source": [
    "# _Dataset cleaning : Ratings_"
   ]
  },
  {
   "cell_type": "markdown",
   "id": "a5b1173d",
   "metadata": {},
   "source": [
    "## . Import Libraries"
   ]
  },
  {
   "cell_type": "code",
   "execution_count": 27,
   "id": "e406a7d6",
   "metadata": {},
   "outputs": [],
   "source": [
    "import math\n",
    "import matplotlib.pyplot as plt\n",
    "import numpy as np\n",
    "import os, sys\n",
    "import pandas as pd\n",
    "import re\n",
    "import seaborn as sns\n",
    "\n",
    "\n",
    "import warnings\n",
    "warnings.filterwarnings('ignore')\n",
    "#pd.set_option('display.max_colwidth', -1) =>check what it is actually doing\n",
    "\n",
    "# Dataset has 271361 rows, jupyter notebook is crashing \n",
    "#if I don't limit the number of rows displayed below.\n",
    "pd.set_option('display.max_columns', 1000) \n",
    "pd.set_option('display.max_rows', 1000)\n",
    "pd.options.display.max_columns = 1000"
   ]
  },
  {
   "cell_type": "markdown",
   "id": "c97cd53a",
   "metadata": {},
   "source": [
    "##  . _Import Data_"
   ]
  },
  {
   "cell_type": "code",
   "execution_count": 2,
   "id": "d862e5a0",
   "metadata": {},
   "outputs": [
    {
     "data": {
      "text/html": [
       "<div>\n",
       "<style scoped>\n",
       "    .dataframe tbody tr th:only-of-type {\n",
       "        vertical-align: middle;\n",
       "    }\n",
       "\n",
       "    .dataframe tbody tr th {\n",
       "        vertical-align: top;\n",
       "    }\n",
       "\n",
       "    .dataframe thead th {\n",
       "        text-align: right;\n",
       "    }\n",
       "</style>\n",
       "<table border=\"1\" class=\"dataframe\">\n",
       "  <thead>\n",
       "    <tr style=\"text-align: right;\">\n",
       "      <th></th>\n",
       "      <th>User-ID</th>\n",
       "      <th>ISBN</th>\n",
       "      <th>Book-Rating</th>\n",
       "    </tr>\n",
       "  </thead>\n",
       "  <tbody>\n",
       "    <tr>\n",
       "      <th>0</th>\n",
       "      <td>276725</td>\n",
       "      <td>034545104X</td>\n",
       "      <td>0</td>\n",
       "    </tr>\n",
       "    <tr>\n",
       "      <th>1</th>\n",
       "      <td>276726</td>\n",
       "      <td>0155061224</td>\n",
       "      <td>5</td>\n",
       "    </tr>\n",
       "    <tr>\n",
       "      <th>2</th>\n",
       "      <td>276727</td>\n",
       "      <td>0446520802</td>\n",
       "      <td>0</td>\n",
       "    </tr>\n",
       "    <tr>\n",
       "      <th>3</th>\n",
       "      <td>276729</td>\n",
       "      <td>052165615X</td>\n",
       "      <td>3</td>\n",
       "    </tr>\n",
       "    <tr>\n",
       "      <th>4</th>\n",
       "      <td>276729</td>\n",
       "      <td>0521795028</td>\n",
       "      <td>6</td>\n",
       "    </tr>\n",
       "  </tbody>\n",
       "</table>\n",
       "</div>"
      ],
      "text/plain": [
       "   User-ID        ISBN  Book-Rating\n",
       "0   276725  034545104X            0\n",
       "1   276726  0155061224            5\n",
       "2   276727  0446520802            0\n",
       "3   276729  052165615X            3\n",
       "4   276729  0521795028            6"
      ]
     },
     "execution_count": 2,
     "metadata": {},
     "output_type": "execute_result"
    }
   ],
   "source": [
    "ratings = pd.read_csv('ratings.csv')\n",
    "ratings.head()"
   ]
  },
  {
   "cell_type": "code",
   "execution_count": 12,
   "id": "6b317010",
   "metadata": {},
   "outputs": [],
   "source": [
    "users_f = pd.read_csv('users_final.csv')\n",
    "books_f = pd.read_csv('books_final.csv')"
   ]
  },
  {
   "cell_type": "markdown",
   "id": "6acb6727",
   "metadata": {},
   "source": [
    "##  . _Data Exploring_"
   ]
  },
  {
   "cell_type": "markdown",
   "id": "9b6cfcfb",
   "metadata": {},
   "source": [
    "Explore and check the dataset, it is necessary to know your dataset before starting cleaning or \n",
    "dropping information."
   ]
  },
  {
   "cell_type": "code",
   "execution_count": 3,
   "id": "eb2934b6",
   "metadata": {},
   "outputs": [
    {
     "data": {
      "text/plain": [
       "(1149780, 3)"
      ]
     },
     "execution_count": 3,
     "metadata": {},
     "output_type": "execute_result"
    }
   ],
   "source": [
    "ratings.shape"
   ]
  },
  {
   "cell_type": "markdown",
   "id": "89a9b866",
   "metadata": {},
   "source": [
    "Type of data:"
   ]
  },
  {
   "cell_type": "code",
   "execution_count": 13,
   "id": "43fda9df",
   "metadata": {},
   "outputs": [
    {
     "data": {
      "text/plain": [
       "user_id         int64\n",
       "isbn           object\n",
       "book_rating     int64\n",
       "dtype: object"
      ]
     },
     "execution_count": 13,
     "metadata": {},
     "output_type": "execute_result"
    }
   ],
   "source": [
    "ratings.dtypes"
   ]
  },
  {
   "cell_type": "code",
   "execution_count": 14,
   "id": "c60d1643",
   "metadata": {},
   "outputs": [
    {
     "data": {
      "text/plain": [
       "<bound method DataFrame.info of          user_id         isbn  book_rating\n",
       "0         276725   034545104X            0\n",
       "1         276726   0155061224            5\n",
       "2         276727   0446520802            0\n",
       "3         276729   052165615X            3\n",
       "4         276729   0521795028            6\n",
       "...          ...          ...          ...\n",
       "1149775   276704   1563526298            9\n",
       "1149776   276706   0679447156            0\n",
       "1149777   276709   0515107662           10\n",
       "1149778   276721   0590442449           10\n",
       "1149779   276723  05162443314            8\n",
       "\n",
       "[1149780 rows x 3 columns]>"
      ]
     },
     "execution_count": 14,
     "metadata": {},
     "output_type": "execute_result"
    }
   ],
   "source": [
    "ratings.info"
   ]
  },
  {
   "cell_type": "markdown",
   "id": "f1d93219",
   "metadata": {},
   "source": [
    "Column's names :"
   ]
  },
  {
   "cell_type": "code",
   "execution_count": 15,
   "id": "e41fe966",
   "metadata": {},
   "outputs": [
    {
     "data": {
      "text/plain": [
       "Index(['user_id', 'isbn', 'book_rating'], dtype='object')"
      ]
     },
     "execution_count": 15,
     "metadata": {},
     "output_type": "execute_result"
    }
   ],
   "source": [
    "ratings.columns"
   ]
  },
  {
   "cell_type": "code",
   "execution_count": null,
   "id": "167cc949",
   "metadata": {},
   "outputs": [],
   "source": [
    "Looking for null datas"
   ]
  },
  {
   "cell_type": "code",
   "execution_count": 16,
   "id": "831f21dd",
   "metadata": {},
   "outputs": [
    {
     "data": {
      "text/plain": [
       "user_id        0\n",
       "isbn           0\n",
       "book_rating    0\n",
       "dtype: int64"
      ]
     },
     "execution_count": 16,
     "metadata": {},
     "output_type": "execute_result"
    }
   ],
   "source": [
    "ratings.isna().sum()"
   ]
  },
  {
   "cell_type": "markdown",
   "id": "e939d0f4",
   "metadata": {},
   "source": [
    "##  . _Data Cleaning_"
   ]
  },
  {
   "cell_type": "markdown",
   "id": "3b0db542",
   "metadata": {},
   "source": [
    "Clean the column name by removing the symbols, setting the names in the same format \n",
    "(lower case and replace space by _ etc...)"
   ]
  },
  {
   "cell_type": "code",
   "execution_count": 8,
   "id": "3fdef795",
   "metadata": {},
   "outputs": [],
   "source": [
    "ratings.columns = [column.lower().replace('-', '_') for column in ratings.columns]"
   ]
  },
  {
   "cell_type": "code",
   "execution_count": 9,
   "id": "6a9f60a9",
   "metadata": {},
   "outputs": [
    {
     "data": {
      "text/plain": [
       "['user_id', 'isbn', 'book_rating']"
      ]
     },
     "execution_count": 9,
     "metadata": {},
     "output_type": "execute_result"
    }
   ],
   "source": [
    "# Check the column \n",
    "list(ratings.columns)"
   ]
  },
  {
   "cell_type": "code",
   "execution_count": 17,
   "id": "0e16f700",
   "metadata": {},
   "outputs": [
    {
     "data": {
      "text/plain": [
       "75670906880"
      ]
     },
     "execution_count": 17,
     "metadata": {},
     "output_type": "execute_result"
    }
   ],
   "source": [
    "#ratings dataset will have n_users*n_books entries if every user rated every item, this shows that the dataset is very sparse\n",
    "n_users = users_f.shape[0]\n",
    "n_books = books_f.shape[0]\n",
    "n_users * n_books"
   ]
  },
  {
   "cell_type": "code",
   "execution_count": 23,
   "id": "f42df3a2",
   "metadata": {},
   "outputs": [
    {
     "data": {
      "text/plain": [
       "array([ 0,  5,  3,  6,  8,  7, 10,  9,  4,  1,  2], dtype=int64)"
      ]
     },
     "execution_count": 23,
     "metadata": {},
     "output_type": "execute_result"
    }
   ],
   "source": [
    "ratings['book_rating'].unique()"
   ]
  },
  {
   "cell_type": "code",
   "execution_count": 20,
   "id": "0db90f57",
   "metadata": {},
   "outputs": [
    {
     "data": {
      "text/plain": [
       "((1149780, 3), (1031136, 3))"
      ]
     },
     "execution_count": 20,
     "metadata": {},
     "output_type": "execute_result"
    }
   ],
   "source": [
    "#ratings dataset should have books only which exist in our books dataset, unless new books are added to books dataset\n",
    "ratings_new = ratings[ratings.isbn.isin(books_f.isbn)]\n",
    "\n",
    "ratings.shape,ratings_new.shape\n",
    "#it can be seen that many rows having book ISBN not part of books dataset got dropped off"
   ]
  },
  {
   "cell_type": "code",
   "execution_count": 22,
   "id": "c7e6cbd6",
   "metadata": {},
   "outputs": [
    {
     "name": "stdout",
     "output_type": "stream",
     "text": [
      "(1149780, 3)\n",
      "(1031136, 3)\n"
     ]
    },
    {
     "data": {
      "text/plain": [
       "(278858, 271360)"
      ]
     },
     "execution_count": 22,
     "metadata": {},
     "output_type": "execute_result"
    }
   ],
   "source": [
    "#ratings dataset should have ratings from users which exist in users dataset, unless new users are added to users dataset\n",
    "ratings = ratings[ratings['user_id'].isin(users_f['user_id'])]\n",
    "\n",
    "print(ratings.shape)\n",
    "print(ratings_new.shape)\n",
    "#no new users added, hence we will go with above dataset ratings_new (1031136, 3)\n",
    "\n",
    "(n_users), (n_books)"
   ]
  },
  {
   "cell_type": "code",
   "execution_count": 24,
   "id": "2139333b",
   "metadata": {},
   "outputs": [
    {
     "data": {
      "text/plain": [
       "array([ 0,  5,  3,  6,  8,  7, 10,  9,  4,  1,  2], dtype=int64)"
      ]
     },
     "execution_count": 24,
     "metadata": {},
     "output_type": "execute_result"
    }
   ],
   "source": [
    "ratings['book_rating'].unique()"
   ]
  },
  {
   "cell_type": "code",
   "execution_count": 28,
   "id": "7530389e",
   "metadata": {},
   "outputs": [],
   "source": [
    "#Hence segragating implicit and explict ratings datasets\n",
    "ratings_explicit = ratings_new[ratings_new['book_rating'] != 0]\n",
    "ratings_implicit = ratings_new[ratings_new['book_rating'] == 0]"
   ]
  },
  {
   "cell_type": "code",
   "execution_count": 29,
   "id": "4be73524",
   "metadata": {},
   "outputs": [
    {
     "name": "stdout",
     "output_type": "stream",
     "text": [
      "(1031136, 3)\n",
      "(383842, 3)\n",
      "(647294, 3)\n"
     ]
    },
    {
     "data": {
      "text/plain": [
       "<AxesSubplot:xlabel='book_rating', ylabel='count'>"
      ]
     },
     "execution_count": 29,
     "metadata": {},
     "output_type": "execute_result"
    },
    {
     "data": {
      "image/png": "[encoded data removed]",
      "text/plain": [
       "<Figure size 864x576 with 1 Axes>"
      ]
     },
     "metadata": {},
     "output_type": "display_data"
    }
   ],
   "source": [
    "print(ratings_new.shape)\n",
    "print(ratings_explicit.shape)\n",
    "print(ratings_implicit.shape)\n",
    "plt.style.use('fivethirtyeight')\n",
    "plt.figure(figsize=(12, 8))\n",
    "sns.countplot(data=ratings_explicit , x='book_rating', palette='rocket_r')"
   ]
  },
  {
   "cell_type": "code",
   "execution_count": null,
   "id": "0213463c",
   "metadata": {},
   "outputs": [],
   "source": [
    "ratings_count = pd.DataFrame(ratings_explicit.groupby(['isbn'])['book_rating'].sum())\n",
    "top10 = ratings_count.sort_values('book_rating', ascending = False).head(10)\n",
    "\n",
    "top10.merge(books_f, left_index = True, right_on = 'isbn')\n"
   ]
  },
  {
   "cell_type": "code",
   "execution_count": 30,
   "id": "ec5fe925",
   "metadata": {},
   "outputs": [],
   "source": [
    "#Similarly segregating users who have given explicit ratings from 1-10 and those whose implicit behavior was tracked\n",
    "users_exp_ratings = users_f[users_f['user_id'].isin(ratings_explicit['user_id'])]\n",
    "users_imp_ratings = users_f[users_f['user_id'].isin(ratings_implicit['user_id'])]"
   ]
  },
  {
   "cell_type": "code",
   "execution_count": 31,
   "id": "97a006b2",
   "metadata": {},
   "outputs": [
    {
     "name": "stdout",
     "output_type": "stream",
     "text": [
      "(278858, 4)\n",
      "(68091, 4)\n",
      "(52451, 4)\n"
     ]
    }
   ],
   "source": [
    "#checking shapes\n",
    "print(users_f.shape)\n",
    "print(users_exp_ratings.shape)\n",
    "print(users_imp_ratings.shape)"
   ]
  },
  {
   "cell_type": "markdown",
   "id": "1ba8c6a5",
   "metadata": {},
   "source": [
    "# 5  . Save data"
   ]
  },
  {
   "cell_type": "code",
   "execution_count": 32,
   "id": "b1eec367",
   "metadata": {},
   "outputs": [],
   "source": [
    "## Saving the new clean data set under 'books_final' as a new csv file.\n",
    "ratings.to_csv(r'C:\\Users\\ASUS\\Data Analytics\\Projects\\Recommended-Reading\\rating_final.csv')"
   ]
  },
  {
   "cell_type": "code",
   "execution_count": null,
   "id": "886cefb7",
   "metadata": {},
   "outputs": [],
   "source": []
  }
 ],
 "metadata": {
  "kernelspec": {
   "display_name": "Python 3",
   "language": "python",
   "name": "python3"
  },
  "language_info": {
   "codemirror_mode": {
    "name": "ipython",
    "version": 3
   },
   "file_extension": ".py",
   "mimetype": "text/x-python",
   "name": "python",
   "nbconvert_exporter": "python",
   "pygments_lexer": "ipython3",
   "version": "3.8.8"
  },
  "toc": {
   "base_numbering": 1,
   "nav_menu": {},
   "number_sections": true,
   "sideBar": true,
   "skip_h1_title": true,
   "title_cell": "Table of Contents",
   "title_sidebar": "Contents",
   "toc_cell": false,
   "toc_position": {},
   "toc_section_display": true,
   "toc_window_display": true
  },
  "varInspector": {
   "cols": {
    "lenName": 16,
    "lenType": 16,
    "lenVar": 40
   },
   "kernels_config": {
    "python": {
     "delete_cmd_postfix": "",
     "delete_cmd_prefix": "del ",
     "library": "var_list.py",
     "varRefreshCmd": "print(var_dic_list())"
    },
    "r": {
     "delete_cmd_postfix": ") ",
     "delete_cmd_prefix": "rm(",
     "library": "var_list.r",
     "varRefreshCmd": "cat(var_dic_list()) "
    }
   },
   "types_to_exclude": [
    "module",
    "function",
    "builtin_function_or_method",
    "instance",
    "_Feature"
   ],
   "window_display": false
  }
 },
 "nbformat": 4,
 "nbformat_minor": 5
}
