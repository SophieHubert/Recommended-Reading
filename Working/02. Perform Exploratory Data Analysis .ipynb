{
 "cells": [
  {
   "cell_type": "markdown",
   "id": "e2bee67b",
   "metadata": {},
   "source": [
    " _Perform Exploratory Data Analysis_ "
   ]
  },
  {
   "cell_type": "markdown",
   "id": "ae5ea142",
   "metadata": {},
   "source": [
    "## . _Import Libraries_"
   ]
  },
  {
   "cell_type": "code",
   "execution_count": 1,
   "id": "e3ffd778",
   "metadata": {},
   "outputs": [],
   "source": [
    "# Libraries neeeded to work on the data\n",
    "import math\n",
    "import matplotlib.pyplot as plt\n",
    "import numpy as np\n",
    "import os\n",
    "import pandas as pd\n",
    "import pylab as pl\n",
    "import scipy.stats as stats\n",
    "import seaborn as sns\n",
    "import pickle\n",
    "from sklearn.preprocessing import OneHotEncoder, Normalizer, LabelEncoder\n",
    "from sklearn.linear_model import LinearRegression\n",
    "from sklearn.metrics import r2_score, mean_squared_error\n",
    "from sklearn.model_selection import train_test_split\n",
    "from sklearn.linear_model import LogisticRegression\n",
    "from sklearn.metrics import confusion_matrix\n",
    "from sklearn.metrics import r2_score, mean_squared_error, mean_absolute_error"
   ]
  },
  {
   "cell_type": "code",
   "execution_count": 2,
   "id": "324f253a",
   "metadata": {},
   "outputs": [],
   "source": [
    "import warnings\n",
    "warnings.filterwarnings('ignore')\n",
    "\n",
    "\n",
    "# Dataset has 271361 rows, jupyter notebook is crashing \n",
    "#if I don't limit the number of rows displayed below.\n",
    "pd.set_option('display.max_columns', 1000) \n",
    "pd.set_option('display.max_rows', 1000)\n",
    "pd.options.display.max_columns = 1000"
   ]
  },
  {
   "cell_type": "markdown",
   "id": "a54fcd92",
   "metadata": {},
   "source": [
    "## . _Import data_"
   ]
  },
  {
   "cell_type": "code",
   "execution_count": 36,
   "id": "02e5f7cb",
   "metadata": {},
   "outputs": [],
   "source": [
    "df1 = pd.read_csv('books_final.csv')"
   ]
  },
  {
   "cell_type": "code",
   "execution_count": null,
   "id": "82e58a96",
   "metadata": {},
   "outputs": [],
   "source": [
    "df2 = pd.read_csv('ratings_final.csv')"
   ]
  },
  {
   "cell_type": "code",
   "execution_count": null,
   "id": "11951d05",
   "metadata": {
    "scrolled": true
   },
   "outputs": [],
   "source": [
    "df3 = pd.read_csv('users_final2.csv')"
   ]
  },
  {
   "cell_type": "markdown",
   "id": "cb587767",
   "metadata": {},
   "source": [
    "### _Merge_"
   ]
  },
  {
   "cell_type": "code",
   "execution_count": null,
   "id": "c086e436",
   "metadata": {},
   "outputs": [],
   "source": [
    "data_m = df1.merge(df2,on='isbn')"
   ]
  },
  {
   "cell_type": "code",
   "execution_count": null,
   "id": "fe51c0e4",
   "metadata": {},
   "outputs": [],
   "source": [
    "data = data_m.merge(df3,on='user_id')\n",
    "data"
   ]
  },
  {
   "cell_type": "markdown",
   "id": "32410236",
   "metadata": {},
   "source": [
    "### _Check the data_"
   ]
  },
  {
   "cell_type": "code",
   "execution_count": 10,
   "id": "70230c9a",
   "metadata": {},
   "outputs": [
    {
     "data": {
      "text/plain": [
       "(1031135, 15)"
      ]
     },
     "execution_count": 10,
     "metadata": {},
     "output_type": "execute_result"
    }
   ],
   "source": [
    "data.shape"
   ]
  },
  {
   "cell_type": "code",
   "execution_count": 13,
   "id": "b356ee70",
   "metadata": {},
   "outputs": [
    {
     "data": {
      "text/plain": [
       "Unnamed: 0_x            int64\n",
       "isbn                   object\n",
       "book_title             object\n",
       "book_author            object\n",
       "year_of_publication     int64\n",
       "publisher              object\n",
       "Unnamed: 0_y            int64\n",
       "user_id                 int64\n",
       "book_rating             int64\n",
       "Unnamed: 0              int64\n",
       "Unnamed: 0.1            int64\n",
       "age                     int64\n",
       "city                   object\n",
       "region                 object\n",
       "country                object\n",
       "dtype: object"
      ]
     },
     "execution_count": 13,
     "metadata": {},
     "output_type": "execute_result"
    }
   ],
   "source": [
    "data.dtypes"
   ]
  },
  {
   "cell_type": "code",
   "execution_count": 14,
   "id": "db556299",
   "metadata": {},
   "outputs": [
    {
     "data": {
      "text/plain": [
       "<bound method DataFrame.info of          Unnamed: 0_x        isbn  \\\n",
       "0                   0  0195153448   \n",
       "1                   1  0002005018   \n",
       "2                   2  0060973129   \n",
       "3                   3  0374157065   \n",
       "4                   4  0393045218   \n",
       "...               ...         ...   \n",
       "1031130        271055  087004124X   \n",
       "1031131        271056  158243123X   \n",
       "1031132        271057  8485900057   \n",
       "1031133        271111  0838934854   \n",
       "1031134        271184  3423300965   \n",
       "\n",
       "                                                book_title  \\\n",
       "0                                      Classical Mythology   \n",
       "1                                             Clara Callan   \n",
       "2                                     Decision in Normandy   \n",
       "3        Flu: The Story of the Great Influenza Pandemic...   \n",
       "4                                   The Mummies of Urumchi   \n",
       "...                                                    ...   \n",
       "1031130                                             Anthem   \n",
       "1031131                               A Student of Weather   \n",
       "1031132            Rimas y leyendas (ClÃ¡sicos Fraile ; 3)   \n",
       "1031133                   Anglo-American Cataloguing Rules   \n",
       "1031134                                   Texte zur Ethik.   \n",
       "\n",
       "                     book_author  year_of_publication  \\\n",
       "0             Mark P. O. Morford                 2002   \n",
       "1           Richard Bruce Wright                 2001   \n",
       "2                   Carlo D'Este                 1991   \n",
       "3               Gina Bari Kolata                 1999   \n",
       "4                E. J. W. Barber                 1999   \n",
       "...                          ...                  ...   \n",
       "1031130                 Ayn Rand                 1966   \n",
       "1031131            Elizabeth Hay                 2001   \n",
       "1031132  Gustavo Adolfo BÃ©cquer                 1981   \n",
       "1031133           Michael Gorman                 1998   \n",
       "1031134        Dieter Birnbacher                 2003   \n",
       "\n",
       "                            publisher  Unnamed: 0_y  user_id  book_rating  \\\n",
       "0             Oxford University Press          9561        2            0   \n",
       "1               HarperFlamingo Canada          9563        8            5   \n",
       "2                     HarperPerennial          9564        8            0   \n",
       "3                Farrar Straus Giroux          9565        8            0   \n",
       "4          W. W. Norton &amp; Company          9566        8            0   \n",
       "...                               ...           ...      ...          ...   \n",
       "1031130                  Caxton Press       1084954   259589            8   \n",
       "1031131            Counterpoint Press       1084955   259591            8   \n",
       "1031132              Ediciones Fraile       1084961   259614           10   \n",
       "1031133  American Library Association       1085625   259679            6   \n",
       "1031134                           Dtv       1086286   259920            0   \n",
       "\n",
       "         Unnamed: 0  Unnamed: 0.1  age           city                region  \\\n",
       "0                 1             1   18       stockton            california   \n",
       "1                 7             7   34        timmins               ontario   \n",
       "2                 7             7   34        timmins               ontario   \n",
       "3                 7             7   34        timmins               ontario   \n",
       "4                 7             7   34        timmins               ontario   \n",
       "...             ...           ...  ...            ...                   ...   \n",
       "1031130      259588        259588   19         venice               florida   \n",
       "1031131      259590        259590   39          tioga          pennsylvania   \n",
       "1031132      259613        259613   22         madrid                madrid   \n",
       "1031133      259678        259678   27  grand prairie                 texas   \n",
       "1031134      259919        259919   34      bielefeld   nordrhein-westfalen   \n",
       "\n",
       "          country  \n",
       "0             usa  \n",
       "1          canada  \n",
       "2          canada  \n",
       "3          canada  \n",
       "4          canada  \n",
       "...           ...  \n",
       "1031130       usa  \n",
       "1031131       usa  \n",
       "1031132     spain  \n",
       "1031133       usa  \n",
       "1031134   germany  \n",
       "\n",
       "[1031135 rows x 15 columns]>"
      ]
     },
     "execution_count": 14,
     "metadata": {},
     "output_type": "execute_result"
    }
   ],
   "source": [
    "data.info"
   ]
  },
  {
   "cell_type": "code",
   "execution_count": 15,
   "id": "845f909d",
   "metadata": {},
   "outputs": [
    {
     "data": {
      "text/plain": [
       "Index(['Unnamed: 0_x', 'isbn', 'book_title', 'book_author',\n",
       "       'year_of_publication', 'publisher', 'Unnamed: 0_y', 'user_id',\n",
       "       'book_rating', 'Unnamed: 0', 'Unnamed: 0.1', 'age', 'city', 'region',\n",
       "       'country'],\n",
       "      dtype='object')"
      ]
     },
     "execution_count": 15,
     "metadata": {},
     "output_type": "execute_result"
    }
   ],
   "source": [
    "data.columns"
   ]
  },
  {
   "cell_type": "markdown",
   "id": "29170df9",
   "metadata": {},
   "source": [
    "### _Drop columns_"
   ]
  },
  {
   "cell_type": "code",
   "execution_count": 16,
   "id": "be6f21f1",
   "metadata": {},
   "outputs": [],
   "source": [
    "data = data.drop(['Unnamed: 0_x', 'Unnamed: 0_y', 'Unnamed: 0' , 'Unnamed: 0.1'],axis=1)"
   ]
  },
  {
   "cell_type": "code",
   "execution_count": 1,
   "id": "3327217f",
   "metadata": {},
   "outputs": [],
   "source": [
    "#data"
   ]
  },
  {
   "cell_type": "markdown",
   "id": "500adf9c",
   "metadata": {},
   "source": [
    "### _Save_"
   ]
  },
  {
   "cell_type": "markdown",
   "id": "d7f6ec59",
   "metadata": {},
   "source": [
    "Saving this preprocessed dataset so we can use it in MYSQL ..."
   ]
  },
  {
   "cell_type": "code",
   "execution_count": 17,
   "id": "2ecae79b",
   "metadata": {},
   "outputs": [],
   "source": [
    "data.to_csv(r'C:\\Users\\ASUS\\Data Analytics\\Projects\\Recommended-Reading\\Working\\preprocessed_data.csv')"
   ]
  },
  {
   "cell_type": "code",
   "execution_count": 4,
   "id": "65f29abe",
   "metadata": {},
   "outputs": [],
   "source": [
    "data = pd.read_csv('preprocessed_data.csv')"
   ]
  },
  {
   "cell_type": "markdown",
   "id": "b3b2e1f6",
   "metadata": {},
   "source": [
    "## . _Data exploring_"
   ]
  },
  {
   "cell_type": "code",
   "execution_count": 9,
   "id": "a540996e",
   "metadata": {},
   "outputs": [
    {
     "data": {
      "text/plain": [
       "Unnamed: 0              int64\n",
       "isbn                   object\n",
       "book_title             object\n",
       "book_author            object\n",
       "year_of_publication     int64\n",
       "publisher              object\n",
       "user_id                 int64\n",
       "book_rating             int64\n",
       "age                     int64\n",
       "city                   object\n",
       "region                 object\n",
       "country                object\n",
       "dtype: object"
      ]
     },
     "execution_count": 9,
     "metadata": {},
     "output_type": "execute_result"
    }
   ],
   "source": [
    "pd.set_option('max_row', None) # to get all the column\n",
    "data.dtypes"
   ]
  },
  {
   "cell_type": "code",
   "execution_count": 10,
   "id": "47db0cf8",
   "metadata": {},
   "outputs": [
    {
     "data": {
      "text/plain": [
       "Index(['Unnamed: 0', 'isbn', 'book_title', 'book_author',\n",
       "       'year_of_publication', 'publisher', 'user_id', 'book_rating', 'age',\n",
       "       'city', 'region', 'country'],\n",
       "      dtype='object')"
      ]
     },
     "execution_count": 10,
     "metadata": {},
     "output_type": "execute_result"
    }
   ],
   "source": [
    "pd.set_option('max_row', None)\n",
    "data.columns"
   ]
  },
  {
   "cell_type": "code",
   "execution_count": 7,
   "id": "0b33f300",
   "metadata": {},
   "outputs": [
    {
     "name": "stdout",
     "output_type": "stream",
     "text": [
      "<class 'pandas.core.frame.DataFrame'>\n",
      "RangeIndex: 1031135 entries, 0 to 1031134\n",
      "Data columns (total 12 columns):\n",
      " #   Column               Non-Null Count    Dtype \n",
      "---  ------               --------------    ----- \n",
      " 0   Unnamed: 0           1031135 non-null  int64 \n",
      " 1   isbn                 1031135 non-null  object\n",
      " 2   book_title           1031135 non-null  object\n",
      " 3   book_author          1031135 non-null  object\n",
      " 4   year_of_publication  1031135 non-null  int64 \n",
      " 5   publisher            1031135 non-null  object\n",
      " 6   user_id              1031135 non-null  int64 \n",
      " 7   book_rating          1031135 non-null  int64 \n",
      " 8   age                  1031135 non-null  int64 \n",
      " 9   city                 1017033 non-null  object\n",
      " 10  region               1030399 non-null  object\n",
      " 11  country              1006761 non-null  object\n",
      "dtypes: int64(5), object(7)\n",
      "memory usage: 94.4+ MB\n"
     ]
    }
   ],
   "source": [
    "data.info()"
   ]
  },
  {
   "cell_type": "code",
   "execution_count": 8,
   "id": "d7b155e6",
   "metadata": {},
   "outputs": [
    {
     "data": {
      "text/plain": [
       "Unnamed: 0                 0\n",
       "isbn                       0\n",
       "book_title                 0\n",
       "book_author                0\n",
       "year_of_publication        0\n",
       "publisher                  0\n",
       "user_id                    0\n",
       "book_rating                0\n",
       "age                        0\n",
       "city                   14102\n",
       "region                   736\n",
       "country                24374\n",
       "dtype: int64"
      ]
     },
     "execution_count": 8,
     "metadata": {},
     "output_type": "execute_result"
    }
   ],
   "source": [
    "data.isna().sum()"
   ]
  },
  {
   "cell_type": "code",
   "execution_count": null,
   "id": "59e69c77",
   "metadata": {},
   "outputs": [],
   "source": [
    "for col in data.select_dtypes('object'):\n",
    "    print(data[col].value_counts(), '\\n')"
   ]
  },
  {
   "cell_type": "code",
   "execution_count": 26,
   "id": "b75d43e3",
   "metadata": {},
   "outputs": [
    {
     "name": "stdout",
     "output_type": "stream",
     "text": [
      "['0195153448' '0002005018' '0060973129' ... '15655122046' '05162443314'\n",
      " nan]\n"
     ]
    }
   ],
   "source": [
    "print(data['isbn'].unique())"
   ]
  },
  {
   "cell_type": "code",
   "execution_count": 20,
   "id": "2db0e3f4",
   "metadata": {},
   "outputs": [
    {
     "name": "stdout",
     "output_type": "stream",
     "text": [
      "book_rating\n",
      "0     647294\n",
      "1       1481\n",
      "2       2375\n",
      "3       5118\n",
      "4       7617\n",
      "5      45355\n",
      "6      31687\n",
      "7      66402\n",
      "8      91803\n",
      "9      60778\n",
      "10     71225\n",
      "dtype: int64\n"
     ]
    }
   ],
   "source": [
    "print(data.groupby('book_rating').size())"
   ]
  },
  {
   "cell_type": "code",
   "execution_count": null,
   "id": "67341d7c",
   "metadata": {},
   "outputs": [],
   "source": [
    "plt.hist(data['age'].interpolate(method='polynomial', order=2), bins=20) \n",
    "plt.show()"
   ]
  },
  {
   "cell_type": "code",
   "execution_count": null,
   "id": "dc07f555",
   "metadata": {},
   "outputs": [],
   "source": [
    "plt.hist(data['country'].fillna(data['average_balance'].mean()), bins=20)\n",
    "plt.show()"
   ]
  },
  {
   "cell_type": "code",
   "execution_count": null,
   "id": "81b5eca7",
   "metadata": {},
   "outputs": [],
   "source": [
    "new_ratings_data = data['book_rating'][0:40].interpolate(method='linear')\n",
    "\n",
    "new_ratings_data.plot()\n",
    "plt.show()"
   ]
  },
  {
   "cell_type": "code",
   "execution_count": 23,
   "id": "aa591c32",
   "metadata": {},
   "outputs": [
    {
     "data": {
      "image/png": "[encoded data removed]",
      "text/plain": [
       "<Figure size 1440x720 with 2 Axes>"
      ]
     },
     "metadata": {
      "needs_background": "light"
     },
     "output_type": "display_data"
    }
   ],
   "source": [
    "corr_matrix=data.corr(method='pearson') \n",
    "fig, ax = plt.subplots(figsize=(20, 10))\n",
    "ax = sns.heatmap(corr_matrix, annot=True)\n",
    "#plt.show()"
   ]
  },
  {
   "cell_type": "code",
   "execution_count": 24,
   "id": "94b16159",
   "metadata": {
    "scrolled": false
   },
   "outputs": [
    {
     "data": {
      "image/png": "[encoded data removed]",
      "text/plain": [
       "<Figure size 432x288 with 1 Axes>"
      ]
     },
     "metadata": {
      "needs_background": "light"
     },
     "output_type": "display_data"
    },
    {
     "data": {
      "image/png": "[encoded data removed]",
      "text/plain": [
       "<Figure size 432x288 with 1 Axes>"
      ]
     },
     "metadata": {
      "needs_background": "light"
     },
     "output_type": "display_data"
    },
    {
     "data": {
      "image/png": "[encoded data removed]",
      "text/plain": [
       "<Figure size 432x288 with 1 Axes>"
      ]
     },
     "metadata": {
      "needs_background": "light"
     },
     "output_type": "display_data"
    },
    {
     "data": {
      "image/png": "[encoded data removed]",
      "text/plain": [
       "<Figure size 432x288 with 1 Axes>"
      ]
     },
     "metadata": {
      "needs_background": "light"
     },
     "output_type": "display_data"
    }
   ],
   "source": [
    "for col in data.select_dtypes(np.number):\n",
    "    sns.distplot(data[col])\n",
    "    plt.show()"
   ]
  },
  {
   "cell_type": "code",
   "execution_count": null,
   "id": "9cb19a1a",
   "metadata": {},
   "outputs": [],
   "source": [
    "plt.rc(\"font\", size=15)\n",
    "data.book_rating.value_counts(sort=False).plot(kind='bar')\n",
    "plt.title('Rating Distribution\\n')\n",
    "plt.xlabel('rating')\n",
    "plt.ylabel('Count')\n",
    "plt.show()"
   ]
  },
  {
   "cell_type": "markdown",
   "id": "8ff8a027",
   "metadata": {},
   "source": [
    "## . _Data cleaning and wrangling_"
   ]
  },
  {
   "cell_type": "code",
   "execution_count": 12,
   "id": "cc2bbfce",
   "metadata": {},
   "outputs": [],
   "source": [
    "# New index \n",
    "data = data.set_index('isbn')\n"
   ]
  },
  {
   "cell_type": "code",
   "execution_count": null,
   "id": "31e8a134",
   "metadata": {},
   "outputs": [],
   "source": [
    "for column in data.select_dtypes(np.number).columns:\n",
    "    sns.distplot(data[column])\n",
    "    #plt.show()\n",
    "    mask = np.zeros_like(data.corr())"
   ]
  },
  {
   "cell_type": "markdown",
   "id": "c3bc89b0",
   "metadata": {},
   "source": [
    "## . _Modeling_"
   ]
  },
  {
   "cell_type": "code",
   "execution_count": null,
   "id": "cf5a1c5d",
   "metadata": {},
   "outputs": [],
   "source": [
    "from scipy.sparse import csr_matrix\n",
    "book_sparse = csr_matrix(book_pivot)"
   ]
  },
  {
   "cell_type": "code",
   "execution_count": null,
   "id": "2ce5f2a8",
   "metadata": {},
   "outputs": [],
   "source": [
    "from sklearn.neighbors import NearestNeighbors\n",
    "model = NearestNeighbors(algorithm='brute')\n",
    "model.fit(book_sparse)"
   ]
  },
  {
   "cell_type": "code",
   "execution_count": null,
   "id": "7e6c553e",
   "metadata": {},
   "outputs": [],
   "source": [
    "distances, suggestions = model.kneighbors(book_pivot.iloc[237, :].values.reshape(1, -1))"
   ]
  },
  {
   "cell_type": "code",
   "execution_count": null,
   "id": "d35d0550",
   "metadata": {},
   "outputs": [],
   "source": [
    "for i in range(len(suggestions)):\n",
    "  print(book_pivot.index[suggestions[i]])"
   ]
  },
  {
   "cell_type": "code",
   "execution_count": 3,
   "id": "e19b3394",
   "metadata": {},
   "outputs": [
    {
     "ename": "NameError",
     "evalue": "name 'data' is not defined",
     "output_type": "error",
     "traceback": [
      "\u001b[1;31m---------------------------------------------------------------------------\u001b[0m",
      "\u001b[1;31mNameError\u001b[0m                                 Traceback (most recent call last)",
      "\u001b[1;32m~\\AppData\\Local\\Temp/ipykernel_8584/1852570185.py\u001b[0m in \u001b[0;36m<module>\u001b[1;34m\u001b[0m\n\u001b[1;32m----> 1\u001b[1;33m \u001b[0mnum\u001b[0m \u001b[1;33m=\u001b[0m \u001b[0mdata\u001b[0m\u001b[1;33m.\u001b[0m\u001b[0mselect_dtypes\u001b[0m\u001b[1;33m(\u001b[0m\u001b[1;34m'number'\u001b[0m\u001b[1;33m)\u001b[0m\u001b[1;33m\u001b[0m\u001b[1;33m\u001b[0m\u001b[0m\n\u001b[0m\u001b[0;32m      2\u001b[0m \u001b[1;32mfor\u001b[0m \u001b[0mc\u001b[0m \u001b[1;32min\u001b[0m \u001b[0mnum\u001b[0m\u001b[1;33m.\u001b[0m\u001b[0mcolumns\u001b[0m\u001b[1;33m:\u001b[0m\u001b[1;33m\u001b[0m\u001b[1;33m\u001b[0m\u001b[0m\n\u001b[0;32m      3\u001b[0m     \u001b[0mfig\u001b[0m\u001b[1;33m,\u001b[0m \u001b[0maxes\u001b[0m \u001b[1;33m=\u001b[0m \u001b[0mplt\u001b[0m\u001b[1;33m.\u001b[0m\u001b[0msubplots\u001b[0m\u001b[1;33m(\u001b[0m\u001b[1;36m1\u001b[0m\u001b[1;33m,\u001b[0m \u001b[1;36m2\u001b[0m\u001b[1;33m,\u001b[0m \u001b[0mfigsize\u001b[0m\u001b[1;33m=\u001b[0m\u001b[1;33m(\u001b[0m\u001b[1;36m15\u001b[0m\u001b[1;33m,\u001b[0m \u001b[1;36m5\u001b[0m\u001b[1;33m)\u001b[0m\u001b[1;33m)\u001b[0m\u001b[1;33m\u001b[0m\u001b[1;33m\u001b[0m\u001b[0m\n\u001b[0;32m      4\u001b[0m     \u001b[0msns\u001b[0m\u001b[1;33m.\u001b[0m\u001b[0mset_style\u001b[0m\u001b[1;33m(\u001b[0m\u001b[1;34m\"darkgrid\"\u001b[0m\u001b[1;33m)\u001b[0m\u001b[1;33m\u001b[0m\u001b[1;33m\u001b[0m\u001b[0m\n\u001b[0;32m      5\u001b[0m     \u001b[0msns\u001b[0m\u001b[1;33m.\u001b[0m\u001b[0mdistplot\u001b[0m\u001b[1;33m(\u001b[0m\u001b[0mnum\u001b[0m\u001b[1;33m[\u001b[0m\u001b[0mc\u001b[0m\u001b[1;33m]\u001b[0m\u001b[1;33m,\u001b[0m \u001b[0max\u001b[0m\u001b[1;33m=\u001b[0m\u001b[0maxes\u001b[0m\u001b[1;33m[\u001b[0m\u001b[1;36m0\u001b[0m\u001b[1;33m]\u001b[0m\u001b[1;33m,\u001b[0m  \u001b[0mcolor\u001b[0m \u001b[1;33m=\u001b[0m \u001b[1;34m'gray'\u001b[0m\u001b[1;33m)\u001b[0m\u001b[1;33m\u001b[0m\u001b[1;33m\u001b[0m\u001b[0m\n",
      "\u001b[1;31mNameError\u001b[0m: name 'data' is not defined"
     ]
    }
   ],
   "source": [
    "num = data.select_dtypes('number')\n",
    "for c in num.columns:\n",
    "    fig, axes = plt.subplots(1, 2, figsize=(15, 5))\n",
    "    sns.set_style(\"darkgrid\")\n",
    "    sns.distplot(num[c], ax=axes[0],  color = 'gray')\n",
    "    sns.boxplot(num[c], ax=axes[1],  color = 'gray')\n",
    "    plt.show()"
   ]
  },
  {
   "cell_type": "markdown",
   "id": "6a2ec457",
   "metadata": {},
   "source": [
    "## . _Build Models : Unsupervised learning_"
   ]
  },
  {
   "cell_type": "markdown",
   "id": "343fc55f",
   "metadata": {},
   "source": [
    "Unsupervised learning because we do not have a clear way to tell whether the algorithm is doing well or not - in SL, predictions can be compared with true values (labels) - here there are no performance metrics with which to supervise the task."
   ]
  },
  {
   "cell_type": "markdown",
   "id": "f897d6c5",
   "metadata": {},
   "source": [
    "Clustering: The most popular task in UL is Clustering. It's popular in the business world because companies usually have big unlabeled datasets of customers.They need to segment those customers in order to make effective decisions like: understanding their behavior, sending targeted emails, offering loyalty promotions, tailoring new products, etc. Clustering algorithms find observations with similarities and group themselves."
   ]
  },
  {
   "cell_type": "markdown",
   "id": "f2099dfd",
   "metadata": {},
   "source": [
    "Clustering vs. traditional segmentation: Traditionally, subject experts were the ones creating the segmentation: maybe they had some data showing that, in general, customers under and over 25 years old behave differently, and that gender is a clear divide when it comes to shopping. Rich datasets and clustering algorithms can challenge these traditional segmentation. If an e-commerce site has click-through rates in multiple stages of the marketing funnel, email-opening rates and a history of products searched, added to a wish list and purchased (each divided in a few variables by category of product), it's much more difficult to use \"instinct\" or a couple of bar charts to segment the customers. However, clustering algorithms can find groups of customers that are similar based on these behavioral variables."
   ]
  },
  {
   "cell_type": "markdown",
   "id": "fcf6a721",
   "metadata": {},
   "source": [
    "### _KMEANS_"
   ]
  },
  {
   "cell_type": "code",
   "execution_count": null,
   "id": "c8b346fc",
   "metadata": {},
   "outputs": [],
   "source": [
    "import pandas as pd\n",
    "from sklearn import datasets\n",
    "\n",
    "data = datasets.load_wine()\n",
    "\n",
    "X = pd.DataFrame(data[\"data\"], columns=data[\"feature_names\"])\n",
    "# y = pd.Series(data[\"target\"])\n",
    "\n",
    "X.head()"
   ]
  },
  {
   "cell_type": "code",
   "execution_count": null,
   "id": "5b3c88fc",
   "metadata": {},
   "outputs": [],
   "source": [
    "# K-Means is a distance based algorithm: we need to scale / normalize:\n",
    "from sklearn.preprocessing import StandardScaler\n",
    "X_prep = StandardScaler().fit_transform(X)\n",
    "\n",
    "pd.DataFrame(X_prep).head()"
   ]
  },
  {
   "cell_type": "code",
   "execution_count": null,
   "id": "44d01e4c",
   "metadata": {},
   "outputs": [],
   "source": [
    "from sklearn.cluster import KMeans\n",
    "\n",
    "kmeans = KMeans(n_clusters=3, random_state=42)\n",
    "kmeans.fit(X_prep)"
   ]
  },
  {
   "cell_type": "code",
   "execution_count": null,
   "id": "db10eb14",
   "metadata": {},
   "outputs": [],
   "source": [
    "# Predicting / assigning the clusters:\n",
    "clusters = kmeans.predict(X_prep)\n",
    "clusters"
   ]
  },
  {
   "cell_type": "code",
   "execution_count": null,
   "id": "59f1b934",
   "metadata": {},
   "outputs": [],
   "source": [
    "# Check the size of the clusters\n",
    "pd.Series(clusters).value_counts().sort_index()"
   ]
  },
  {
   "cell_type": "code",
   "execution_count": null,
   "id": "28cd3842",
   "metadata": {},
   "outputs": [],
   "source": [
    "# Explore the cluster assignment in the original dataset\n",
    "X_df = pd.DataFrame(X)\n",
    "X_df[\"cluster\"] = clusters\n",
    "X_df.head()\n",
    "\n",
    "X_df['cluster'] = X_df['cluster'].apply(lambda x: 0 if x == 1 else 1 if x == 2 else 2)\n",
    "X_df"
   ]
  },
  {
   "cell_type": "code",
   "execution_count": null,
   "id": "13fdf761",
   "metadata": {},
   "outputs": [],
   "source": [
    "# Class Weigh"
   ]
  },
  {
   "cell_type": "markdown",
   "id": "80b14abe",
   "metadata": {},
   "source": [
    "### . _Choosing the best value of k for the KNN_"
   ]
  },
  {
   "cell_type": "code",
   "execution_count": 144,
   "id": "a4bdbe10",
   "metadata": {},
   "outputs": [],
   "source": [
    "from sklearn.neighbors import KNeighborsRegressor\n",
    "scores = []\n",
    "for i in range(2,10):\n",
    "    model = KNeighborsRegressor(n_neighbors=i)\n",
    "    model.fit(X_train, y_train)\n",
    "    scores.append(model.score(X_test, y_test))"
   ]
  },
  {
   "cell_type": "code",
   "execution_count": 145,
   "id": "604a2528",
   "metadata": {},
   "outputs": [
    {
     "data": {
      "text/plain": [
       "Text(0, 0.5, 'Accuracy')"
      ]
     },
     "execution_count": 145,
     "metadata": {},
     "output_type": "execute_result"
    },
    {
     "data": {
      "image/png": "[encoded data removed]",
      "text/plain": [
       "<Figure size 720x432 with 1 Axes>"
      ]
     },
     "metadata": {},
     "output_type": "display_data"
    }
   ],
   "source": [
    "plt.figure(figsize=(10,6))\n",
    "plt.plot(range(2,10),scores,color = 'blue', linestyle='dashed',\n",
    "         marker='o', markerfacecolor='red', markersize=10)\n",
    "plt.title('accuracy scores vs. K Value')\n",
    "plt.xlabel('K')\n",
    "plt.ylabel('Accuracy')"
   ]
  },
  {
   "cell_type": "code",
   "execution_count": 146,
   "id": "fef2ab3c",
   "metadata": {},
   "outputs": [
    {
     "data": {
      "text/plain": [
       "194.750812033821"
      ]
     },
     "execution_count": 146,
     "metadata": {},
     "output_type": "execute_result"
    }
   ],
   "source": [
    "from sklearn.metrics import mean_absolute_error\n",
    "score = mean_absolute_error(y_test, predictions)\n",
    "score"
   ]
  },
  {
   "cell_type": "code",
   "execution_count": 147,
   "id": "e36ef075",
   "metadata": {},
   "outputs": [
    {
     "data": {
      "text/plain": [
       "67841.48765657935"
      ]
     },
     "execution_count": 147,
     "metadata": {},
     "output_type": "execute_result"
    }
   ],
   "source": [
    "from sklearn.metrics import mean_squared_error\n",
    "score = mean_squared_error(y_test, predictions)\n",
    "score"
   ]
  },
  {
   "cell_type": "code",
   "execution_count": 148,
   "id": "be044b94",
   "metadata": {},
   "outputs": [
    {
     "data": {
      "text/plain": [
       "260.46398533497745"
      ]
     },
     "execution_count": 148,
     "metadata": {},
     "output_type": "execute_result"
    }
   ],
   "source": [
    "import math\n",
    "from sklearn.metrics import mean_squared_error\n",
    "mse = mean_squared_error(y_test, predictions)\n",
    "rmse = math.sqrt(mse)\n",
    "rmse"
   ]
  },
  {
   "cell_type": "markdown",
   "id": "3d1074bd",
   "metadata": {},
   "source": [
    "### . _R-squared value_"
   ]
  },
  {
   "cell_type": "code",
   "execution_count": 150,
   "id": "307511ff",
   "metadata": {},
   "outputs": [
    {
     "data": {
      "text/plain": [
       "0.45378463851113215"
      ]
     },
     "execution_count": 150,
     "metadata": {},
     "output_type": "execute_result"
    }
   ],
   "source": [
    "from sklearn.metrics import r2_score\n",
    "score = r2_score(y_test, predictions)\n",
    "score"
   ]
  },
  {
   "cell_type": "code",
   "execution_count": 153,
   "id": "428c5f58",
   "metadata": {},
   "outputs": [
    {
     "data": {
      "text/plain": [
       "0.4479695440778191"
      ]
     },
     "execution_count": 153,
     "metadata": {},
     "output_type": "execute_result"
    }
   ],
   "source": [
    "score = 1 - (1-score)*(len(y_test)-1)/(len(y_test)-X_test.shape[1]-1)\n",
    "score"
   ]
  },
  {
   "cell_type": "markdown",
   "id": "c8d782e2",
   "metadata": {},
   "source": [
    "### . _Model Validation_"
   ]
  },
  {
   "cell_type": "code",
   "execution_count": 154,
   "id": "de67df43",
   "metadata": {},
   "outputs": [
    {
     "data": {
      "text/plain": [
       "(0.45378463851113215, 260.46398533497745, 67841.48765657935)"
      ]
     },
     "execution_count": 154,
     "metadata": {},
     "output_type": "execute_result"
    }
   ],
   "source": [
    "r2_score(y_test, predictions), mean_squared_error(y_test, predictions, squared=False), mean_squared_error(y_test, predictions)"
   ]
  },
  {
   "cell_type": "code",
   "execution_count": 155,
   "id": "da3bee5d",
   "metadata": {},
   "outputs": [
    {
     "name": "stdout",
     "output_type": "stream",
     "text": [
      "67841.48765657935\n"
     ]
    }
   ],
   "source": [
    "mse = mean_squared_error(y_test, predictions)\n",
    "print(mse)"
   ]
  },
  {
   "cell_type": "code",
   "execution_count": 156,
   "id": "625eab8f",
   "metadata": {},
   "outputs": [
    {
     "name": "stdout",
     "output_type": "stream",
     "text": [
      "260.46398533497745\n"
     ]
    }
   ],
   "source": [
    "rmse = math.sqrt(mse)\n",
    "print(rmse)"
   ]
  },
  {
   "cell_type": "code",
   "execution_count": 157,
   "id": "07d2ddda",
   "metadata": {},
   "outputs": [
    {
     "name": "stdout",
     "output_type": "stream",
     "text": [
      "0.45378463851113215\n"
     ]
    }
   ],
   "source": [
    "r2 = r2_score(y_test, predictions)\n",
    "print(r2)"
   ]
  },
  {
   "cell_type": "code",
   "execution_count": 158,
   "id": "32b5ee54",
   "metadata": {},
   "outputs": [
    {
     "name": "stdout",
     "output_type": "stream",
     "text": [
      "0.45185311201414946\n"
     ]
    }
   ],
   "source": [
    "n = len(X_test)\n",
    "p = X_test.shape[1]\n",
    "adj_r2 = 1-((1-r2)*(n-1)/(n-p-1))\n",
    "print(adj_r2)"
   ]
  },
  {
   "cell_type": "code",
   "execution_count": null,
   "id": "f3071633",
   "metadata": {},
   "outputs": [],
   "source": []
  }
 ],
 "metadata": {
  "kernelspec": {
   "display_name": "Python 3",
   "language": "python",
   "name": "python3"
  },
  "language_info": {
   "codemirror_mode": {
    "name": "ipython",
    "version": 3
   },
   "file_extension": ".py",
   "mimetype": "text/x-python",
   "name": "python",
   "nbconvert_exporter": "python",
   "pygments_lexer": "ipython3",
   "version": "3.8.8"
  },
  "toc": {
   "base_numbering": 1,
   "nav_menu": {},
   "number_sections": true,
   "sideBar": true,
   "skip_h1_title": false,
   "title_cell": "Table of Contents",
   "title_sidebar": "Contents",
   "toc_cell": false,
   "toc_position": {
    "height": "calc(100% - 180px)",
    "left": "10px",
    "top": "150px",
    "width": "305.188px"
   },
   "toc_section_display": true,
   "toc_window_display": true
  },
  "varInspector": {
   "cols": {
    "lenName": 16,
    "lenType": 16,
    "lenVar": 40
   },
   "kernels_config": {
    "python": {
     "delete_cmd_postfix": "",
     "delete_cmd_prefix": "del ",
     "library": "var_list.py",
     "varRefreshCmd": "print(var_dic_list())"
    },
    "r": {
     "delete_cmd_postfix": ") ",
     "delete_cmd_prefix": "rm(",
     "library": "var_list.r",
     "varRefreshCmd": "cat(var_dic_list()) "
    }
   },
   "types_to_exclude": [
    "module",
    "function",
    "builtin_function_or_method",
    "instance",
    "_Feature"
   ],
   "window_display": false
  }
 },
 "nbformat": 4,
 "nbformat_minor": 5
}
