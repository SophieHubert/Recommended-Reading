{
 "cells": [
  {
   "cell_type": "markdown",
   "id": "1446b846",
   "metadata": {},
   "source": [
    "# _Dataset cleaning : Users_"
   ]
  },
  {
   "cell_type": "markdown",
   "id": "a5b1173d",
   "metadata": {},
   "source": [
    "## . _Import Libraries_"
   ]
  },
  {
   "cell_type": "code",
   "execution_count": 3,
   "id": "e406a7d6",
   "metadata": {},
   "outputs": [],
   "source": [
    "import math\n",
    "import matplotlib.pyplot as plt\n",
    "import numpy as np\n",
    "import os, sys\n",
    "import pandas as pd\n",
    "import re\n",
    "import seaborn as sns\n",
    "\n",
    "import warnings\n",
    "warnings.filterwarnings('ignore')\n",
    "\n",
    "\n",
    "# Dataset has 271361 rows, jupyter notebook is crashing \n",
    "#if I don't limit the number of rows displayed below.\n",
    "pd.set_option('display.max_columns', 1000) \n",
    "pd.set_option('display.max_rows', 1000)\n",
    "pd.options.display.max_columns = 1000"
   ]
  },
  {
   "cell_type": "markdown",
   "id": "c97cd53a",
   "metadata": {},
   "source": [
    "##  .  _Import Data_"
   ]
  },
  {
   "cell_type": "code",
   "execution_count": 4,
   "id": "d862e5a0",
   "metadata": {},
   "outputs": [
    {
     "data": {
      "text/html": [
       "<div>\n",
       "<style scoped>\n",
       "    .dataframe tbody tr th:only-of-type {\n",
       "        vertical-align: middle;\n",
       "    }\n",
       "\n",
       "    .dataframe tbody tr th {\n",
       "        vertical-align: top;\n",
       "    }\n",
       "\n",
       "    .dataframe thead th {\n",
       "        text-align: right;\n",
       "    }\n",
       "</style>\n",
       "<table border=\"1\" class=\"dataframe\">\n",
       "  <thead>\n",
       "    <tr style=\"text-align: right;\">\n",
       "      <th></th>\n",
       "      <th>User-ID</th>\n",
       "      <th>Location</th>\n",
       "      <th>Age</th>\n",
       "    </tr>\n",
       "  </thead>\n",
       "  <tbody>\n",
       "    <tr>\n",
       "      <th>0</th>\n",
       "      <td>1</td>\n",
       "      <td>nyc, new york, usa</td>\n",
       "      <td>NaN</td>\n",
       "    </tr>\n",
       "    <tr>\n",
       "      <th>1</th>\n",
       "      <td>2</td>\n",
       "      <td>stockton, california, usa</td>\n",
       "      <td>18.0</td>\n",
       "    </tr>\n",
       "    <tr>\n",
       "      <th>2</th>\n",
       "      <td>3</td>\n",
       "      <td>moscow, yukon territory, russia</td>\n",
       "      <td>NaN</td>\n",
       "    </tr>\n",
       "    <tr>\n",
       "      <th>3</th>\n",
       "      <td>4</td>\n",
       "      <td>porto, v.n.gaia, portugal</td>\n",
       "      <td>17.0</td>\n",
       "    </tr>\n",
       "    <tr>\n",
       "      <th>4</th>\n",
       "      <td>5</td>\n",
       "      <td>farnborough, hants, united kingdom</td>\n",
       "      <td>NaN</td>\n",
       "    </tr>\n",
       "  </tbody>\n",
       "</table>\n",
       "</div>"
      ],
      "text/plain": [
       "   User-ID                            Location   Age\n",
       "0        1                  nyc, new york, usa   NaN\n",
       "1        2           stockton, california, usa  18.0\n",
       "2        3     moscow, yukon territory, russia   NaN\n",
       "3        4           porto, v.n.gaia, portugal  17.0\n",
       "4        5  farnborough, hants, united kingdom   NaN"
      ]
     },
     "execution_count": 4,
     "metadata": {},
     "output_type": "execute_result"
    }
   ],
   "source": [
    "users = pd.read_csv('users.csv')\n",
    "users.head()"
   ]
  },
  {
   "cell_type": "markdown",
   "id": "6acb6727",
   "metadata": {},
   "source": [
    "##  . _Data Exploring_"
   ]
  },
  {
   "cell_type": "markdown",
   "id": "3dae3b52",
   "metadata": {},
   "source": [
    "Explore and check the dataset, it is necessary to know your dataset before starting cleaning or \n",
    "dropping information."
   ]
  },
  {
   "cell_type": "code",
   "execution_count": 5,
   "id": "eb2934b6",
   "metadata": {},
   "outputs": [
    {
     "data": {
      "text/plain": [
       "(278858, 3)"
      ]
     },
     "execution_count": 5,
     "metadata": {},
     "output_type": "execute_result"
    }
   ],
   "source": [
    "# number of rows and columns\n",
    "users.shape"
   ]
  },
  {
   "cell_type": "code",
   "execution_count": 6,
   "id": "43fda9df",
   "metadata": {},
   "outputs": [
    {
     "data": {
      "text/plain": [
       "User-ID       int64\n",
       "Location     object\n",
       "Age         float64\n",
       "dtype: object"
      ]
     },
     "execution_count": 6,
     "metadata": {},
     "output_type": "execute_result"
    }
   ],
   "source": [
    "# types of datas in each columns\n",
    "users.dtypes"
   ]
  },
  {
   "cell_type": "code",
   "execution_count": 7,
   "id": "c60d1643",
   "metadata": {},
   "outputs": [
    {
     "data": {
      "text/plain": [
       "<bound method DataFrame.info of         User-ID                            Location   Age\n",
       "0             1                  nyc, new york, usa   NaN\n",
       "1             2           stockton, california, usa  18.0\n",
       "2             3     moscow, yukon territory, russia   NaN\n",
       "3             4           porto, v.n.gaia, portugal  17.0\n",
       "4             5  farnborough, hants, united kingdom   NaN\n",
       "...         ...                                 ...   ...\n",
       "278853   278854               portland, oregon, usa   NaN\n",
       "278854   278855  tacoma, washington, united kingdom  50.0\n",
       "278855   278856           brampton, ontario, canada   NaN\n",
       "278856   278857           knoxville, tennessee, usa   NaN\n",
       "278857   278858                dublin, n/a, ireland   NaN\n",
       "\n",
       "[278858 rows x 3 columns]>"
      ]
     },
     "execution_count": 7,
     "metadata": {},
     "output_type": "execute_result"
    }
   ],
   "source": [
    "users.info"
   ]
  },
  {
   "cell_type": "code",
   "execution_count": 8,
   "id": "e41fe966",
   "metadata": {},
   "outputs": [
    {
     "data": {
      "text/plain": [
       "Index(['User-ID', 'Location', 'Age'], dtype='object')"
      ]
     },
     "execution_count": 8,
     "metadata": {},
     "output_type": "execute_result"
    }
   ],
   "source": [
    "# list of the column's names\n",
    "users.columns"
   ]
  },
  {
   "cell_type": "code",
   "execution_count": 9,
   "id": "831f21dd",
   "metadata": {},
   "outputs": [
    {
     "data": {
      "text/plain": [
       "User-ID          0\n",
       "Location         0\n",
       "Age         110762\n",
       "dtype: int64"
      ]
     },
     "execution_count": 9,
     "metadata": {},
     "output_type": "execute_result"
    }
   ],
   "source": [
    "# Looking for null datas\n",
    "users.isna().sum()"
   ]
  },
  {
   "cell_type": "markdown",
   "id": "e939d0f4",
   "metadata": {},
   "source": [
    "##  . _Data Cleaning_"
   ]
  },
  {
   "cell_type": "markdown",
   "id": "44fafe31",
   "metadata": {},
   "source": [
    "### _Column title_"
   ]
  },
  {
   "cell_type": "markdown",
   "id": "8ab63f7e",
   "metadata": {},
   "source": [
    "Clean the column name by removing the symbols, setting the names in the same format \n",
    "(lower case and replace space by _ etc...)"
   ]
  },
  {
   "cell_type": "code",
   "execution_count": 10,
   "id": "3fdef795",
   "metadata": {},
   "outputs": [],
   "source": [
    "users.columns = [column.lower().replace('-', '_') for column in users.columns]"
   ]
  },
  {
   "cell_type": "code",
   "execution_count": 11,
   "id": "6a9f60a9",
   "metadata": {},
   "outputs": [
    {
     "data": {
      "text/plain": [
       "['user_id', 'location', 'age']"
      ]
     },
     "execution_count": 11,
     "metadata": {},
     "output_type": "execute_result"
    }
   ],
   "source": [
    "# Check the column \n",
    "list(users.columns)"
   ]
  },
  {
   "cell_type": "code",
   "execution_count": 12,
   "id": "0e16f700",
   "metadata": {
    "scrolled": true
   },
   "outputs": [
    {
     "data": {
      "text/plain": [
       "user_id          0\n",
       "location         0\n",
       "age         110762\n",
       "dtype: int64"
      ]
     },
     "execution_count": 12,
     "metadata": {},
     "output_type": "execute_result"
    }
   ],
   "source": [
    "#null data \n",
    "users.isna().sum()"
   ]
  },
  {
   "cell_type": "code",
   "execution_count": 13,
   "id": "a767efa7",
   "metadata": {},
   "outputs": [
    {
     "name": "stdout",
     "output_type": "stream",
     "text": [
      "<class 'pandas.core.frame.DataFrame'>\n",
      "RangeIndex: 278858 entries, 0 to 278857\n",
      "Data columns (total 3 columns):\n",
      " #   Column    Non-Null Count   Dtype  \n",
      "---  ------    --------------   -----  \n",
      " 0   user_id   278858 non-null  int64  \n",
      " 1   location  278858 non-null  object \n",
      " 2   age       168096 non-null  float64\n",
      "dtypes: float64(1), int64(1), object(1)\n",
      "memory usage: 6.4+ MB\n"
     ]
    }
   ],
   "source": [
    "users.info()"
   ]
  },
  {
   "cell_type": "markdown",
   "id": "138528af",
   "metadata": {},
   "source": [
    "### _Location_"
   ]
  },
  {
   "cell_type": "markdown",
   "id": "350be46b",
   "metadata": {},
   "source": [
    "Extract data from column location in order to be able tuse later in EDA and machine learning."
   ]
  },
  {
   "cell_type": "code",
   "execution_count": 14,
   "id": "5546284f",
   "metadata": {},
   "outputs": [
    {
     "data": {
      "text/html": [
       "<div>\n",
       "<style scoped>\n",
       "    .dataframe tbody tr th:only-of-type {\n",
       "        vertical-align: middle;\n",
       "    }\n",
       "\n",
       "    .dataframe tbody tr th {\n",
       "        vertical-align: top;\n",
       "    }\n",
       "\n",
       "    .dataframe thead th {\n",
       "        text-align: right;\n",
       "    }\n",
       "</style>\n",
       "<table border=\"1\" class=\"dataframe\">\n",
       "  <thead>\n",
       "    <tr style=\"text-align: right;\">\n",
       "      <th></th>\n",
       "      <th>user_id</th>\n",
       "      <th>location</th>\n",
       "      <th>age</th>\n",
       "      <th>city</th>\n",
       "      <th>region</th>\n",
       "      <th>country</th>\n",
       "    </tr>\n",
       "  </thead>\n",
       "  <tbody>\n",
       "    <tr>\n",
       "      <th>0</th>\n",
       "      <td>1</td>\n",
       "      <td>nyc, new york, usa</td>\n",
       "      <td>NaN</td>\n",
       "      <td>nyc</td>\n",
       "      <td>new york</td>\n",
       "      <td>usa</td>\n",
       "    </tr>\n",
       "    <tr>\n",
       "      <th>1</th>\n",
       "      <td>2</td>\n",
       "      <td>stockton, california, usa</td>\n",
       "      <td>18.0</td>\n",
       "      <td>stockton</td>\n",
       "      <td>california</td>\n",
       "      <td>usa</td>\n",
       "    </tr>\n",
       "    <tr>\n",
       "      <th>2</th>\n",
       "      <td>3</td>\n",
       "      <td>moscow, yukon territory, russia</td>\n",
       "      <td>NaN</td>\n",
       "      <td>moscow</td>\n",
       "      <td>yukon territory</td>\n",
       "      <td>russia</td>\n",
       "    </tr>\n",
       "    <tr>\n",
       "      <th>3</th>\n",
       "      <td>4</td>\n",
       "      <td>porto, v.n.gaia, portugal</td>\n",
       "      <td>17.0</td>\n",
       "      <td>porto</td>\n",
       "      <td>v.n.gaia</td>\n",
       "      <td>portugal</td>\n",
       "    </tr>\n",
       "    <tr>\n",
       "      <th>4</th>\n",
       "      <td>5</td>\n",
       "      <td>farnborough, hants, united kingdom</td>\n",
       "      <td>NaN</td>\n",
       "      <td>farnborough</td>\n",
       "      <td>hants</td>\n",
       "      <td>united kingdom</td>\n",
       "    </tr>\n",
       "    <tr>\n",
       "      <th>...</th>\n",
       "      <td>...</td>\n",
       "      <td>...</td>\n",
       "      <td>...</td>\n",
       "      <td>...</td>\n",
       "      <td>...</td>\n",
       "      <td>...</td>\n",
       "    </tr>\n",
       "    <tr>\n",
       "      <th>278853</th>\n",
       "      <td>278854</td>\n",
       "      <td>portland, oregon, usa</td>\n",
       "      <td>NaN</td>\n",
       "      <td>portland</td>\n",
       "      <td>oregon</td>\n",
       "      <td>usa</td>\n",
       "    </tr>\n",
       "    <tr>\n",
       "      <th>278854</th>\n",
       "      <td>278855</td>\n",
       "      <td>tacoma, washington, united kingdom</td>\n",
       "      <td>50.0</td>\n",
       "      <td>tacoma</td>\n",
       "      <td>washington</td>\n",
       "      <td>united kingdom</td>\n",
       "    </tr>\n",
       "    <tr>\n",
       "      <th>278855</th>\n",
       "      <td>278856</td>\n",
       "      <td>brampton, ontario, canada</td>\n",
       "      <td>NaN</td>\n",
       "      <td>brampton</td>\n",
       "      <td>ontario</td>\n",
       "      <td>canada</td>\n",
       "    </tr>\n",
       "    <tr>\n",
       "      <th>278856</th>\n",
       "      <td>278857</td>\n",
       "      <td>knoxville, tennessee, usa</td>\n",
       "      <td>NaN</td>\n",
       "      <td>knoxville</td>\n",
       "      <td>tennessee</td>\n",
       "      <td>usa</td>\n",
       "    </tr>\n",
       "    <tr>\n",
       "      <th>278857</th>\n",
       "      <td>278858</td>\n",
       "      <td>dublin, n/a, ireland</td>\n",
       "      <td>NaN</td>\n",
       "      <td>dublin</td>\n",
       "      <td>n/a</td>\n",
       "      <td>ireland</td>\n",
       "    </tr>\n",
       "  </tbody>\n",
       "</table>\n",
       "<p>278858 rows × 6 columns</p>\n",
       "</div>"
      ],
      "text/plain": [
       "        user_id                            location   age         city  \\\n",
       "0             1                  nyc, new york, usa   NaN          nyc   \n",
       "1             2           stockton, california, usa  18.0     stockton   \n",
       "2             3     moscow, yukon territory, russia   NaN       moscow   \n",
       "3             4           porto, v.n.gaia, portugal  17.0        porto   \n",
       "4             5  farnborough, hants, united kingdom   NaN  farnborough   \n",
       "...         ...                                 ...   ...          ...   \n",
       "278853   278854               portland, oregon, usa   NaN     portland   \n",
       "278854   278855  tacoma, washington, united kingdom  50.0       tacoma   \n",
       "278855   278856           brampton, ontario, canada   NaN     brampton   \n",
       "278856   278857           knoxville, tennessee, usa   NaN    knoxville   \n",
       "278857   278858                dublin, n/a, ireland   NaN       dublin   \n",
       "\n",
       "                  region          country  \n",
       "0               new york              usa  \n",
       "1             california              usa  \n",
       "2        yukon territory           russia  \n",
       "3               v.n.gaia         portugal  \n",
       "4                  hants   united kingdom  \n",
       "...                  ...              ...  \n",
       "278853            oregon              usa  \n",
       "278854        washington   united kingdom  \n",
       "278855           ontario           canada  \n",
       "278856         tennessee              usa  \n",
       "278857               n/a          ireland  \n",
       "\n",
       "[278858 rows x 6 columns]"
      ]
     },
     "execution_count": 14,
     "metadata": {},
     "output_type": "execute_result"
    }
   ],
   "source": [
    "users['city']=users['location'].str.split(',').str[0]\n",
    "users['region']=users['location'].str.split(',').str[1]\n",
    "users['country']=users['location'].str.split(',').str[2]\n",
    "users"
   ]
  },
  {
   "cell_type": "code",
   "execution_count": 15,
   "id": "0b96616d",
   "metadata": {},
   "outputs": [
    {
     "data": {
      "text/plain": [
       "count     278856\n",
       "unique      1109\n",
       "top          usa\n",
       "freq      139187\n",
       "Name: country, dtype: object"
      ]
     },
     "execution_count": 15,
     "metadata": {},
     "output_type": "execute_result"
    }
   ],
   "source": [
    "users.country.describe()"
   ]
  },
  {
   "cell_type": "code",
   "execution_count": 16,
   "id": "abed6cb5",
   "metadata": {},
   "outputs": [
    {
     "data": {
      "text/plain": [
       " italy has no states or provinces         1\n",
       "leyte                                     1\n",
       " ticino                                   1\n",
       " bruselas                                 1\n",
       " worcester                                1\n",
       "                                      ...  \n",
       " spain                                13095\n",
       " germany                              17022\n",
       " united kingdom                       18286\n",
       " canada                               21558\n",
       " usa                                 139187\n",
       "Name: country, Length: 1109, dtype: int64"
      ]
     },
     "execution_count": 16,
     "metadata": {},
     "output_type": "execute_result"
    }
   ],
   "source": [
    "users['country'].value_counts(ascending=True)"
   ]
  },
  {
   "cell_type": "code",
   "execution_count": 32,
   "id": "f027d319",
   "metadata": {},
   "outputs": [],
   "source": [
    "users.country=users.country.astype(str)"
   ]
  },
  {
   "cell_type": "code",
   "execution_count": 33,
   "id": "72153c2b",
   "metadata": {},
   "outputs": [
    {
     "data": {
      "text/plain": [
       " usa                    139187\n",
       " canada                  21558\n",
       " united kingdom          18286\n",
       " germany                 17022\n",
       " spain                   13095\n",
       "                         ...  \n",
       " trentino alto adige         1\n",
       " bavaria                     1\n",
       " nwfp                        1\n",
       " usa now                     1\n",
       " united kindgdom             1\n",
       "Name: country, Length: 1110, dtype: int64"
      ]
     },
     "execution_count": 33,
     "metadata": {},
     "output_type": "execute_result"
    }
   ],
   "source": [
    "users['country'].value_counts(dropna=False)"
   ]
  },
  {
   "cell_type": "code",
   "execution_count": 60,
   "id": "101b54a8",
   "metadata": {},
   "outputs": [],
   "source": [
    "spec_chars = [\"!\",'\"',\"#\",\"%\",\"&\",\"'\",\"(\",\")\",\n",
    "              \"*\",\"+\",\",\",\"-\",\".\",\"/\",\":\",\";\",\"<\",\n",
    "              \"=\",\">\",\"?\",\"@\",\"[\",\"\\\\\",\"]\",\"^\",\"_\",\n",
    "              \"`\",\"{\",\"|\",\"}\",\"~\",\"–\"]\n",
    "for char in spec_chars:\n",
    "    users['country'] = users['country'].str.replace(char, ' ')"
   ]
  },
  {
   "cell_type": "code",
   "execution_count": 83,
   "id": "3e8a8a20",
   "metadata": {},
   "outputs": [
    {
     "name": "stdout",
     "output_type": "stream",
     "text": [
      "        user_id                            location   age         city  \\\n",
      "0             1                  nyc, new york, usa   NaN          nyc   \n",
      "1             2           stockton, california, usa  18.0     stockton   \n",
      "2             3     moscow, yukon territory, russia   NaN       moscow   \n",
      "3             4           porto, v.n.gaia, portugal  17.0        porto   \n",
      "4             5  farnborough, hants, united kingdom   NaN  farnborough   \n",
      "...         ...                                 ...   ...          ...   \n",
      "278853   278854               portland, oregon, usa   NaN     portland   \n",
      "278854   278855  tacoma, washington, united kingdom  50.0       tacoma   \n",
      "278855   278856           brampton, ontario, canada   NaN     brampton   \n",
      "278856   278857           knoxville, tennessee, usa   NaN    knoxville   \n",
      "278857   278858                dublin, n/a, ireland   NaN       dublin   \n",
      "\n",
      "                  region          country        usa_clean  \n",
      "0               new york              usa              usa  \n",
      "1             california              usa              usa  \n",
      "2        yukon territory           russia           russia  \n",
      "3               v.n.gaia         portugal         portugal  \n",
      "4                  hants   united kingdom   united kingdom  \n",
      "...                  ...              ...              ...  \n",
      "278853            oregon              usa              usa  \n",
      "278854        washington   united kingdom   united kingdom  \n",
      "278855           ontario           canada           canada  \n",
      "278856         tennessee              usa              usa  \n",
      "278857               n/a          ireland          ireland  \n",
      "\n",
      "[278858 rows x 7 columns]\n"
     ]
    }
   ],
   "source": [
    "users[\"country\"].replace({\"us\": \"usa\", \"united states\": \"usa\"}, inplace=True)\n",
    "print(users)"
   ]
  },
  {
   "cell_type": "code",
   "execution_count": 87,
   "id": "8001bcd5",
   "metadata": {},
   "outputs": [
    {
     "data": {
      "text/plain": [
       " usa                    139187\n",
       " canada                  21558\n",
       " united kingdom          18286\n",
       " germany                 17022\n",
       " spain                   13095\n",
       "                         ...  \n",
       " western cape                1\n",
       " whatcom                     1\n",
       " francisco morazan           1\n",
       " trentino alto adige         1\n",
       " united kindgdom             1\n",
       "Name: usa_clean, Length: 1101, dtype: int64"
      ]
     },
     "execution_count": 87,
     "metadata": {},
     "output_type": "execute_result"
    }
   ],
   "source": [
    "users['usa_clean'].value_counts()"
   ]
  },
  {
   "cell_type": "code",
   "execution_count": 57,
   "id": "9fb2036c",
   "metadata": {},
   "outputs": [
    {
     "data": {
      "text/plain": [
       "array([' usa', ' russia', ' portugal', ..., ' bkk', ' la svizzera',\n",
       "       ' hernando'], dtype=object)"
      ]
     },
     "execution_count": 57,
     "metadata": {},
     "output_type": "execute_result"
    }
   ],
   "source": [
    "users['country'].unique()"
   ]
  },
  {
   "cell_type": "code",
   "execution_count": 84,
   "id": "6969a12e",
   "metadata": {},
   "outputs": [],
   "source": [
    "def usa_clean(x):\n",
    "    if x.lower().startswith('us'):\n",
    "        return 'usa'\n",
    "    elif x.lower().startswith('united states'):\n",
    "        return 'usa'\n",
    "    elif x.lower().startswith('usa now'):\n",
    "        return 'usa'\n",
    "    elif x.lower().startswith('united sates'):\n",
    "        return 'usa'\n",
    "    elif x.lower().startswith('united staes'):\n",
    "        return 'usa'\n",
    "    elif x.lower().startswith('united sate'):\n",
    "        return 'usa'\n",
    "    elif x.lower().startswith('united states of america'):\n",
    "        return 'usa'\n",
    "    elif x.lower().startswith('u.s of a.'):\n",
    "        return 'usa'\n",
    "    elif x.lower().startswith('u.s of a.>'):\n",
    "        return 'usa'\n",
    "    elif x.lower().startswith('u.s.a.>'):\n",
    "        return 'usa'\n",
    "    elif x.lower().startswith('u.s>'):\n",
    "        return 'usa'\n",
    "    elif x.lower().startswith('us\"'):\n",
    "        return 'usa'\n",
    "    else:\n",
    "        return x\n",
    "users['country'] = users['country'].apply(usa_clean)"
   ]
  },
  {
   "cell_type": "code",
   "execution_count": 74,
   "id": "7962e516",
   "metadata": {},
   "outputs": [],
   "source": [
    "def clean_uk(x):\n",
    "    if str(x).lower().startswith('uk'):\n",
    "        return 'united kingdom'\n",
    "    elif str(x).lower().startswith('united kingdon'):\n",
    "        return 'united kingdom'\n",
    "    else:\n",
    "        return x"
   ]
  },
  {
   "cell_type": "code",
   "execution_count": 75,
   "id": "9b617455",
   "metadata": {},
   "outputs": [
    {
     "data": {
      "text/html": [
       "<div>\n",
       "<style scoped>\n",
       "    .dataframe tbody tr th:only-of-type {\n",
       "        vertical-align: middle;\n",
       "    }\n",
       "\n",
       "    .dataframe tbody tr th {\n",
       "        vertical-align: top;\n",
       "    }\n",
       "\n",
       "    .dataframe thead th {\n",
       "        text-align: right;\n",
       "    }\n",
       "</style>\n",
       "<table border=\"1\" class=\"dataframe\">\n",
       "  <thead>\n",
       "    <tr style=\"text-align: right;\">\n",
       "      <th></th>\n",
       "      <th>user_id</th>\n",
       "      <th>location</th>\n",
       "      <th>age</th>\n",
       "      <th>city</th>\n",
       "      <th>region</th>\n",
       "      <th>country</th>\n",
       "      <th>usa_clean</th>\n",
       "    </tr>\n",
       "  </thead>\n",
       "  <tbody>\n",
       "    <tr>\n",
       "      <th>0</th>\n",
       "      <td>1</td>\n",
       "      <td>nyc, new york, usa</td>\n",
       "      <td>NaN</td>\n",
       "      <td>nyc</td>\n",
       "      <td>new york</td>\n",
       "      <td>usa</td>\n",
       "      <td>usa</td>\n",
       "    </tr>\n",
       "    <tr>\n",
       "      <th>1</th>\n",
       "      <td>2</td>\n",
       "      <td>stockton, california, usa</td>\n",
       "      <td>18.0</td>\n",
       "      <td>stockton</td>\n",
       "      <td>california</td>\n",
       "      <td>usa</td>\n",
       "      <td>usa</td>\n",
       "    </tr>\n",
       "    <tr>\n",
       "      <th>2</th>\n",
       "      <td>3</td>\n",
       "      <td>moscow, yukon territory, russia</td>\n",
       "      <td>NaN</td>\n",
       "      <td>moscow</td>\n",
       "      <td>yukon territory</td>\n",
       "      <td>russia</td>\n",
       "      <td>russia</td>\n",
       "    </tr>\n",
       "    <tr>\n",
       "      <th>3</th>\n",
       "      <td>4</td>\n",
       "      <td>porto, v.n.gaia, portugal</td>\n",
       "      <td>17.0</td>\n",
       "      <td>porto</td>\n",
       "      <td>v.n.gaia</td>\n",
       "      <td>portugal</td>\n",
       "      <td>portugal</td>\n",
       "    </tr>\n",
       "    <tr>\n",
       "      <th>4</th>\n",
       "      <td>5</td>\n",
       "      <td>farnborough, hants, united kingdom</td>\n",
       "      <td>NaN</td>\n",
       "      <td>farnborough</td>\n",
       "      <td>hants</td>\n",
       "      <td>united kingdom</td>\n",
       "      <td>united kingdom</td>\n",
       "    </tr>\n",
       "    <tr>\n",
       "      <th>...</th>\n",
       "      <td>...</td>\n",
       "      <td>...</td>\n",
       "      <td>...</td>\n",
       "      <td>...</td>\n",
       "      <td>...</td>\n",
       "      <td>...</td>\n",
       "      <td>...</td>\n",
       "    </tr>\n",
       "    <tr>\n",
       "      <th>278853</th>\n",
       "      <td>278854</td>\n",
       "      <td>portland, oregon, usa</td>\n",
       "      <td>NaN</td>\n",
       "      <td>portland</td>\n",
       "      <td>oregon</td>\n",
       "      <td>usa</td>\n",
       "      <td>usa</td>\n",
       "    </tr>\n",
       "    <tr>\n",
       "      <th>278854</th>\n",
       "      <td>278855</td>\n",
       "      <td>tacoma, washington, united kingdom</td>\n",
       "      <td>50.0</td>\n",
       "      <td>tacoma</td>\n",
       "      <td>washington</td>\n",
       "      <td>united kingdom</td>\n",
       "      <td>united kingdom</td>\n",
       "    </tr>\n",
       "    <tr>\n",
       "      <th>278855</th>\n",
       "      <td>278856</td>\n",
       "      <td>brampton, ontario, canada</td>\n",
       "      <td>NaN</td>\n",
       "      <td>brampton</td>\n",
       "      <td>ontario</td>\n",
       "      <td>canada</td>\n",
       "      <td>canada</td>\n",
       "    </tr>\n",
       "    <tr>\n",
       "      <th>278856</th>\n",
       "      <td>278857</td>\n",
       "      <td>knoxville, tennessee, usa</td>\n",
       "      <td>NaN</td>\n",
       "      <td>knoxville</td>\n",
       "      <td>tennessee</td>\n",
       "      <td>usa</td>\n",
       "      <td>usa</td>\n",
       "    </tr>\n",
       "    <tr>\n",
       "      <th>278857</th>\n",
       "      <td>278858</td>\n",
       "      <td>dublin, n/a, ireland</td>\n",
       "      <td>NaN</td>\n",
       "      <td>dublin</td>\n",
       "      <td>n/a</td>\n",
       "      <td>ireland</td>\n",
       "      <td>ireland</td>\n",
       "    </tr>\n",
       "  </tbody>\n",
       "</table>\n",
       "<p>278858 rows × 7 columns</p>\n",
       "</div>"
      ],
      "text/plain": [
       "        user_id                            location   age         city  \\\n",
       "0             1                  nyc, new york, usa   NaN          nyc   \n",
       "1             2           stockton, california, usa  18.0     stockton   \n",
       "2             3     moscow, yukon territory, russia   NaN       moscow   \n",
       "3             4           porto, v.n.gaia, portugal  17.0        porto   \n",
       "4             5  farnborough, hants, united kingdom   NaN  farnborough   \n",
       "...         ...                                 ...   ...          ...   \n",
       "278853   278854               portland, oregon, usa   NaN     portland   \n",
       "278854   278855  tacoma, washington, united kingdom  50.0       tacoma   \n",
       "278855   278856           brampton, ontario, canada   NaN     brampton   \n",
       "278856   278857           knoxville, tennessee, usa   NaN    knoxville   \n",
       "278857   278858                dublin, n/a, ireland   NaN       dublin   \n",
       "\n",
       "                  region          country        usa_clean  \n",
       "0               new york              usa              usa  \n",
       "1             california              usa              usa  \n",
       "2        yukon territory           russia           russia  \n",
       "3               v.n.gaia         portugal         portugal  \n",
       "4                  hants   united kingdom   united kingdom  \n",
       "...                  ...              ...              ...  \n",
       "278853            oregon              usa              usa  \n",
       "278854        washington   united kingdom   united kingdom  \n",
       "278855           ontario           canada           canada  \n",
       "278856         tennessee              usa              usa  \n",
       "278857               n/a          ireland          ireland  \n",
       "\n",
       "[278858 rows x 7 columns]"
      ]
     },
     "execution_count": 75,
     "metadata": {},
     "output_type": "execute_result"
    }
   ],
   "source": [
    "users"
   ]
  },
  {
   "cell_type": "code",
   "execution_count": 36,
   "id": "d02269bb",
   "metadata": {},
   "outputs": [],
   "source": [
    "def canada_clean(x):\n",
    "    if x.lower().startswith('c'):\n",
    "        return 'canada'\n",
    "    elif x.lower().startswith('ca.'):\n",
    "        return 'canada'\n",
    "    elif x.lower().startswith('ca'):\n",
    "        return 'canada'\n",
    "    else:\n",
    "        return x"
   ]
  },
  {
   "cell_type": "code",
   "execution_count": 76,
   "id": "365a046a",
   "metadata": {},
   "outputs": [
    {
     "data": {
      "text/plain": [
       " usa                    139187\n",
       " canada                  21558\n",
       " united kingdom          18286\n",
       " germany                 17022\n",
       " spain                   13095\n",
       "                         ...  \n",
       " western cape                1\n",
       " whatcom                     1\n",
       " francisco morazan           1\n",
       " trentino alto adige         1\n",
       " united kindgdom             1\n",
       "Name: country, Length: 1101, dtype: int64"
      ]
     },
     "execution_count": 76,
     "metadata": {},
     "output_type": "execute_result"
    }
   ],
   "source": [
    "users['country'].value_counts()"
   ]
  },
  {
   "cell_type": "code",
   "execution_count": 85,
   "id": "08fa5ead",
   "metadata": {},
   "outputs": [],
   "source": [
    "users['usa_clean'] = users['country'].apply(usa_clean)"
   ]
  },
  {
   "cell_type": "code",
   "execution_count": 86,
   "id": "2d194218",
   "metadata": {},
   "outputs": [
    {
     "data": {
      "text/plain": [
       "count     278858\n",
       "unique      1101\n",
       "top          usa\n",
       "freq      139187\n",
       "Name: country, dtype: object"
      ]
     },
     "execution_count": 86,
     "metadata": {},
     "output_type": "execute_result"
    }
   ],
   "source": [
    "users.country.describe()"
   ]
  },
  {
   "cell_type": "code",
   "execution_count": 81,
   "id": "f7817691",
   "metadata": {},
   "outputs": [
    {
     "data": {
      "text/html": [
       "<div>\n",
       "<style scoped>\n",
       "    .dataframe tbody tr th:only-of-type {\n",
       "        vertical-align: middle;\n",
       "    }\n",
       "\n",
       "    .dataframe tbody tr th {\n",
       "        vertical-align: top;\n",
       "    }\n",
       "\n",
       "    .dataframe thead th {\n",
       "        text-align: right;\n",
       "    }\n",
       "</style>\n",
       "<table border=\"1\" class=\"dataframe\">\n",
       "  <thead>\n",
       "    <tr style=\"text-align: right;\">\n",
       "      <th></th>\n",
       "      <th>user_id</th>\n",
       "      <th>location</th>\n",
       "      <th>age</th>\n",
       "      <th>city</th>\n",
       "      <th>region</th>\n",
       "      <th>country</th>\n",
       "      <th>usa_clean</th>\n",
       "    </tr>\n",
       "  </thead>\n",
       "  <tbody>\n",
       "  </tbody>\n",
       "</table>\n",
       "</div>"
      ],
      "text/plain": [
       "Empty DataFrame\n",
       "Columns: [user_id, location, age, city, region, country, usa_clean]\n",
       "Index: []"
      ]
     },
     "execution_count": 81,
     "metadata": {},
     "output_type": "execute_result"
    }
   ],
   "source": [
    "users.loc[users.country == 'germany',:]"
   ]
  },
  {
   "cell_type": "code",
   "execution_count": 82,
   "id": "09e83a08",
   "metadata": {},
   "outputs": [
    {
     "data": {
      "text/html": [
       "<div>\n",
       "<style scoped>\n",
       "    .dataframe tbody tr th:only-of-type {\n",
       "        vertical-align: middle;\n",
       "    }\n",
       "\n",
       "    .dataframe tbody tr th {\n",
       "        vertical-align: top;\n",
       "    }\n",
       "\n",
       "    .dataframe thead th {\n",
       "        text-align: right;\n",
       "    }\n",
       "</style>\n",
       "<table border=\"1\" class=\"dataframe\">\n",
       "  <thead>\n",
       "    <tr style=\"text-align: right;\">\n",
       "      <th></th>\n",
       "      <th>user_id</th>\n",
       "      <th>location</th>\n",
       "      <th>age</th>\n",
       "      <th>city</th>\n",
       "      <th>region</th>\n",
       "      <th>country</th>\n",
       "      <th>usa_clean</th>\n",
       "    </tr>\n",
       "  </thead>\n",
       "  <tbody>\n",
       "  </tbody>\n",
       "</table>\n",
       "</div>"
      ],
      "text/plain": [
       "Empty DataFrame\n",
       "Columns: [user_id, location, age, city, region, country, usa_clean]\n",
       "Index: []"
      ]
     },
     "execution_count": 82,
     "metadata": {},
     "output_type": "execute_result"
    }
   ],
   "source": [
    "users.loc[(users.country == 'fairyland') | (users.country == '5057chadwick ct.'),:]"
   ]
  },
  {
   "cell_type": "markdown",
   "id": "7ba3e062",
   "metadata": {},
   "source": [
    "processing using text processing models."
   ]
  },
  {
   "cell_type": "markdown",
   "id": "1e90e234",
   "metadata": {},
   "source": [
    "### _Age_"
   ]
  },
  {
   "cell_type": "markdown",
   "id": "50781341",
   "metadata": {},
   "source": [
    "The age column has some invalid entries like nan, 0 and very high values like 100 and above."
   ]
  },
  {
   "cell_type": "code",
   "execution_count": 19,
   "id": "450432b6",
   "metadata": {},
   "outputs": [
    {
     "data": {
      "text/plain": [
       "<AxesSubplot:>"
      ]
     },
     "execution_count": 19,
     "metadata": {},
     "output_type": "execute_result"
    },
    {
     "data": {
      "image/png": "[encoded data removed]",
      "text/plain": [
       "<Figure size 720x504 with 1 Axes>"
      ]
     },
     "metadata": {
      "needs_background": "light"
     },
     "output_type": "display_data"
    }
   ],
   "source": [
    "plt.figure(figsize=(10, 7))\n",
    "users.age.hist(bins=40, color='teal')"
   ]
  },
  {
   "cell_type": "markdown",
   "id": "f0d9c8f9",
   "metadata": {},
   "source": [
    "Values below 5 and above 90 are not necessary in this case, so I am replacing them by NaNs.(replacing NaNs with mean, and then setting as int)."
   ]
  },
  {
   "cell_type": "code",
   "execution_count": 20,
   "id": "846687dc",
   "metadata": {},
   "outputs": [],
   "source": [
    "users.loc[(users.age > 90) | (users.age < 5), 'age'] = np.nan\n",
    "users.age = users.age.fillna(users.age.mean())\n",
    "users.age = users.age.astype(np.int32)"
   ]
  },
  {
   "cell_type": "code",
   "execution_count": 21,
   "id": "eaf0980e",
   "metadata": {},
   "outputs": [
    {
     "data": {
      "text/plain": [
       "<AxesSubplot:>"
      ]
     },
     "execution_count": 21,
     "metadata": {},
     "output_type": "execute_result"
    },
    {
     "data": {
      "image/png": "[encoded data removed]",
      "text/plain": [
       "<Figure size 720x504 with 1 Axes>"
      ]
     },
     "metadata": {
      "needs_background": "light"
     },
     "output_type": "display_data"
    }
   ],
   "source": [
    "plt.figure(figsize=(10, 7))\n",
    "users.age.hist(bins=40, color='teal')"
   ]
  },
  {
   "cell_type": "code",
   "execution_count": 22,
   "id": "6744ab1d",
   "metadata": {},
   "outputs": [
    {
     "data": {
      "text/plain": [
       "<AxesSubplot:xlabel='age'>"
      ]
     },
     "execution_count": 22,
     "metadata": {},
     "output_type": "execute_result"
    },
    {
     "data": {
      "image/png": "[encoded data removed]",
      "text/plain": [
       "<Figure size 720x504 with 1 Axes>"
      ]
     },
     "metadata": {
      "needs_background": "light"
     },
     "output_type": "display_data"
    }
   ],
   "source": [
    "plt.figure(figsize=(10, 7))\n",
    "sns.boxenplot(users.age, color='teal')"
   ]
  },
  {
   "cell_type": "markdown",
   "id": "02b85ebc",
   "metadata": {},
   "source": [
    "### _Drop unnecessary column_"
   ]
  },
  {
   "cell_type": "markdown",
   "id": "623b1ca0",
   "metadata": {},
   "source": [
    "Drop column which are not required :"
   ]
  },
  {
   "cell_type": "code",
   "execution_count": 69,
   "id": "3b160451",
   "metadata": {},
   "outputs": [],
   "source": [
    "users_final = users.drop(['location'],axis=1)"
   ]
  },
  {
   "cell_type": "markdown",
   "id": "1ba8c6a5",
   "metadata": {},
   "source": [
    "# 5  . Save data"
   ]
  },
  {
   "cell_type": "code",
   "execution_count": 24,
   "id": "b1eec367",
   "metadata": {},
   "outputs": [],
   "source": [
    "## Saving the new clean data set under 'users_final' as a new csv file.\n",
    "users.to_csv(r'C:\\Users\\ASUS\\Data Analytics\\Projects\\Recommended-Reading\\Working\\users_final.csv')"
   ]
  },
  {
   "cell_type": "code",
   "execution_count": null,
   "id": "5f06d5d0",
   "metadata": {},
   "outputs": [],
   "source": []
  }
 ],
 "metadata": {
  "kernelspec": {
   "display_name": "Python 3",
   "language": "python",
   "name": "python3"
  },
  "language_info": {
   "codemirror_mode": {
    "name": "ipython",
    "version": 3
   },
   "file_extension": ".py",
   "mimetype": "text/x-python",
   "name": "python",
   "nbconvert_exporter": "python",
   "pygments_lexer": "ipython3",
   "version": "3.8.8"
  },
  "toc": {
   "base_numbering": 1,
   "nav_menu": {},
   "number_sections": true,
   "sideBar": true,
   "skip_h1_title": true,
   "title_cell": "Table of Contents",
   "title_sidebar": "Contents",
   "toc_cell": false,
   "toc_position": {},
   "toc_section_display": true,
   "toc_window_display": true
  },
  "varInspector": {
   "cols": {
    "lenName": 16,
    "lenType": 16,
    "lenVar": 40
   },
   "kernels_config": {
    "python": {
     "delete_cmd_postfix": "",
     "delete_cmd_prefix": "del ",
     "library": "var_list.py",
     "varRefreshCmd": "print(var_dic_list())"
    },
    "r": {
     "delete_cmd_postfix": ") ",
     "delete_cmd_prefix": "rm(",
     "library": "var_list.r",
     "varRefreshCmd": "cat(var_dic_list()) "
    }
   },
   "types_to_exclude": [
    "module",
    "function",
    "builtin_function_or_method",
    "instance",
    "_Feature"
   ],
   "window_display": false
  }
 },
 "nbformat": 4,
 "nbformat_minor": 5
}
